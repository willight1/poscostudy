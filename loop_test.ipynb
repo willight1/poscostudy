{
 "cells": [
  {
   "cell_type": "markdown",
   "id": "a1985d6c",
   "metadata": {},
   "source": [
    "# 예제"
   ]
  },
  {
   "cell_type": "markdown",
   "id": "472060c3",
   "metadata": {},
   "source": [
    "### ✅ 1. 1부터 10까지 한줄로 출력하라.\n",
    "\n",
    "tip: print(i, end=' ')를 이용하자."
   ]
  },
  {
   "cell_type": "code",
   "execution_count": null,
   "id": "ab3dbb86",
   "metadata": {},
   "outputs": [],
   "source": []
  },
  {
   "cell_type": "markdown",
   "id": "1a29c6aa",
   "metadata": {},
   "source": [
    "### ✅ 2.아래와 같이 (4, 10)크기를 갖는 \\*을 찍어라.\n",
    "\n",
    "```\n",
    "**********\n",
    "**********\n",
    "**********\n",
    "**********\n",
    "```"
   ]
  },
  {
   "cell_type": "code",
   "execution_count": null,
   "id": "146c822e",
   "metadata": {},
   "outputs": [],
   "source": [
    "## 구현\n",
    "\n"
   ]
  },
  {
   "cell_type": "markdown",
   "id": "e630060d",
   "metadata": {},
   "source": [
    "### ✅ 3. 아래와 같이 아래로 내려갈수록 한칸씩 증가하도록 별을 찍어라.\n"
   ]
  },
  {
   "cell_type": "code",
   "execution_count": null,
   "id": "b90ba55a",
   "metadata": {},
   "outputs": [],
   "source": [
    "# 아래와 같은 숫자 피라미드와 별표로 구성된 피라미드를 만들어라. 단, 숫자는 1부터 시작하며, 한 줄마다 하나씩 증가한다. \n",
    "# ####### 피라미드의 크기 n은 사용자로부터 입력받는다.\n",
    "# 1\n",
    "# 1 2\n",
    "# 1 2 3\n",
    "# 1 2 3 4\n",
    "# ...\n",
    "# 1 2 3 4 ... n\n",
    "\n",
    "# *\n",
    "# **\n",
    "# ***\n",
    "# ****\n",
    "# ...\n",
    "# **** ... *\n",
    "\n",
    "# 구현"
   ]
  },
  {
   "cell_type": "code",
   "execution_count": null,
   "id": "5b37e13c",
   "metadata": {},
   "outputs": [],
   "source": [
    "# 구현\n"
   ]
  },
  {
   "cell_type": "markdown",
   "id": "08c8bd91",
   "metadata": {},
   "source": [
    "### ✅ 4. 아래와 층이 내려갈 수록 별이 하나씩 줄어드는 방식으로 별을 찍어라.\n",
    "\n",
    "```\n",
    "******\n",
    "*****\n",
    "****\n",
    "***\n",
    "**\n",
    "*\n",
    "```"
   ]
  },
  {
   "cell_type": "code",
   "execution_count": null,
   "id": "8da8abd8",
   "metadata": {},
   "outputs": [],
   "source": [
    "# 구현"
   ]
  },
  {
   "cell_type": "markdown",
   "id": "33dc4f55",
   "metadata": {},
   "source": [
    "### ✅ 5. 아래와 층이 내려갈 수록 별이 하나씩 줄어드는 방식으로 별을 찍어라.\n",
    "```\n",
    "*******\n",
    " *****\n",
    "  ***\n",
    "   *\n",
    "```"
   ]
  },
  {
   "cell_type": "code",
   "execution_count": null,
   "id": "89275204",
   "metadata": {},
   "outputs": [],
   "source": [
    "# 구현"
   ]
  },
  {
   "cell_type": "markdown",
   "id": "e580f708",
   "metadata": {},
   "source": [
    "### ✅ 6. 아래와 같이 다이아몬드 모양으로 별을 찍어라.\n",
    "\n",
    "```\n",
    "   *\n",
    "  ***\n",
    " *****\n",
    "*******\n",
    " *****\n",
    "  ***\n",
    "   *\n",
    "```"
   ]
  },
  {
   "cell_type": "code",
   "execution_count": null,
   "id": "9bff992e",
   "metadata": {},
   "outputs": [],
   "source": [
    "#구현"
   ]
  },
  {
   "cell_type": "markdown",
   "id": "de9ab7b8",
   "metadata": {},
   "source": [
    "### ✅ 7.주어진 입력 n이 소수인지 아닌지 판별하라.\n",
    "\n",
    "**소수**\n",
    "\n",
    "- 1이하의 수는 소수가 아니다.\n",
    "\n",
    "- 소수는 약수가 1과 자기 자신밖에 없는 수이다.\n",
    "- 2부터 \"자기 자신 - 1\" 까지는 나누어 떨이지지 않는다."
   ]
  },
  {
   "cell_type": "code",
   "execution_count": null,
   "id": "17d4a805",
   "metadata": {},
   "outputs": [],
   "source": [
    "def is_prime(n):\n",
    "    # 구현\n",
    "\n",
    "    return \n",
    "\n",
    "n = int(input(\"number 입력 : \"))\n",
    "# 구현"
   ]
  },
  {
   "cell_type": "markdown",
   "id": "8d835ab2",
   "metadata": {},
   "source": [
    "### ✅ 단어 추측 게임\n",
    "\n",
    "**문제 설명:**\n",
    "\n",
    "> 컴퓨터가 하나의 단어를 선택하여 숨깁니다. 사용자는 이 단어를 하나의 문자씩 추측합니다. 사용자가 입력한 문자가 단어에 포함되어 있으면, 해당 문자가 표시되고 그렇지 않으면 횟수를 잃습니다. 사용자가 주어진 횟수 내에 모든 문자를 맞추면 승리하고, 그렇지 않으면 패배합니다.\n",
    "\n",
    "**구체적인 조건:**\n",
    "\n",
    "- 컴퓨터는 단어 리스트에서 무작위로 하나의 단어를 선택합니다.\n",
    "- 사용자는 단어의 길이만큼 \"\\_\"로 표시된 빈칸을 보게 되며, 매번 한 글자를 추측합니다.\n",
    "- 사용자가 맞추지 못한 문자가 있으면 기회가 줄어듭니다.\n",
    "- 사용자가 모든 문자를 맞추면 게임이 종료되고 \"정답입니다!\"라는 메시지가 출력됩니다.\n",
    "- 주어진 기회 내에 단어를 맞추지 못하면 \"기회를 모두 사용하셨습니다. 정답은 [단어]입니다.\"가 출력됩니다."
   ]
  },
  {
   "cell_type": "code",
   "execution_count": null,
   "id": "95cdf0bb",
   "metadata": {},
   "outputs": [],
   "source": [
    "word_list = [\n",
    "    \"Apple\",\n",
    "    \"Elephant\",\n",
    "    \"Apple\",\n",
    "    \"Buffalo\",\n",
    "    \"Capture\",\n",
    "    \"Lantern\",\n",
    "    \"Mystery\",\n",
    "    \"Pirate\",\n",
    "    \"Volcano\",\n",
    "    \"Diamond\",\n",
    "    \"Theater\",\n",
    "    \"Journey\",\n",
    "    \"Galaxy\",\n",
    "    \"Octopus\",\n",
    "    \"Tremble\",\n",
    "    \"Blanket\",\n",
    "    \"Serpent\",\n",
    "    \"Network\",\n",
    "    \"Phoenix\",\n",
    "    \"Foreman\",\n",
    "    \"Pyramid\",\n",
    "    \"Sunrise\",\n",
    "    \"Fortress\",\n",
    "]"
   ]
  },
  {
   "cell_type": "code",
   "execution_count": null,
   "id": "e1f27ffc",
   "metadata": {},
   "outputs": [],
   "source": [
    "import sys\n",
    "import random\n",
    "\n",
    "selected_word = random.choice(word_list).lower()  # 단어 목록에서 무작위로 단어 선택\n",
    "\n",
    "\n",
    "guessed_word = [\"_\"] * len(selected_word)\n",
    "attempts = 10\n",
    "used_letters = []  # 사용한 글자 목록을 저장할 리스트\n",
    "\n",
    "print(\"단어를 맞춰보세요! 각 글자를 하나씩 추측하세요.\")\n",
    "print(\" \".join(guessed_word))\n",
    "\n",
    "while attempts > 0:\n",
    "    sys.stdout.flush()  # 출력 버퍼를 비웁니다.\n",
    "\n",
    "    # 구현\n",
    "\n",
    "else:\n",
    "    # 구현"
   ]
  }
 ],
 "metadata": {
  "kernelspec": {
   "display_name": ".venv",
   "language": "python",
   "name": "python3"
  },
  "language_info": {
   "name": "python",
   "version": "3.12.10"
  }
 },
 "nbformat": 4,
 "nbformat_minor": 5
}
