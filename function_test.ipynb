{
 "cells": [
  {
   "cell_type": "markdown",
   "metadata": {},
   "source": [
    "## 2. 함수의 기본\n",
    "\n",
    "문제\n",
    "\n",
    "1. welcome_message라는 함수를 정의하세요.\n",
    "2. 매개변수로 username(유저 이름)을 받습니다.\n",
    "3. 함수가 호출되면 \"안녕하세요, {username}님! 파이썬 함수에 오신 것을 환영합니다.\" 라고 출력하세요."
   ]
  },
  {
   "cell_type": "code",
   "execution_count": null,
   "metadata": {},
   "outputs": [
    {
     "name": "stdout",
     "output_type": "stream",
     "text": [
      "안녕하세요, 홍길동님! 파이썬 함수에 오신 것을 환영합니다.\n"
     ]
    }
   ],
   "source": [
    "# TODO: welcome_message 함수 정의\n",
    "# TODO: 함수 호출 예시\n",
    "# welcome_message(\"홍길동\") -> 안녕하세요, 홍길동님! 파이썬 함수에 오신 것을 환영합니다.\n",
    "\n",
    "def welcome_message(username):\n",
    "    # 구현\n",
    "\n",
    "# 함수 호출\n",
    "welcome_message(\"홍길동\")"
   ]
  },
  {
   "cell_type": "markdown",
   "metadata": {},
   "source": [
    "## 3. 매개변수와 기본값\n",
    "\n",
    "문제\n",
    "\n",
    "1. order_coffee 함수를 정의하세요.\n",
    "2. 매개변수로 coffee_type(커피 종류)과 size를 받으며, size의 기본값은 \"Regular\"입니다.\n",
    "3. 함수는 \"{size} 사이즈 {coffee_type} 커피가 주문되었습니다.\"를 출력합니다.\n",
    "4. 기본값을 테스트하기 위해, coffee_type만 넣어 호출한 결과와 coffee_type, size 둘 다 넣어 호출한 결과를 확인해보세요."
   ]
  },
  {
   "cell_type": "code",
   "execution_count": null,
   "metadata": {},
   "outputs": [
    {
     "name": "stdout",
     "output_type": "stream",
     "text": [
      "Regular 사이즈 아메리카노 커피가 주문되었습니다.\n",
      "Grande 사이즈 콜드브루 커피가 주문되었습니다.\n"
     ]
    }
   ],
   "source": [
    "# TODO: order_coffee 함수 정의\n",
    "# TODO: 함수 호출 예시\n",
    "# 1) order_coffee(\"아메리카노\") -> Regular 사이즈 아메리카노 커피가 주문되었습니다.\n",
    "# 2) order_coffee(\"라떼\", \"Large\") -> Large 사이즈 라떼 커피가 주문되었습니다.\n",
    "\n",
    "# 구현"
   ]
  },
  {
   "cell_type": "markdown",
   "metadata": {},
   "source": [
    "## 4. 여러 개의 입력값 처리하기\n",
    "\n",
    "문제 4-1 (*args)\n",
    "\n",
    "1. sum_all 함수를 정의하세요.\n",
    "2. 몇 개의 숫자가 들어올지 모르므로 *args를 사용하세요.\n",
    "3. 전달된 모든 숫자의 합을 계산하여 반환(return)하세요.\n",
    "4. 함수 호출 시, sum_all(1, 2, 3) → 6 / sum_all(10, 20, 30, 40) → 100 이 출력되는지 확인해보세요."
   ]
  },
  {
   "cell_type": "code",
   "execution_count": null,
   "metadata": {},
   "outputs": [
    {
     "name": "stdout",
     "output_type": "stream",
     "text": [
      "6\n",
      "100\n"
     ]
    }
   ],
   "source": [
    "# TODO: sum_all 함수 정의\n",
    "# TODO: 함수 호출 예시\n",
    "\n",
    "# 구현\n",
    "\n"
   ]
  },
  {
   "cell_type": "markdown",
   "metadata": {},
   "source": [
    "문제 4-2 (**kwargs)\n",
    "\n",
    "1. introduce_all 함수를 정의하세요.\n",
    "2. 이름(예: name=\"홍길동\"), 나이(예: age=20), 직업(예: job=\"학생\") 같은 키워드 인자를 **kwargs 형태로 받아옵니다.\n",
    "3. 모든 키워드와 값을 한 줄씩 출력하세요.\n",
    "    - 예: name: 홍길동 / age: 20 / job: 학생\n",
    "4. introduce_all(name=\"홍길동\", age=20, job=\"학생\")을 호출해보세요."
   ]
  },
  {
   "cell_type": "code",
   "execution_count": null,
   "metadata": {},
   "outputs": [
    {
     "name": "stdout",
     "output_type": "stream",
     "text": [
      "name: 홍길동\n",
      "age: 20\n",
      "job: 학생\n"
     ]
    }
   ],
   "source": [
    "# TODO: introduce_all 함수 정의\n",
    "# TODO: 함수 호출 예시\n",
    "\n",
    "# 구현"
   ]
  },
  {
   "cell_type": "markdown",
   "metadata": {},
   "source": [
    "## 5. 인자 전달 방식에서 자주 보는 오류\n",
    "\n",
    "문제 5-1 (SyntaxError 예제)\n",
    "다음 코드는 오류를 발생시킵니다. 왜 그런지 설명하고 올바른 코드로 수정해보세요."
   ]
  },
  {
   "cell_type": "code",
   "execution_count": null,
   "metadata": {},
   "outputs": [],
   "source": [
    "# 오류 예시\n",
    "def example(a, b=10, c):\n",
    "    return a + b + c\n",
    "\n",
    "# 호출\n",
    "print(example(1, 2, 3))\n"
   ]
  },
  {
   "cell_type": "markdown",
   "metadata": {},
   "source": [
    "풀이 가이드\n",
    "\n",
    "- b=10이라는 기본값이 있으면, 그 뒤에 오는 매개변수 c도 기본값이 있어야 합니다.\n",
    "- 또는 b를 기본값 없이 선언하고, c를 기본값으로 설정해도 됩니다."
   ]
  },
  {
   "cell_type": "code",
   "execution_count": null,
   "metadata": {},
   "outputs": [],
   "source": [
    "# 올바른 코드\n",
    "# 구현\n"
   ]
  },
  {
   "cell_type": "markdown",
   "metadata": {},
   "source": [
    "## 6. 언패킹\n",
    "\n",
    "문제 6-1 (리스트 언패킹)\n",
    "\n",
    "1. combine_strings 함수를 정의하고, 매개변수로 세 문자열(s1, s2, s3)을 받습니다.\n",
    "2. 함수 내부에서 \"s1 - s2 - s3\" 형태로 합친 문자열을 반환하세요.\n",
    "3. 리스트 [\"하나\", \"둘\", \"셋\"]을 언패킹하여 combine_strings(*[\"하나\", \"둘\", \"셋\"]) 식으로 호출해보세요."
   ]
  },
  {
   "cell_type": "code",
   "execution_count": null,
   "metadata": {},
   "outputs": [
    {
     "name": "stdout",
     "output_type": "stream",
     "text": [
      "하나-둘-셋\n"
     ]
    }
   ],
   "source": [
    "# TODO: combine_strings 정의\n",
    "# TODO: 리스트 언패킹을 통한 함수 호출\n",
    "\n",
    "# 구현"
   ]
  },
  {
   "cell_type": "markdown",
   "metadata": {},
   "source": [
    "문제 6-2 (딕셔너리 언패킹)\n",
    "\n",
    "1. print_info 함수를 정의하고, 매개변수로 name, age, country를 받습니다.\n",
    "2. \"이름: {name}, 나이: {age}, 국적: {country}\"를 출력해보세요.\n",
    "3. 딕셔너리 {\"name\": \"홍길동\", \"age\": 30, \"country\": \"Korea\"}를 언패킹하여 함수를 호출해보세요."
   ]
  },
  {
   "cell_type": "code",
   "execution_count": null,
   "metadata": {},
   "outputs": [
    {
     "name": "stdout",
     "output_type": "stream",
     "text": [
      "이름: 홍길동, 나이: 30, 국적: Korea\n"
     ]
    }
   ],
   "source": [
    "# TODO: print_info 함수 정의\n",
    "# TODO: dict 언패킹을 통한 함수 호출\n",
    "\n",
    "# 구현"
   ]
  },
  {
   "cell_type": "markdown",
   "metadata": {},
   "source": [
    "문제 7-1 (타입 힌트 & 간단 정적 검사)\n",
    "\n",
    "1. multiply_numbers 함수를 정의하고, 매개변수 a: int, b: int로 받습니다.\n",
    "2. 반환 타입도 int라고 명시하세요.\n",
    "3. 함수 내부에서 a * b 연산의 결과를 반환하세요.\n",
    "4. multiply_numbers(3, 4) 와 multiply_numbers(\"3\", 4)를 각각 실행했을 때의 차이를 확인해보세요. (런타임 에러는 없지만, mypy 등을 이용하면 정적 타입 검사에서 에러가 날 것입니다.)"
   ]
  },
  {
   "cell_type": "code",
   "execution_count": null,
   "metadata": {},
   "outputs": [],
   "source": [
    "# TODO: multiply_numbers 함수 정의 (타입 힌트)\n",
    "# TODO: 함수 호출 테스트\n",
    "\n",
    "# 구현\n"
   ]
  },
  {
   "cell_type": "markdown",
   "metadata": {},
   "source": [
    "## 8. 변수의 스코프\n",
    "문제 8-1 (global 키워드)\n",
    "\n",
    "1. 전역 변수 count를 0으로 초기화.\n",
    "2. increase_count 함수를 정의하고, 이 함수 내부에서 전역 변수 count를 1 증가시키세요.\n",
    "3. increase_count 함수를 여러 번 호출 후, 전역 변수 count를 출력해보세요."
   ]
  },
  {
   "cell_type": "code",
   "execution_count": null,
   "metadata": {},
   "outputs": [],
   "source": [
    "# TODO: 전역 변수 count\n",
    "# TODO: increase_count 함수 정의\n",
    "# TODO: 함수 여러 번 호출 후 count 확인\n",
    "\n",
    "# 구현\n"
   ]
  },
  {
   "cell_type": "markdown",
   "metadata": {},
   "source": [
    "## 9. 람다 함수\n",
    "\n",
    "문제 9-1 (정렬에서 람다 활용)\n",
    "\n",
    "1. 튜플들의 리스트 people = [(\"Bob\", 25), (\"Alice\", 30), (\"David\", 20)]가 있습니다.\n",
    "2. 나이를 기준으로 오름차순 정렬한 결과와, 이름을 기준으로 사전 순 정렬한 결과를 각각 출력하세요.\n",
    "3. 람다 함수를 key 인자로 사용하세요."
   ]
  },
  {
   "cell_type": "code",
   "execution_count": null,
   "metadata": {},
   "outputs": [],
   "source": [
    "# TODO: people 리스트를 나이, 이름 기준으로 각각 정렬\n",
    "# 출력 예:\n",
    "# 나이 기준: [('David', 20), ('Bob', 25), ('Alice', 30)]\n",
    "# 이름 기준: [('Alice', 30), ('Bob', 25), ('David', 20)]\n",
    "\n",
    "# 구현\n"
   ]
  },
  {
   "cell_type": "markdown",
   "metadata": {},
   "source": [
    "## 10. 함수 심화 주제\n",
    "(아래 문제들은 데코레이터, 클로저, 키워드 전용 인자 등 심화 기능을 다룹니다.)\n",
    "\n",
    "문제 10-1 (데코레이터 활용)\n",
    "\n",
    "1. time_logger라는 데코레이터 함수를 작성하세요.\n",
    "    - 데코레이터가 적용된 함수가 시작하기 전과 끝난 후의 시간을 기록하여, 실행에 걸린 시간을 출력합니다.\n",
    "2. 아래처럼 slow_function에 이 데코레이터를 적용하고, 함수 내부에서 time.sleep(2) 등을 사용해 일부러 지연시킨 뒤, 걸린 시간을 확인해보세요."
   ]
  },
  {
   "cell_type": "code",
   "execution_count": 5,
   "metadata": {},
   "outputs": [
    {
     "name": "stdout",
     "output_type": "stream",
     "text": [
      "[START] 시작 시간: 1738587255.363137\n",
      "함수 실행 완료\n",
      "[END] 종료 시간: 1738587257.3643584\n",
      "걸린 시간: 2.00초\n"
     ]
    }
   ],
   "source": [
    "import time\n",
    "\n",
    "def time_logger(func):\n",
    "    def wrapper(*args, **kwargs):\n",
    "        start = time.time()\n",
    "        print(\"[START] 시작 시간:\", start)\n",
    "        result = func(*args, **kwargs)\n",
    "        end = time.time()\n",
    "        print(\"[END] 종료 시간:\", end)\n",
    "        print(f\"걸린 시간: {end - start:.2f}초\")\n",
    "        return result\n",
    "    return wrapper\n",
    "\n",
    "@time_logger\n",
    "def slow_function():\n",
    "    time.sleep(2)\n",
    "    print(\"함수 실행 완료\")\n",
    "\n",
    "slow_function()\n"
   ]
  },
  {
   "cell_type": "markdown",
   "metadata": {},
   "source": [
    "문제 10-2 (클로저 활용)\n",
    "\n",
    "1. make_multiplier(n) 함수를 작성하세요.\n",
    "2. 내부 함수 mult(x)를 정의하고, x * n을 반환합니다.\n",
    "3. mult 함수를 반환하여 클로저를 만듭니다.\n",
    "4. times3 = make_multiplier(3) 등으로 생성한 함수가, times3(10) → 30 과 같이 올바르게 동작하는지 확인하세요."
   ]
  },
  {
   "cell_type": "code",
   "execution_count": 7,
   "metadata": {},
   "outputs": [
    {
     "name": "stdout",
     "output_type": "stream",
     "text": [
      "30\n"
     ]
    }
   ],
   "source": [
    "# TODO: make_multiplier 함수 정의 (클로저)\n",
    "# times3 = make_multiplier(3)\n",
    "# times5 = make_multiplier(5)\n",
    "# print(times3(10))  # 30\n",
    "# print(times5(10))  # 50\n",
    "\n",
    "def make_multiplier(n):\n",
    "    def mult(x):\n",
    "        return x*n\n",
    "    return mult\n",
    "\n",
    "time3= make_multiplier(3)\n",
    "\n",
    "print(time3(10))\n"
   ]
  },
  {
   "cell_type": "markdown",
   "metadata": {},
   "source": [
    "문제 10-3 (키워드 전용 인자)\n",
    "\n",
    "1. make_sentence(a, b, *, connector=\"and\") 함수를 정의하세요.\n",
    "2. a와 b는 위치 인자로 받을 수 있고, connector는 반드시 키워드 인자로만 전달해야 합니다.\n",
    "3. 함수는 \"{a} {connector} {b}\" 문자열을 반환합니다.\n",
    "4. 호출 예:\n",
    "    - make_sentence(\"apple\", \"banana\", connector=\"vs\") → \"apple vs banana\"\n",
    "    - make_sentence(\"hello\", \"world\") → \"hello and world\" (기본값 \"and\")"
   ]
  },
  {
   "cell_type": "code",
   "execution_count": 8,
   "metadata": {},
   "outputs": [
    {
     "name": "stdout",
     "output_type": "stream",
     "text": [
      "applevsbanana\n",
      "helloandworld\n"
     ]
    }
   ],
   "source": [
    "# TODO: make_sentence 함수 정의\n",
    "# TODO: 함수 호출 예시\n",
    "def make_sentence(a,b,*,connector=\"and\"):\n",
    "    return f\"{a}{connector}{b}\"\n",
    "\n",
    "print(make_sentence(\"apple\", \"banana\", connector=\"vs\"))\n",
    "print(make_sentence(\"hello\", \"world\")) "
   ]
  }
 ],
 "metadata": {
  "kernelspec": {
   "display_name": "base",
   "language": "python",
   "name": "python3"
  },
  "language_info": {
   "codemirror_mode": {
    "name": "ipython",
    "version": 3
   },
   "file_extension": ".py",
   "mimetype": "text/x-python",
   "name": "python",
   "nbconvert_exporter": "python",
   "pygments_lexer": "ipython3",
   "version": "3.12.4"
  }
 },
 "nbformat": 4,
 "nbformat_minor": 2
}
