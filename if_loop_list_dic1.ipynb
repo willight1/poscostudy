{
 "cells": [
  {
   "cell_type": "markdown",
   "id": "f7cf6fed",
   "metadata": {},
   "source": [
    "\n",
    "# 🔥 Python Starter Pack: 꼭 알아야 할 기초 문법 정리\n",
    "\n",
    "이 노트북은 초보자를 위한 핵심 파이썬 문법만 추려서 구성했습니다. 최소한 이 정도는 꼭 익혀두세요!\n",
    "\n",
    "---"
   ]
  },
  {
   "cell_type": "markdown",
   "id": "a9fd51d4",
   "metadata": {},
   "source": [
    "## 1️⃣ 변수와 자료형\n"
   ]
  },
  {
   "cell_type": "code",
   "execution_count": null,
   "id": "4fa077c7",
   "metadata": {},
   "outputs": [],
   "source": [
    "a = 3         # 숫자 변수\n",
    "name = \"Tom\"  # 문자열 변수\n",
    "is_happy = True  # 불 자료형 (True / False)"
   ]
  },
  {
   "cell_type": "markdown",
   "id": "79843800",
   "metadata": {},
   "source": [
    "- 숫자형: `int`, `float` (정수, 실수)\n",
    "- 문자열: `\"Hello\"`, `'Hi'`\n",
    "- 불형: `True`, `False`\n",
    "\n",
    "---"
   ]
  },
  {
   "cell_type": "markdown",
   "id": "ceadd5ff",
   "metadata": {},
   "source": [
    "## 2️⃣ 연산자"
   ]
  },
  {
   "cell_type": "code",
   "execution_count": null,
   "id": "96b3f443",
   "metadata": {},
   "outputs": [],
   "source": [
    "a + b     # 더하기\n",
    "a - b     # 빼기\n",
    "a * b     # 곱하기\n",
    "a / b     # 나누기 (실수)\n",
    "a // b    # 몫\n",
    "a % b     # 나머지\n",
    "a ** b    # 거듭제곱"
   ]
  },
  {
   "cell_type": "markdown",
   "id": "bce3c75c",
   "metadata": {},
   "source": [
    "---\n",
    "\n",
    "## 3️⃣ 조건문"
   ]
  },
  {
   "cell_type": "code",
   "execution_count": null,
   "id": "ad89802e",
   "metadata": {},
   "outputs": [],
   "source": [
    "x = 10\n",
    "\n",
    "if x > 0:\n",
    "    print(\"양수\")\n",
    "elif x == 0:\n",
    "    print(\"0\")\n",
    "else:\n",
    "    print(\"음수\")"
   ]
  },
  {
   "cell_type": "markdown",
   "id": "fc3d7a50",
   "metadata": {},
   "source": [
    "---\n",
    "\n",
    "## 4️⃣ 반복문"
   ]
  },
  {
   "cell_type": "markdown",
   "id": "205f35a0",
   "metadata": {},
   "source": [
    "### for문\n"
   ]
  },
  {
   "cell_type": "code",
   "execution_count": null,
   "id": "f52d770d",
   "metadata": {},
   "outputs": [],
   "source": [
    "for i in range(5):  # 0부터 4까지 반복\n",
    "    print(i)"
   ]
  },
  {
   "cell_type": "markdown",
   "id": "1e85ff5e",
   "metadata": {},
   "source": [
    "### while문"
   ]
  },
  {
   "cell_type": "code",
   "execution_count": null,
   "id": "03f2d8d8",
   "metadata": {},
   "outputs": [],
   "source": [
    "i = 0\n",
    "while i < 5:\n",
    "    print(i)\n",
    "    i += 1"
   ]
  },
  {
   "cell_type": "markdown",
   "id": "0656699f",
   "metadata": {},
   "source": [
    "---\n",
    "\n",
    "## 5️⃣ 리스트"
   ]
  },
  {
   "cell_type": "code",
   "execution_count": null,
   "id": "479c1eed",
   "metadata": {},
   "outputs": [],
   "source": [
    "fruits = [\"apple\", \"banana\", \"cherry\"]\n",
    "print(fruits[0])       # apple\n",
    "fruits.append(\"melon\") # 추가"
   ]
  },
  {
   "cell_type": "markdown",
   "id": "562bf0c0",
   "metadata": {},
   "source": [
    "---\n",
    "\n",
    "## 6️⃣ 딕셔너리"
   ]
  },
  {
   "cell_type": "code",
   "execution_count": null,
   "id": "0dfe4262",
   "metadata": {},
   "outputs": [],
   "source": [
    "person = {\"name\": \"Tom\", \"age\": 20}\n",
    "print(person[\"name\"])  # Tom"
   ]
  },
  {
   "cell_type": "markdown",
   "id": "791c0859",
   "metadata": {},
   "source": [
    "---\n",
    "\n",
    "## 7️⃣ 함수"
   ]
  },
  {
   "cell_type": "code",
   "execution_count": null,
   "id": "89b52c26",
   "metadata": {},
   "outputs": [],
   "source": [
    "def add(a, b):\n",
    "    return a + b\n",
    "\n",
    "print(add(3, 5))  # 8"
   ]
  },
  {
   "cell_type": "markdown",
   "id": "eb70ddfe",
   "metadata": {},
   "source": [
    "---\n",
    "\n",
    "## 8️⃣ 리스트 컴프리헨션"
   ]
  },
  {
   "cell_type": "code",
   "execution_count": null,
   "id": "70aacd2a",
   "metadata": {},
   "outputs": [],
   "source": [
    "nums = [1, 2, 3, 4, 5]\n",
    "even = [x for x in nums if x % 2 == 0]\n",
    "print(even)  # [2, 4]"
   ]
  },
  {
   "cell_type": "markdown",
   "id": "7a0172f9",
   "metadata": {},
   "source": [
    "---\n",
    "\n",
    "## 9️⃣ f-string (문자열 포맷)"
   ]
  },
  {
   "cell_type": "code",
   "execution_count": null,
   "id": "2b9b8954",
   "metadata": {},
   "outputs": [],
   "source": [
    "name = \"Tom\"\n",
    "age = 20\n",
    "print(f\"{name}은 {age}살입니다.\")  # Tom은 20살입니다."
   ]
  },
  {
   "cell_type": "markdown",
   "id": "8b24de7e",
   "metadata": {},
   "source": [
    "---\n",
    "\n",
    "## 🔟 예외처리"
   ]
  },
  {
   "cell_type": "code",
   "execution_count": null,
   "id": "766e55b2",
   "metadata": {},
   "outputs": [],
   "source": [
    "try:\n",
    "    print(1 / 0)\n",
    "except ZeroDivisionError:\n",
    "    print(\"0으로 나눌 수 없습니다\")"
   ]
  }
 ],
 "metadata": {
  "kernelspec": {
   "display_name": ".venv",
   "language": "python",
   "name": "python3"
  },
  "language_info": {
   "codemirror_mode": {
    "name": "ipython",
    "version": 3
   },
   "file_extension": ".py",
   "mimetype": "text/x-python",
   "name": "python",
   "nbconvert_exporter": "python",
   "pygments_lexer": "ipython3",
   "version": "3.12.10"
  }
 },
 "nbformat": 4,
 "nbformat_minor": 5
}
