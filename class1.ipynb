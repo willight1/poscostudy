{
 "cells": [
  {
   "cell_type": "markdown",
   "id": "625790c5",
   "metadata": {},
   "source": [
    "# 🧱 파이썬 클래스 기초부터 실전까지"
   ]
  },
  {
   "cell_type": "markdown",
   "id": "526368a5",
   "metadata": {},
   "source": [
    "이 노트북은 클래스에 대해 처음 배우는 초보자들을 위한 실습 중심 자료입니다."
   ]
  },
  {
   "cell_type": "markdown",
   "id": "71566a3d",
   "metadata": {},
   "source": [
    "## ✅ 1. 클래스란 무엇인가?"
   ]
  },
  {
   "cell_type": "markdown",
   "id": "af5fe4be",
   "metadata": {},
   "source": [
    "- 클래스는 '객체를 만들기 위한 설계도'입니다.\n",
    "- 예를 들어 붕어빵 틀(클래스)로 붕어빵(객체)을 찍어내듯, 클래스로 많은 객체를 만들 수 있어요.\n"
   ]
  },
  {
   "cell_type": "code",
   "execution_count": null,
   "id": "550f190c",
   "metadata": {},
   "outputs": [],
   "source": [
    "class Dog:\n",
    "    def bark(self):\n",
    "        print(\"멍멍!\")\n",
    "\n",
    "my_dog = Dog()\n",
    "my_dog.bark()\n"
   ]
  },
  {
   "cell_type": "markdown",
   "id": "48da2bbe",
   "metadata": {},
   "source": [
    "## ✅ 2. 생성자 `__init__` 이해하기"
   ]
  },
  {
   "cell_type": "markdown",
   "id": "57da29ea",
   "metadata": {},
   "source": [
    "- `__init__`은 객체가 만들어질 때 자동으로 실행되는 함수입니다.\n",
    "- 객체마다 가지고 있어야 할 정보를 처음에 저장해둘 수 있어요.\n"
   ]
  },
  {
   "cell_type": "code",
   "execution_count": null,
   "id": "8f176fb1",
   "metadata": {},
   "outputs": [],
   "source": [
    "class Dog:\n",
    "    def __init__(self, name):\n",
    "        self.name = name\n",
    "\n",
    "    def bark(self):\n",
    "        print(f\"{self.name}가 멍멍 짖습니다!\")\n",
    "\n",
    "dog1 = Dog(\"초코\")\n",
    "dog1.bark()\n"
   ]
  },
  {
   "cell_type": "markdown",
   "id": "eb74b4fb",
   "metadata": {},
   "source": [
    "## ✅ 3. self는 왜 필요할까?"
   ]
  },
  {
   "cell_type": "markdown",
   "id": "d14c8b0d",
   "metadata": {},
   "source": [
    "- `self`는 '이 객체 자기 자신'을 가리킵니다.\n",
    "- 클래스 내부 함수는 항상 `self`를 첫 번째 인자로 받아야 하고, 속성에도 `self.`를 붙여야 해요.\n"
   ]
  },
  {
   "cell_type": "code",
   "execution_count": null,
   "id": "4631f57e",
   "metadata": {},
   "outputs": [],
   "source": [
    "class Student:\n",
    "    def __init__(self, name):\n",
    "        self.name = name  # self.name은 이 객체가 갖는 속성\n",
    "\n",
    "    def introduce(self):\n",
    "        print(f\"안녕하세요, 저는 {self.name}입니다.\")\n",
    "\n",
    "s1 = Student(\"지민\")\n",
    "s1.introduce()\n"
   ]
  },
  {
   "cell_type": "markdown",
   "id": "e6840861",
   "metadata": {},
   "source": [
    "## ✅ 4. 여러 속성 저장하고 출력하기"
   ]
  },
  {
   "cell_type": "code",
   "execution_count": null,
   "id": "e61fcea8",
   "metadata": {},
   "outputs": [],
   "source": [
    "class Book:\n",
    "    def __init__(self, title, author):\n",
    "        self.title = title\n",
    "        self.author = author\n",
    "\n",
    "    def info(self):\n",
    "        print(f\"제목: {self.title}, 저자: {self.author}\")\n",
    "\n",
    "book1 = Book(\"파이썬 배우기\", \"홍길동\")\n",
    "book1.info()\n"
   ]
  },
  {
   "cell_type": "markdown",
   "id": "45b98de9",
   "metadata": {},
   "source": [
    "## ✅ 5. 메서드에서 연산/계산하기"
   ]
  },
  {
   "cell_type": "code",
   "execution_count": null,
   "id": "1ca9467a",
   "metadata": {},
   "outputs": [],
   "source": [
    "class Rectangle:\n",
    "    def __init__(self, width, height):\n",
    "        self.width = width\n",
    "        self.height = height\n",
    "\n",
    "    def area(self):\n",
    "        return self.width * self.height\n",
    "\n",
    "    def perimeter(self):\n",
    "        return 2 * (self.width + self.height)\n",
    "\n",
    "r = Rectangle(4, 6)\n",
    "print(\"넓이:\", r.area())\n",
    "print(\"둘레:\", r.perimeter())\n"
   ]
  }
 ],
 "metadata": {},
 "nbformat": 4,
 "nbformat_minor": 5
}