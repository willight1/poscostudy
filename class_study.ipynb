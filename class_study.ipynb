{
 "cells": [
  {
   "cell_type": "markdown",
   "id": "393e859c",
   "metadata": {},
   "source": [
    "# 1. 클래스(Class)와 함수\n",
    "\n",
    "클래스는 객체(object)를 생성하기 위한 청사진(blueprint) 역할을 합니다.\n",
    "객체는 클래스로부터 만들어지는 실체이며, 이때 함수를 클래스 내부에 정의하면 메서드(Method)라고 부릅니다.\n",
    "\n",
    "---\n",
    "## 1.1 클래스 기본 구조\n",
    "\n",
    "<img width=\"700\" alt=\"class_structure\" src=\"https://github.com/user-attachments/assets/6d957f7b-1170-4ed5-b19c-7fdb0be2b998\">\n",
    "\n",
    "1. class 키워드: 클래스를 정의할 때 사용.\n",
    "2. 클래스명: 보통 파스칼 케이스(PascalCase)로 작성 (ex: MyClass).\n",
    "3. 생성자(init): 인스턴스가 생성될 때 자동으로 호출되는 메서드.\n",
    "4. self: 메서드가 호출된 객체 자신을 가리키는 키워드.\n",
    "   - 모든 인스턴스 메서드의 첫 번째 매개변수로 들어가며, 파이썬이 내부적으로 관리합니다.\n",
    "5. 인스턴스 변수: self.name, self.age 처럼 self를 사용해 정의한 변수. 각각의 객체마다 독립적으로 존재합니다.\n",
    "6. 메서드: 클래스 내부에서 정의된 함수. 객체가 수행할 수 있는 동작을 정의합니다.\n",
    "\n",
    "클래스 Dog 예시\n"
   ]
  },
  {
   "cell_type": "code",
   "execution_count": 1,
   "id": "0ae18324",
   "metadata": {},
   "outputs": [
    {
     "name": "stdout",
     "output_type": "stream",
     "text": [
      "Dog 인스턴스 객체가 생성되었습니다\n",
      "Dog 인스턴스 객체가 생성되었습니다\n",
      "Buddy\n",
      "Lucy\n",
      "Poodle\n",
      "Buddy says Woof! \n",
      "4\n",
      "28\n",
      "5\n"
     ]
    }
   ],
   "source": [
    "class Dog:\n",
    "    # 초기화 메서드(생성자)\n",
    "    def __init__(self, name, age):\n",
    "        print(\"Dog 인스턴스 객체가 생성되었습니다\")\n",
    "        self.name = name  # 인스턴스 변수\n",
    "        self.age = age    # 인스턴스 변수\n",
    "        self.dog_type = \"Poodle\"\n",
    "\n",
    "    # 메서드\n",
    "    def bark(self, n):\n",
    "        \"\"\"강아지가 n번 짖는 동작을 표현하는 메서드\"\"\"\n",
    "        return f\"{self.name} says Woof! \" * n\n",
    "\n",
    "    def get_dog_age(self):\n",
    "        \"\"\"강아지의 실제 나이를 반환\"\"\"\n",
    "        return self.age\n",
    "\n",
    "    def get_human_age(self):\n",
    "        \"\"\"강아지 나이를 인간 기준으로 환산(예: 7배)\"\"\"\n",
    "        return self.age * 7\n",
    "\n",
    "    def add_age(self):\n",
    "        \"\"\"강아지 나이를 1살 증가\"\"\"\n",
    "        self.age += 1\n",
    "\n",
    "    def get_type(self):\n",
    "        \"\"\"강아지의 품종 정보를 출력\"\"\"\n",
    "        print(self.dog_type)\n",
    "\n",
    "\n",
    "# 객체 생성\n",
    "robin_dog = Dog(\"Buddy\", 4)       # Dog 클래스의 인스턴스\n",
    "matthew_dog = Dog(\"Lucy\", 2)      # Dog 클래스의 또 다른 인스턴스\n",
    "\n",
    "# 인스턴스 변수 접근\n",
    "print(robin_dog.name)             # \"Buddy\"\n",
    "print(matthew_dog.name)           # \"Lucy\"\n",
    "\n",
    "# 메서드 호출\n",
    "matthew_dog.get_type()            # Poodle\n",
    "\n",
    "print(robin_dog.bark(1))          # Buddy says Woof!\n",
    "print(robin_dog.get_dog_age())    # 4\n",
    "print(robin_dog.get_human_age())  # 28 (4 * 7)\n",
    "robin_dog.add_age()               # 나이 1 살 증가\n",
    "print(robin_dog.get_dog_age())    # 5\n"
   ]
  },
  {
   "cell_type": "markdown",
   "id": "7ade4f91",
   "metadata": {},
   "source": [
    "---\n",
    "### 주요 개념 정리\n",
    "\n",
    "1. self\n",
    "\n",
    "   - 메서드가 호출된 객체를 가리킵니다.\n",
    "   - self.name처럼, 각각의 객체가 고유한 인스턴스 변수를 갖도록 도와줍니다.\n",
    "\n",
    "2. 인스턴스 변수 (예: self.name, self.age)\n",
    "   - 같은 클래스로부터 생성된 객체라도, 서로 다른 값을 가질 수 있습니다.\n",
    "3. 객체(Object)와 인스턴스(Instance)\n",
    "   - 객체: 클래스로부터 생성된 실체\n",
    "   - 인스턴스: 특정 클래스에 의해 만들어진 객체를 가리키는 말\n",
    "   - 대부분의 경우 ‘객체’와 ‘인스턴스’는 비슷한 의미로 쓰이지만, 개념적으로 구분하는 것이 좋습니다."
   ]
  },
  {
   "cell_type": "markdown",
   "id": "e926bc33",
   "metadata": {},
   "source": [
    "---\n",
    "## 1.2 클래스 상속(Inheritance)\n",
    "\n",
    "상속은 기존 클래스(부모 클래스, 슈퍼 클래스)의 기능을 물려받아 새로운 클래스(자식 클래스, 서브 클래스)를 만드는 기법입니다.\n",
    "\n",
    "장점: 코드 재사용이 용이하고, 확장이 쉽습니다."
   ]
  },
  {
   "cell_type": "code",
   "execution_count": null,
   "id": "9b87ede0",
   "metadata": {},
   "outputs": [],
   "source": [
    "class Puppy(Dog):  # Dog 클래스를 상속받음\n",
    "    def play(self):\n",
    "        return f\"{self.name} is playing!\"\n",
    "\n",
    "\n",
    "my_puppy = Puppy(\"Max\", 1)\n",
    "print(my_puppy.bark(2))   # 상위 클래스 Dog의 메서드를 그대로 사용\n",
    "print(my_puppy.play())    # Puppy 클래스에 새로 정의된 메서드\n"
   ]
  },
  {
   "cell_type": "markdown",
   "id": "238a0466",
   "metadata": {},
   "source": [
    "- class Puppy(Dog): 구문은 Puppy 클래스가 Dog 클래스를 상속한다는 의미입니다.\n",
    "- my_puppy 인스턴스는 bark() 같은 Dog의 메서드도 사용할 수 있고, play()라는 Puppy 전용 메서드도 사용할 수 있습니다.\n"
   ]
  },
  {
   "cell_type": "markdown",
   "id": "2ece16f5",
   "metadata": {},
   "source": [
    "---\n",
    "## 1.3 클래스와 함수, 어떤 관계인가?\n",
    "\n",
    "- 클래스 내부에 정의된 함수는 메서드라고 부릅니다.\n",
    "- 일반 함수(def)와 달리, **메서드는 반드시 첫 번째 매개변수로 self**를 갖습니다(인스턴스 메서드의 경우).\n",
    "- 함수는 언제든 호출할 수 있지만, 메서드는 해당 객체(인스턴스)를 통해서만 호출됩니다.\n"
   ]
  },
  {
   "cell_type": "code",
   "execution_count": null,
   "id": "63e31857",
   "metadata": {},
   "outputs": [],
   "source": [
    "def standalone_function(x, y):\n",
    "    return x + y\n",
    "\n",
    "class MathClass:\n",
    "    def __init__(self, base):\n",
    "        self.base = base\n",
    "    \n",
    "    def add_to_base(self, value):\n",
    "        return self.base + value\n",
    "\n",
    "m = MathClass(10)\n",
    "print(m.add_to_base(5))  # 10 + 5 = 15\n"
   ]
  },
  {
   "cell_type": "markdown",
   "id": "3f949225",
   "metadata": {},
   "source": [
    "- 함수와 클래스는 서로 다른 개념이지만, 필요에 따라 함수를 클래스 내부(메서드) 혹은 외부에 정의해 사용할 수 있습니다."
   ]
  },
  {
   "cell_type": "code",
   "execution_count": null,
   "id": "9b5169da",
   "metadata": {},
   "outputs": [],
   "source": [
    "class Example:\n",
    "    class_variable = 0\n",
    "\n",
    "    @classmethod\n",
    "    def set_class_variable(self, cls, value):\n",
    "        cls.class_variable = value\n",
    "\n",
    "    @staticmethod\n",
    "    def static_method_info():\n",
    "        print(\"이 메서드는 객체나 클래스에 의존하지 않는 로직을 담당합니다.\")\n",
    "\n",
    "\n",
    "my_class = Example()\n",
    "my_class2 = Example()"
   ]
  },
  {
   "cell_type": "markdown",
   "id": "2a338c05",
   "metadata": {},
   "source": [
    "---\n",
    "## 1.4 정리\n",
    "\n",
    "- 클래스(Class): 객체를 만들기 위한 설계도\n",
    "- 객체(Object): 클래스로부터 만들어진 실체\n",
    "- 메서드(Method): 클래스 내부에 정의된 함수 (첫 번째 매개변수로 보통 self 사용)\n",
    "- 인스턴스 변수: self.변수명 형태로 각 객체마다 별도로 관리되는 값\n",
    "- 상속: 코드 재사용성을 높이기 위해 클래스 간 계층 구조를 형성하는 기법\n",
    "\n",
    "클래스를 통해 객체지향 프로그래밍(OOP)의 특징인 캡슐화, 상속, 다형성 등을 효과적으로 구현할 수 있습니다. 실제로 사용 예제를 많이 작성해보며, 클래스와 함수를 어떻게 구조화할지 고민해보는 것이 중요합니다."
   ]
  },
  {
   "cell_type": "markdown",
   "id": "dd4eeda9",
   "metadata": {},
   "source": [
    "---\n",
    "###  클래스 코드 흐름 이해하기 (정리)\n",
    "\n",
    "###  흐름 요약\n",
    "\n",
    "1. `class` 키워드로 클래스를 정의합니다. (설계도 만들기)\n",
    "2. `__init__` 생성자를 통해 객체가 만들어질 때 속성이 저장됩니다.\n",
    "3. 객체를 변수에 담습니다. (예: `person1 = Person(\"지민\", 25)`)\n",
    "4. 객체를 통해 메서드를 호출합니다. (`person1.introduce()`)\n",
    "5. `self`는 해당 객체 자신을 뜻하며, 메서드 내부에서 속성에 접근할 때 사용됩니다.\n",
    "6. 출력이나 계산 등은 메서드 안에서 처리되어 실행됩니다.\n"
   ]
  }
 ],
 "metadata": {
  "kernelspec": {
   "display_name": ".venv",
   "language": "python",
   "name": "python3"
  },
  "language_info": {
   "codemirror_mode": {
    "name": "ipython",
    "version": 3
   },
   "file_extension": ".py",
   "mimetype": "text/x-python",
   "name": "python",
   "nbconvert_exporter": "python",
   "pygments_lexer": "ipython3",
   "version": "3.12.10"
  }
 },
 "nbformat": 4,
 "nbformat_minor": 5
}
