{
 "cells": [
  {
   "cell_type": "markdown",
   "id": "98de6e70",
   "metadata": {},
   "source": [
    "🧪 클래스 연습 문제\n",
    "\n",
    "✅ 문제 1. Dog 클래스 만들기\n",
    "\n",
    "요구사항\n",
    "\n",
    "Dog라는 클래스를 만든다.\n",
    "\n",
    "name(이름), age(나이)를 저장한다.\n",
    "\n",
    "bark() 메서드를 만들어 \"멍멍! 제 이름은 [이름]이에요!\"를 출력한다.\n",
    "\n",
    "객체를 생성하고 bark()를 호출하라.\n",
    "\n"
   ]
  },
  {
   "cell_type": "code",
   "execution_count": null,
   "id": "c80900e9",
   "metadata": {
    "vscode": {
     "languageId": "plaintext"
    }
   },
   "outputs": [],
   "source": []
  },
  {
   "cell_type": "markdown",
   "id": "33ce4b5c",
   "metadata": {},
   "source": [
    "\n",
    "✅ 문제 2. Student 클래스 만들기\n",
    "\n",
    "요구사항\n",
    "\n",
    "Student 클래스에는 name, grade, score가 있다.\n",
    "\n",
    "get_info() 메서드는 \"이름: ㅇㅇ / 학년: ㅇㅇ / 점수: ㅇㅇ\" 형식으로 출력한다.\n",
    "\n",
    "학생 객체를 만들어 get_info()로 출력하라.\n"
   ]
  },
  {
   "cell_type": "code",
   "execution_count": null,
   "id": "52e67274",
   "metadata": {
    "vscode": {
     "languageId": "plaintext"
    }
   },
   "outputs": [],
   "source": []
  },
  {
   "cell_type": "markdown",
   "id": "2df61eee",
   "metadata": {},
   "source": [
    "✅ 문제 3. Rectangle 클래스 만들기\n",
    "\n",
    "요구사항\n",
    "\n",
    "Rectangle 클래스는 width, height 속성을 가진다.\n",
    "\n",
    "area() 메서드는 넓이(가로 × 세로)를 계산해 리턴한다.\n",
    "\n",
    "perimeter() 메서드는 둘레(2×(가로+세로))를 리턴한다.\n",
    "\n",
    "직접 객체를 만들고 넓이와 둘레를 구해보라.\n",
    "\n"
   ]
  },
  {
   "cell_type": "code",
   "execution_count": null,
   "id": "94b4aac0",
   "metadata": {
    "vscode": {
     "languageId": "plaintext"
    }
   },
   "outputs": [],
   "source": []
  },
  {
   "cell_type": "markdown",
   "id": "3971a53b",
   "metadata": {},
   "source": [
    "\n",
    "\n",
    "\n",
    "✅ 문제 4. BankAccount 클래스 만들기\n",
    "\n",
    "요구사항\n",
    "\n",
    "BankAccount 클래스에는 owner, balance 속성이 있다.\n",
    "\n",
    "deposit(amount): 잔액에 amount를 더함\n",
    "\n",
    "withdraw(amount): 잔액에서 amount를 뺌\n",
    "\n",
    "check_balance(): 현재 잔액을 출력함\n",
    "\n",
    "입금과 출금, 잔액 조회를 각각 수행해보라.\n"
   ]
  },
  {
   "cell_type": "code",
   "execution_count": null,
   "id": "3acf3b42",
   "metadata": {
    "vscode": {
     "languageId": "plaintext"
    }
   },
   "outputs": [],
   "source": []
  },
  {
   "cell_type": "markdown",
   "id": "bc40e782",
   "metadata": {},
   "source": [
    "\n",
    "✅ 문제 5. Counter 클래스 만들기 (내부 상태 변화 연습)\n",
    "\n",
    "\n",
    "요구사항\n",
    "\n",
    "Counter 클래스는 내부에 숫자 count를 저장한다.\n",
    "\n",
    "increase(): 1 증가\n",
    "\n",
    "decrease(): 1 감소\n",
    "\n",
    "reset(): 0으로 초기화\n",
    "\n",
    "show(): 현재 값을 출력\n",
    "\n",
    "함수들을 여러 번 호출해보며 상태 변화 확인"
   ]
  }
 ],
 "metadata": {
  "language_info": {
   "name": "python"
  }
 },
 "nbformat": 4,
 "nbformat_minor": 5
}
