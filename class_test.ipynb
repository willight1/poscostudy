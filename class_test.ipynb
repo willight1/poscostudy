{
 "cells": [
  {
   "cell_type": "markdown",
   "id": "98de6e70",
   "metadata": {},
   "source": [
    "## 🧪 클래스 연습 문제\n",
    "\n",
    "### ✅ 문제 1. Dog 클래스 만들기\n",
    "\n",
    "요구사항\n",
    "\n",
    "Dog라는 클래스를 만든다.\n",
    "\n",
    "name(이름), age(나이)를 저장한다.\n",
    "\n",
    "bark() 메서드를 만들어 \"멍멍! 제 이름은 [이름]이에요!\"를 출력한다.\n",
    "\n",
    "객체를 생성하고 bark()를 호출하라.\n",
    "\n"
   ]
  },
  {
   "cell_type": "code",
   "execution_count": null,
   "id": "c80900e9",
   "metadata": {},
   "outputs": [],
   "source": []
  },
  {
   "cell_type": "markdown",
   "id": "33ce4b5c",
   "metadata": {},
   "source": [
    "\n",
    "### ✅ 문제 2. Student 클래스 만들기\n",
    "\n",
    "요구사항\n",
    "\n",
    "Student 클래스에는 name, grade, score가 있다.\n",
    "\n",
    "get_info() 메서드는 \"이름: ㅇㅇ / 학년: ㅇㅇ / 점수: ㅇㅇ\" 형식으로 출력한다.\n",
    "\n",
    "학생 객체를 만들어 get_info()로 출력하라.\n"
   ]
  },
  {
   "cell_type": "code",
   "execution_count": null,
   "id": "52e67274",
   "metadata": {},
   "outputs": [],
   "source": []
  },
  {
   "cell_type": "markdown",
   "id": "2df61eee",
   "metadata": {},
   "source": [
    "### ✅ 문제 3. Rectangle 클래스 만들기\n",
    "\n",
    "요구사항\n",
    "\n",
    "Rectangle 클래스는 width, height 속성을 가진다.\n",
    "\n",
    "area() 메서드는 넓이(가로 × 세로)를 계산해 리턴한다.\n",
    "\n",
    "perimeter() 메서드는 둘레(2×(가로+세로))를 리턴한다.\n",
    "\n",
    "직접 객체를 만들고 넓이와 둘레를 구해보라.\n",
    "\n"
   ]
  },
  {
   "cell_type": "code",
   "execution_count": null,
   "id": "94b4aac0",
   "metadata": {},
   "outputs": [],
   "source": []
  },
  {
   "cell_type": "markdown",
   "id": "3971a53b",
   "metadata": {},
   "source": [
    "\n",
    "\n",
    "\n",
    "### ✅ 문제 4. BankAccount 클래스 만들기\n",
    "\n",
    "요구사항\n",
    "\n",
    "BankAccount 클래스에는 owner, balance 속성이 있다.\n",
    "\n",
    "deposit(amount): 잔액에 amount를 더함\n",
    "\n",
    "withdraw(amount): 잔액에서 amount를 뺌\n",
    "\n",
    "check_balance(): 현재 잔액을 출력함\n",
    "\n",
    "입금과 출금, 잔액 조회를 각각 수행해보라.\n"
   ]
  },
  {
   "cell_type": "code",
   "execution_count": null,
   "id": "3acf3b42",
   "metadata": {},
   "outputs": [],
   "source": []
  },
  {
   "cell_type": "markdown",
   "id": "bc40e782",
   "metadata": {},
   "source": [
    "\n",
    "### ✅ 문제 5. Counter 클래스 만들기 (내부 상태 변화 연습)\n",
    "\n",
    "\n",
    "요구사항\n",
    "\n",
    "Counter 클래스는 내부에 숫자 count를 저장한다.\n",
    "\n",
    "increase(): 1 증가\n",
    "\n",
    "decrease(): 1 감소\n",
    "\n",
    "reset(): 0으로 초기화\n",
    "\n",
    "show(): 현재 값을 출력\n",
    "\n",
    "함수들을 여러 번 호출해보며 상태 변화 확인"
   ]
  },
  {
   "cell_type": "code",
   "execution_count": null,
   "id": "9af57bf8",
   "metadata": {},
   "outputs": [],
   "source": []
  },
  {
   "cell_type": "markdown",
   "id": "065f2b15",
   "metadata": {},
   "source": [
    "### ✅ 문제 6.학생(Student) 클래스 문제\n",
    "\n",
    "1. Student 클래스를 작성하세요.\n",
    "2. 학생의 이름(name)과 성적(scores)을 인스턴스 변수로 관리합니다.\n",
    "-  scores는 과목별 점수(예: 국어, 수학, 영어)를 담은 딕셔너리 형태를 가정합니다.\n",
    "{\n",
    "\"국어\"\n",
    ":\n",
    "90\n",
    ",\n",
    "\"수학\"\n",
    ":\n",
    "80\n",
    ",\n",
    "\"영어\"\n",
    ":\n",
    "85\n",
    "}\n",
    "{\"국어\":90,\"수학\":80,\"영어\":85} 처럼 구성.\n",
    "3. __init__(생성자)에서 name과 scores를 받아 초기화합니다.\n",
    "4. 다음 메서드를 구현하세요.\n",
    "    - add_score(subject, score): 새로운 과목 점수를 추가하거나, 이미 존재하는 과목이면 점수를 갱신.\n",
    "    - get_average(): 모든 과목의 평균 점수를 반환.\n",
    "    - print_info(): 학생의 이름과 각 과목 점수, 평균 점수를 출력."
   ]
  },
  {
   "cell_type": "code",
   "execution_count": null,
   "id": "ec156c19",
   "metadata": {},
   "outputs": [],
   "source": [
    "class Student:\n",
    "    # 구현\n",
    "\n",
    "\n",
    "# 사용 예시\n",
    "student_a = Student(\"철수\", {\"국어\": 90, \"수학\": 80})\n",
    "student_a.add_score(\"영어\", 85)\n",
    "student_a.print_info()\n",
    "\n",
    "# 출력 예시\n",
    "# 학생 이름: 철수\n",
    "# 국어: 90\n",
    "# 수학: 80\n",
    "# 영어: 85\n",
    "# 평균 점수: 85.00"
   ]
  },
  {
   "cell_type": "markdown",
   "id": "10b71796",
   "metadata": {},
   "source": [
    "### ✅ 문제7 도형(Shape) 클래스와 상속 문제\n",
    "\n",
    "1. Shape라는 추상적인(또는 기본) 도형 클래스를 만듭니다.\n",
    "2. 이 클래스를 상속받는 Rectangle(직사각형), Circle(원) 클래스를 만듭니다.\n",
    "3. 공통된 기능:\n",
    "    - Shape 클래스에 get_area() 메서드를 선언(혹은 NotImplementedError로 미구현 상태)\n",
    "4. Rectangle 클래스:\n",
    "    - __init__에서 가로(width), 세로(height)를 받아 저장\n",
    "    - get_area()는 가로 × 세로를 반환\n",
    "5. Circle 클래스:\n",
    "    - __init__에서 반지름(radius)를 받아 저장\n",
    "    - get_area()는 원의 넓이 \n",
    "𝜋\n",
    "𝑟\n",
    "2\n",
    "πr \n",
    "2\n",
    " 을 반환 (파이 값은 math.pi 사용)\n",
    "6. 각 클래스의 객체를 생성한 뒤, 다형성을 이용해(get_area() 호출) 결과를 출력하세요."
   ]
  },
  {
   "cell_type": "code",
   "execution_count": null,
   "id": "d16e7ea7",
   "metadata": {},
   "outputs": [],
   "source": [
    "import math\n",
    "\n",
    "class Shape:\n",
    "    def get_area(self):\n",
    "        raise NotImplementedError(\"get_area 메서드를 서브클래스에서 구현하세요.\")\n",
    "\n",
    "class Rectangle():\n",
    "    # 구현\n",
    "\n",
    "class Circle():\n",
    "    # 구현\n",
    "    \n",
    "\n",
    "# 사용 예시\n",
    "shapes=[Rectangle(4,5), Circle(3)]\n",
    "\n",
    "for shape in shapes:\n",
    "    area = shape.get_area()\n",
    "    print(\"도형의 넓이 :\" , area)"
   ]
  },
  {
   "cell_type": "markdown",
   "id": "a9e1a95e",
   "metadata": {},
   "source": [
    "### ✅ 문제8 상속 + 메서드 오버라이딩(Overriding) 예제 문제\n",
    "1. Employee(직원) 클래스를 정의합니다.\n",
    "    -  name, base_salary(기본 연봉) 인스턴스 변수\n",
    "    - get_annual_salary() 메서드: 기본 연봉을 반환\n",
    "2. SalesEmployee(영업직) 클래스를 Employee에서 상속받습니다.\n",
    "    - __init__에서 commission_rate(커미션 비율)을 추가로 받습니다.\n",
    "    - get_annual_salary() 메서드를 오버라이드(override) 하여, 기본 연봉 + (기본 연봉 × 커미션 비율)을 계산해 반환하도록 합니다.\n",
    "3. EngineerEmployee 클래스를 Employee에서 상속받습니다.\n",
    "    - __init__에서 bonus(프로젝트 보너스)를 추가로 받습니다.\n",
    "    - get_annual_salary() 메서드 오버라이드: 기본 연봉 + 고정 보너스.\n",
    "4. 각각의 인스턴스를 생성하고, 연봉(get_annual_salary())을 출력해보세요."
   ]
  },
  {
   "cell_type": "code",
   "execution_count": null,
   "id": "be75fb0c",
   "metadata": {},
   "outputs": [],
   "source": [
    "## 구현\n",
    "\n",
    "# 사용 예시\n",
    "emp1 = Employee(\"일반직원\", 3000)\n",
    "emp2 = SalesEmployee(\"영업사원\", 3000, 0.2)\n",
    "emp3 = EngineerEmployee(\"엔지니어\", 3000, 500)\n",
    "\n",
    "employees = [emp1, emp2, emp3]\n",
    "\n",
    "for emp in employees:\n",
    "    print(f\"{emp.name} 연봉: {emp.get_annual_salary()}\")\n",
    "\n",
    "# 출력 예시\n",
    "# 일반직원 연봉: 3000\n",
    "# 영업사원 연봉: 3600.0\n",
    "# 엔지니어 연봉: 3500"
   ]
  },
  {
   "cell_type": "markdown",
   "id": "39686d59",
   "metadata": {},
   "source": [
    "### ✅ 문제9 온라인 서점(Bookstore) 시뮬레이션 문제\n",
    "1. Book 클래스를 만듭니다.\n",
    "    - 책 제목(title), 저자(author), 가격(price)을 인스턴스 변수로 가집니다.\n",
    "2. Bookstore(서점) 클래스를 만듭니다.\n",
    "    - books(재고 목록)를 관리하기 위해, 내부적으로 Book 인스턴스의 리스트를 갖습니다.\n",
    "    -  주요 메서드:\n",
    "        - add_book(book): 책 객체를 재고에 추가.\n",
    "        - search_title(keyword): 키워드를 포함한 책 제목을 모두 찾아 리스트로 반환.\n",
    "        - remove_book(title): 해당 제목의 책을 재고에서 제거(제일 처음 발견되는 1권만 제거).\n",
    "        - get_total_value(): 보유 중인 모든 책 가격의 합을 반환.\n",
    "3. DiscountBook 클래스를 만듭니다. (상속 or 별도 구현 가능)\n",
    "    - Book과 거의 같지만, discount_rate를 받아서 price가 자동으로 할인 적용되는 형태를 구현해보세요. (예: discount_rate = 0.2라면 20% 할인)\n",
    "4. 다양한 Book 혹은 DiscountBook 객체를 생성하고, Bookstore에 추가하여 메서드들을 테스트해보세요."
   ]
  },
  {
   "cell_type": "code",
   "execution_count": null,
   "id": "67569ce3",
   "metadata": {},
   "outputs": [],
   "source": [
    "## 구현"
   ]
  }
 ],
 "metadata": {
  "kernelspec": {
   "display_name": ".venv",
   "language": "python",
   "name": "python3"
  },
  "language_info": {
   "name": "python",
   "version": "3.12.10"
  }
 },
 "nbformat": 4,
 "nbformat_minor": 5
}
