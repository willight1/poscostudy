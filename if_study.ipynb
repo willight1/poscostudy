{
 "cells": [
  {
   "cell_type": "markdown",
   "id": "ad225878",
   "metadata": {},
   "source": [
    "## ✅ 조건문 (If)\n",
    "\n",
    "자판기를 생각해봅시다. \n",
    "자판기는 우리가 넣은 돈이 상품 가격보다 많거나 같으면 상품을 제공하고, 적으면 제공하지 않습니다.\n",
    "이처럼 **주어진 조건을 판단**하고 그에 따라 **다른 동작**을 해야 할 때, 프로그래밍에서는 `if` 문을 사용합니다."
   ]
  },
  {
   "cell_type": "markdown",
   "id": "4e1c8432",
   "metadata": {},
   "source": [
    "---"
   ]
  },
  {
   "cell_type": "markdown",
   "id": "25aa9299",
   "metadata": {},
   "source": [
    "## ✅ 조건문의 기본구조\n",
    "\n",
    "`if`, `elif`, `else` 3가지를 조합해 다양한 상황을 처리할 수 있습니다."
   ]
  },
  {
   "cell_type": "markdown",
   "id": "796d9589",
   "metadata": {},
   "source": [
    "## 예시 1"
   ]
  },
  {
   "cell_type": "code",
   "execution_count": null,
   "id": "66f52390",
   "metadata": {},
   "outputs": [],
   "source": [
    "if 조건문:\n",
    "    # 조건문이 참(True)일 때 실행할 코드\n",
    "    pass  # 예시로 pass 작성\n",
    "elif 다른_조건문:\n",
    "    # 위 if가 거짓(False)이고, 이 조건문이 참(True)일 때 실행\n",
    "    pass\n",
    "else:\n",
    "    # if, elif가 모두 거짓일 때 실행\n",
    "    pass"
   ]
  },
  {
   "cell_type": "markdown",
   "id": "62aea4ed",
   "metadata": {},
   "source": [
    "---"
   ]
  },
  {
   "cell_type": "markdown",
   "id": "2272bb17",
   "metadata": {},
   "source": [
    "## 예시 2"
   ]
  },
  {
   "cell_type": "markdown",
   "id": "11ddec41",
   "metadata": {},
   "source": [
    "- `age = 27`: 나이를 27로 설정합니다  \n",
    "- `if age < 20`: 조건 1: 나이가 20보다 작으면  \n",
    "- `elif age < 65`: 조건 2: 위 조건이 거짓이고, 나이가 65보다 작으면  \n",
    "  - `elif`는 \"그렇지 않다면, 대신 이 조건을 확인해봐\" 라는 의미입니다  \n",
    "- `else`: 위의 모든 조건이 거짓일 경우 실행되는 블록입니다  \n",
    "  - `else`는 \"그 외의 모든 경우\"를 의미합니다 "
   ]
  },
  {
   "cell_type": "code",
   "execution_count": null,
   "id": "a4796c95",
   "metadata": {},
   "outputs": [],
   "source": [
    "age = 27\n",
    "\n",
    "if age < 20: \n",
    "    print(\"청소년입니다.\")\n",
    "elif age < 65:\n",
    "    print(\"성인입니다.\")\n",
    "else:\n",
    "    print(\"무료로 이용하세요!\")"
   ]
  },
  {
   "cell_type": "markdown",
   "id": "0d533165",
   "metadata": {},
   "source": [
    "---"
   ]
  },
  {
   "cell_type": "markdown",
   "id": "794072e9",
   "metadata": {},
   "source": [
    "## ✅ 비교 연산과 논리 연산\n",
    "\n",
    "### 3-1. 비교 연산자\n",
    "- `>` (크다), `<` (작다)\n",
    "- `>=` (크거나 같다), `<=` (작거나 같다)\n",
    "- `==` (같다), `!=` (같지 않다)\n",
    "\n",
    "### 3-2. 논리 연산자\n",
    "- `and`: A와 B가 모두 참\n",
    "- `or`: A 혹은 B 중 하나라도 참\n",
    "- `not`: 참을 거짓으로, 거짓을 참으로 반전"
   ]
  },
  {
   "cell_type": "markdown",
   "id": "8ed9e630",
   "metadata": {},
   "source": [
    "## 예시 "
   ]
  },
  {
   "cell_type": "code",
   "execution_count": 1,
   "id": "715f36c5",
   "metadata": {},
   "outputs": [],
   "source": [
    "A = 1\n",
    "B = 2\n",
    "if not A:\n",
    "    print(1111)\n",
    "    pass"
   ]
  },
  {
   "cell_type": "code",
   "execution_count": null,
   "id": "2c8360af",
   "metadata": {},
   "outputs": [],
   "source": [
    "a, b, c, d = 1, 1, 2, 3\n",
    "\n",
    "print(\"a > b:\", a > b)\n",
    "print(\"a >= b:\", a >= b)\n",
    "print(\"b < c < d:\", b < c < d)  # 연속 비교\n",
    "print(\"not a >= b:\", not a >= b)\n",
    "\n",
    "print(\"(a >= b) and (b < c):\", (a >= b) and (b < c))\n",
    "print(\"(a >= b) or (b < c):\", (a >= b) or (b < c))"
   ]
  },
  {
   "cell_type": "markdown",
   "id": "06c56007",
   "metadata": {},
   "source": [
    "---"
   ]
  },
  {
   "cell_type": "markdown",
   "id": "4bbc9f2c",
   "metadata": {},
   "source": [
    "## ✅ 드 모르간의 법칙 (De Morgan's Law)\n",
    "\n",
    "논리식의 부정을 간편하게 나타낼 때 사용하는 법칙:\n",
    "1. `not (A and B)` 는 `(not A) or (not B)`와 동일하다.\n",
    "2. `not (A or B)` 는 `(not A) and (not B)`와 동일하다.\n",
    "\n",
    "이 법칙을 이용하면 복잡한 논리식을 간단히 표현할 수 있습니다."
   ]
  },
  {
   "cell_type": "code",
   "execution_count": null,
   "id": "15ae766a",
   "metadata": {},
   "outputs": [],
   "source": [
    "A = True\n",
    "B = False\n",
    "\n",
    "print(\"not (A and B) == (not A or not B):\", not (A and B) == ((not A) or (not B)))\n",
    "print(\"not (A or B) == (not A and not B):\", not (A or B) == (not A and not B))"
   ]
  },
  {
   "cell_type": "markdown",
   "id": "372de39b",
   "metadata": {},
   "source": [
    "## 예시 풀이 ( 한줄 한줄 )"
   ]
  },
  {
   "cell_type": "code",
   "execution_count": 3,
   "id": "8087b1d5",
   "metadata": {},
   "outputs": [
    {
     "name": "stdout",
     "output_type": "stream",
     "text": [
      "not (A and B) == (not A or not B): True\n",
      "not (A and B) == (not A or not B): True\n",
      "not (A or B) == (not A and not B): True\n",
      "not (A or B) == (not A and not B): True\n"
     ]
    }
   ],
   "source": [
    "# 변수 A에 True(참이라는 의미)를 넣음\n",
    "# True는 \"맞다\", \"그렇다\", \"참이다\"라는 뜻\n",
    "A = True\n",
    "\n",
    "# 변수 B에 False(거짓이라는 의미)를 넣음\n",
    "# False는 \"틀리다\", \"아니다\", \"거짓이다\"라는 뜻\n",
    "B = False\n",
    "\n",
    "print(\"not (A and B) == (not A or not B):\", not (A and B) == ((not A) or (not B))) # 첫 번째 줄 출력문\n",
    "# 한줄한줄 풀이 \n",
    "# \"not (A and B) == (not A or not B):\" 라는 설명 문장을 먼저 화면에 보여주고,\n",
    "# 뒤에는 논리 계산 결과를 같이 출력\n",
    "print(\"not (A and B) == (not A or not B):\", \n",
    "\n",
    "      # 여기서 A and B는 A도 참이고 B도 참일 때만 결과가 참(True)\n",
    "      # 지금 A는 True고 B는 False니까 A and B는 False가 됨\n",
    "      not (A and B) \n",
    "\n",
    "      # 위 결과는 False니까, 앞에 not을 붙이면 → True가 됨\n",
    "      ==\n",
    "\n",
    "      # 이번엔 오른쪽 계산\n",
    "      # not A는 A가 True니까 → not True = False\n",
    "      # not B는 B가 False니까 → not False = True\n",
    "      # (not A) or (not B)는 → False or True = True\n",
    "      ((not A) or (not B))\n",
    ")\n",
    "\n",
    "# 정리하면:\n",
    "# not (A and B) → not (True and False) → not False → True\n",
    "# (not A) or (not B) → False or True → True\n",
    "# 두 결과가 같으니까 → True 출력됨\n",
    "\n",
    "\n",
    "print(\"not (A or B) == (not A and not B):\", not (A or B) == (not A and not B)) # 두 번째 줄 출력문\n",
    "# 한줄한줄 풀이\n",
    "# 이번에도 설명 문장을 먼저 보여주고, 계산 결과를 출력\n",
    "print(\"not (A or B) == (not A and not B):\", \n",
    "\n",
    "      # A or B는 A가 True, B가 False니까 → True or False = True\n",
    "      not (A or B) \n",
    "\n",
    "      # 위 결과는 True니까, not 붙이면 → not True = False\n",
    "      ==\n",
    "\n",
    "      # not A는 A가 True니까 → not True = False\n",
    "      # not B는 B가 False니까 → not False = True\n",
    "      # (not A) and (not B) → False and True = False\n",
    "      (not A and not B)\n",
    ")\n",
    "\n",
    "# 정리하면:\n",
    "# not (A or B) → not (True or False) → not True → False\n",
    "# (not A) and (not B) → False and True → False\n",
    "# 두 결과가 같으니까 → True 출력됨\n",
    "\n",
    "# 🔍 이 두 줄은 \"드모르간의 법칙\"이라는 논리 법칙을 보여주는 코드\n",
    "# 즉, 괄호 안에 and/or로 묶은 걸 not으로 뒤집을 때는,\n",
    "# 각 요소를 not으로 바꾸고 and를 or로, or를 and로 바꾸면 같다는 뜻!!\n",
    "\n",
    "# 예시:\n",
    "# not (A and B) → (not A) or (not B)\n",
    "# not (A or B)  → (not A) and (not B)"
   ]
  },
  {
   "cell_type": "markdown",
   "id": "1613f67d",
   "metadata": {},
   "source": [
    "---\n",
    "\n",
    "## ✅ 2진수 비트에 대한 설명\n",
    "\n",
    "정수형 데이터는 컴퓨터 내부에서 **이진수(Binary)** 형태로 저장됩니다. 예를 들어, 10진수 `13`은 이진수로 `1101`이며, 이를 **비트(bit)의 집합**으로 볼 수 있습니다.\n",
    "\n",
    "- 2진수 표기: 보통 파이썬에서 `bin(13)` → `'0b1101'`\n",
    "- 각 자리(bit)에서 `1`은 켜짐, `0`은 꺼짐 상태를 의미\n",
    "\n",
    "**비트 연산**이란, 이진수 상태에서 각 비트를 AND, OR, XOR 등으로 연산하는 것을 말합니다. \n",
    "이러한 연산은 하드웨어 가까운 레벨에서 빠르게 동작하기 때문에, 다양한 최적화와 저수준 프로그래밍에 사용됩니다."
   ]
  },
  {
   "cell_type": "markdown",
   "id": "ca8e13e0",
   "metadata": {},
   "source": [
    "## ✅ 비트 논리 연산자\n",
    "- `&` (AND): 두 비트가 모두 1이면 결과 1\n",
    "- `|` (OR): 두 비트 중 하나라도 1이면 결과 1\n",
    "- `^` (XOR): 두 비트가 서로 다를 때 1\n",
    "- `~` (NOT): 비트를 반전 (0→1, 1→0)"
   ]
  },
  {
   "cell_type": "markdown",
   "id": "f3688045",
   "metadata": {},
   "source": [
    "## - 예시"
   ]
  },
  {
   "cell_type": "code",
   "execution_count": null,
   "id": "b5625898",
   "metadata": {},
   "outputs": [],
   "source": [
    "num1 = 13  # (2진수: 0b1101)\n",
    "num2 = 11  # (2진수: 0b1011)\n",
    "\n",
    "print(\"num1:\", num1, bin(num1))\n",
    "print(\"num2:\", num2, bin(num2))\n",
    "\n",
    "print(\"\\nAND (&):\", num1 & num2, bin(num1 & num2))\n",
    "print(\"OR  (|):\", num1 | num2, bin(num1 | num2))\n",
    "print(\"XOR (^):\", num1 ^ num2, bin(num1 ^ num2))\n",
    "\n",
    "# 참조:\n",
    "# 13(0b1101) & 11(0b1011) = 0b1001 (9)\n",
    "# 13(0b1101) | 11(0b1011) = 0b1111 (15)\n",
    "# 13(0b1101) ^ 11(0b1011) = 0b0110 (6)"
   ]
  },
  {
   "cell_type": "markdown",
   "id": "4a6ebc86",
   "metadata": {},
   "source": [
    "## - 예시 풀이"
   ]
  },
  {
   "cell_type": "code",
   "execution_count": null,
   "id": "85b463c6",
   "metadata": {},
   "outputs": [],
   "source": [
    "# 숫자 13을 변수 num1에 저장합니다.\n",
    "# 참고로 13을 2진수로 표현하면 1101입니다. (0b1101)\n",
    "num1 = 13  # (2진수: 0b1101)\n",
    "\n",
    "# 숫자 11을 변수 num2에 저장합니다.\n",
    "# 11을 2진수로 표현하면 1011입니다. (0b1011)\n",
    "num2 = 11  # (2진수: 0b1011)\n",
    "\n",
    "# num1의 값과 그것의 2진수 형태를 함께 출력합니다.\n",
    "# bin(num1)은 2진수 문자열로 바꿔주는 함수입니다.\n",
    "print(\"num1:\", num1, bin(num1))  # 출력: num1: 13 0b1101\n",
    "\n",
    "# num2도 동일하게 출력합니다.\n",
    "print(\"num2:\", num2, bin(num2))  # 출력: num2: 11 0b1011\n",
    "\n",
    "# 보기 좋게 줄을 띄우고 AND 연산 결과를 출력합니다.\n",
    "print(\"\\nAND (&):\", num1 & num2, bin(num1 & num2))\n",
    "\n",
    "# & 는 비트 단위의 AND 연산자입니다.\n",
    "# 두 숫자의 각 비트를 비교해서 둘 다 1인 자리만 1이 됩니다.\n",
    "# 예: \n",
    "#  1101 (13)\n",
    "#& 1011 (11)\n",
    "#= 1001 (9)\n",
    "# 결과는 9이며, 2진수로는 0b1001입니다.\n",
    "\n",
    "# OR 연산 결과를 출력합니다.\n",
    "print(\"OR  (|):\", num1 | num2, bin(num1 | num2))\n",
    "\n",
    "# | 는 비트 OR 연산자입니다.\n",
    "# 두 비트 중 하나라도 1이면 결과는 1이 됩니다.\n",
    "# 예:\n",
    "#  1101 (13)\n",
    "#| 1011 (11)\n",
    "#= 1111 (15)\n",
    "# 결과는 15이며, 2진수로는 0b1111입니다.\n",
    "\n",
    "# XOR 연산 결과를 출력합니다.\n",
    "print(\"XOR (^):\", num1 ^ num2, bin(num1 ^ num2))\n",
    "\n",
    "# ^ 는 비트 XOR (배타적 논리합) 연산자입니다.\n",
    "# 두 비트가 서로 다를 때만 1이 됩니다.\n",
    "# 예:\n",
    "#  1101 (13)\n",
    "#^ 1011 (11)\n",
    "#= 0110 (6)\n",
    "# 결과는 6이며, 2진수로는 0b0110입니다."
   ]
  },
  {
   "cell_type": "markdown",
   "id": "93bbb57b",
   "metadata": {},
   "source": [
    "## ✅ 비트 시프트 연산자\n",
    "\n",
    "- `<<`: 왼쪽 시프트(Left Shift) → 2의 배로 곱해진 효과\n",
    "- `>>`: 오른쪽 시프트(Right Shift) → 2로 나눈 효과 (정수 부분만)\n",
    "\n",
    "예: `13 << 1` 은 `13 * 2` = 26, `13 >> 1` 은 `13 // 2` = 6 (정수 나눗셈)\n",
    "아래 코드로 확인해봅시다."
   ]
  },
  {
   "cell_type": "code",
   "execution_count": null,
   "id": "cc325985",
   "metadata": {},
   "outputs": [],
   "source": [
    "num = 13\n",
    "print(\"num: \", num, bin(num))\n",
    "print(\"num << 1:\", num << 1, bin(num << 1))\n",
    "print(\"num >> 1:\", num >> 1, bin(num >> 1))"
   ]
  },
  {
   "cell_type": "markdown",
   "id": "eb70d539",
   "metadata": {},
   "source": [
    "## - 예시풀이"
   ]
  },
  {
   "cell_type": "code",
   "execution_count": null,
   "id": "e380a3a5",
   "metadata": {},
   "outputs": [],
   "source": [
    "# 숫자 13을 변수 num에 저장합니다.\n",
    "# 13을 2진수로 표현하면 0b1101입니다.\n",
    "num = 13\n",
    "\n",
    "# num 값을 출력합니다.\n",
    "# bin(num)을 사용하면 num을 2진수 문자열로 바꿔줍니다.\n",
    "print(\"num: \", num, bin(num))  \n",
    "# 출력 결과: num:  13 0b1101\n",
    "\n",
    "# 왼쪽으로 1비트 이동시키는 연산입니다.\n",
    "# << 1 은 2진수에서 모든 비트를 왼쪽으로 한 칸씩 밀어요.\n",
    "# 예) 0b1101 → 0b11010 (맨 오른쪽에 0이 추가됨)\n",
    "# 실제로는 *2를 한 것과 같은 효과입니다.\n",
    "print(\"num << 1:\", num << 1, bin(num << 1))\n",
    "# 계산: 13 << 1 = 26,  0b11010\n",
    "\n",
    "# 오른쪽으로 1비트 이동시키는 연산입니다.\n",
    "# >> 1 은 2진수에서 모든 비트를 오른쪽으로 한 칸씩 밀어요.\n",
    "# 예) 0b1101 → 0b110 (맨 오른쪽 1이 사라짐)\n",
    "# 실제로는 //2 한 것과 같은 효과입니다 (정수 나눗셈)\n",
    "print(\"num >> 1:\", num >> 1, bin(num >> 1))\n",
    "# 계산: 13 >> 1 = 6,  0b110\n"
   ]
  },
  {
   "cell_type": "markdown",
   "id": "6c17aa36",
   "metadata": {},
   "source": [
    "## ✅ 삼항 연산자 (Ternary Operator)\n",
    "\n",
    "c/java 조건 ?참일 때 : 거짓일 때\n",
    "\n",
    "파이썬에는 아래와 같은 한 줄짜리 **삼항(조건) 연산자** 문법이 있습니다:\n",
    "\n",
    "```python\n",
    "result = \"양수\" if x > 0 else \"양수가 아님\"\n",
    "```\n",
    "조건이 참이면 `if`와 `else` 사이의 값을 결과로 하고, 조건이 거짓이면 `else` 뒤의 값을 결과로 합니다."
   ]
  },
  {
   "cell_type": "code",
   "execution_count": 4,
   "id": "f5bc18c5",
   "metadata": {},
   "outputs": [
    {
     "name": "stdout",
     "output_type": "stream",
     "text": [
      "x는 양수가 아닙니다.\n"
     ]
    }
   ],
   "source": [
    "x = -4\n",
    "result = \"x는 양수입니다.\" if x > 0 else \"x는 양수가 아닙니다.\"\n",
    "print(result)\n",
    "# 출력: x는 양수가 아닙니다."
   ]
  },
  {
   "cell_type": "code",
   "execution_count": 5,
   "id": "d9894463",
   "metadata": {},
   "outputs": [
    {
     "name": "stdout",
     "output_type": "stream",
     "text": [
      "값이 None이 아님\n",
      "값이 None 임\n"
     ]
    }
   ],
   "source": [
    "def sample(value):\n",
    "    return \"값이 None이 아님\" if value is not None else \"값이 None 임\"\n",
    "\n",
    "print(sample(10))\n",
    "print(sample(None))"
   ]
  },
  {
   "cell_type": "markdown",
   "id": "8a17d49b",
   "metadata": {},
   "source": [
    "## ✅ `in` 연산자\n",
    "\n",
    "파이썬에서 `in`을 사용하면, 어떤 요소가 **시퀀스(리스트, 튜플, 문자열 등)에 포함되어 있는지**를 간단히 확인할 수 있습니다."
   ]
  },
  {
   "cell_type": "code",
   "execution_count": 6,
   "id": "8ea3571c",
   "metadata": {},
   "outputs": [
    {
     "name": "stdout",
     "output_type": "stream",
     "text": [
      "x는 my_list에 포함되어 있습니다.\n"
     ]
    }
   ],
   "source": [
    "x = 3\n",
    "my_list = [1, 2, 3, 4, 5]\n",
    "if x in my_list:\n",
    "    print(\"x는 my_list에 포함되어 있습니다.\")\n",
    "else:\n",
    "    print(\"x는 my_list에 없습니다.\")"
   ]
  }
 ],
 "metadata": {
  "kernelspec": {
   "display_name": ".venv",
   "language": "python",
   "name": "python3"
  },
  "language_info": {
   "codemirror_mode": {
    "name": "ipython",
    "version": 3
   },
   "file_extension": ".py",
   "mimetype": "text/x-python",
   "name": "python",
   "nbconvert_exporter": "python",
   "pygments_lexer": "ipython3",
   "version": "3.12.10"
  }
 },
 "nbformat": 4,
 "nbformat_minor": 5
}
