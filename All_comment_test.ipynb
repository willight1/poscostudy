{
 "cells": [
  {
   "cell_type": "markdown",
   "id": "793eb0a0",
   "metadata": {},
   "source": [
    "# 🧪 주석달기\n",
    "각 코드에 주석을 달아주세요.\n",
    "주석다는 연습을 해보시면 코드의 흐름을 파악하는 실력을 키울 수 있습니다.\n",
    "주석은 각 코드 옆에 달아주세요.\n"
   ]
  },
  {
   "cell_type": "code",
   "execution_count": null,
   "id": "4e5f80a7",
   "metadata": {},
   "outputs": [],
   "source": [
    "# 예시 \n",
    "if 조건문:\n",
    "    # 조건문이 참(True)일 때 실행할 코드\n",
    "    pass  # 예시로 pass 작성\n",
    "elif 다른_조건문:\n",
    "    # 위 if가 거짓(False)이고, 이 조건문이 참(True)일 때 실행\n",
    "    pass\n",
    "else:\n",
    "    # if, elif가 모두 거짓일 때 실행\n",
    "    pass"
   ]
  },
  {
   "cell_type": "markdown",
   "id": "0469a633",
   "metadata": {},
   "source": [
    "## ✅ Class 문제 1"
   ]
  },
  {
   "cell_type": "code",
   "execution_count": null,
   "id": "742c736b",
   "metadata": {},
   "outputs": [],
   "source": [
    "class Book:\n",
    "    def __init__(self, title, author):\n",
    "        self.title = title\n",
    "        self.author = author\n",
    "\n",
    "    def print_info(self):\n",
    "        print(f\"{self.title} - {self.author}\")\n",
    "\n",
    "my_book = Book(\"파이썬 입문\", \"홍길동\") \n",
    "my_book.print_info()"
   ]
  },
  {
   "cell_type": "code",
   "execution_count": null,
   "id": "eca769d5",
   "metadata": {},
   "outputs": [],
   "source": [
    "'''\n",
    "- 주석달기 답변\n",
    "\n",
    "\n",
    "\n",
    "\n",
    "- 추가 문제 위 코드는 무엇을 하는 코드인가요?\n",
    "- 답변 : \n",
    "\n",
    "\n",
    "'''"
   ]
  },
  {
   "cell_type": "markdown",
   "id": "9b53fd56",
   "metadata": {},
   "source": [
    "## ✅ Class 문제 2"
   ]
  },
  {
   "cell_type": "code",
   "execution_count": null,
   "id": "2dfb6129",
   "metadata": {},
   "outputs": [],
   "source": [
    "class Rectangle:\n",
    "    def __init__(self, width, height):\n",
    "        self.width = width \n",
    "        self.height = height\n",
    "\n",
    "    def area(self):\n",
    "        return self.width * self.height\n",
    "\n",
    "# 테스트\n",
    "r = Rectangle(4, 5)\n",
    "print(\"넓이:\", r.area())"
   ]
  },
  {
   "cell_type": "code",
   "execution_count": null,
   "id": "7ba59885",
   "metadata": {},
   "outputs": [],
   "source": [
    "'''\n",
    "- 주석달기 답변\n",
    "\n",
    "\n",
    "\n",
    "\n",
    "- 추가 문제 위 코드는 무엇을 하는 코드인가요?\n",
    "- 답변 : \n",
    "\n",
    "\n",
    "'''"
   ]
  },
  {
   "cell_type": "markdown",
   "id": "2d3d38a8",
   "metadata": {},
   "source": [
    "## ✅ Class 문제 3 (난이도 UP)"
   ]
  },
  {
   "cell_type": "code",
   "execution_count": null,
   "id": "20b3eb82",
   "metadata": {},
   "outputs": [
    {
     "name": "stdout",
     "output_type": "stream",
     "text": [
      "잔액: 1200\n"
     ]
    }
   ],
   "source": [
    "class BankAccount:\n",
    "    def __init__(self, owner, balance=0):\n",
    "        self.owner = owner\n",
    "        self.balance = balance\n",
    "\n",
    "    def deposit(self, amount):\n",
    "        self.balance += amount\n",
    "\n",
    "    def withdraw(self, amount):\n",
    "        if amount > self.balance:\n",
    "            print(\"잔액 부족\")\n",
    "        else:\n",
    "            self.balance -= amount\n",
    "\n",
    "    def get_balance(self):\n",
    "        return self.balance\n",
    "\n",
    "acc = BankAccount(\"홍길동\", 1000)\n",
    "acc.deposit(500)\n",
    "acc.withdraw(2000) \n",
    "acc.withdraw(300)\n",
    "print(\"잔액:\", acc.get_balance())"
   ]
  },
  {
   "cell_type": "code",
   "execution_count": null,
   "id": "8847afa8",
   "metadata": {},
   "outputs": [],
   "source": [
    "'''\n",
    "- 주석달기 답변\n",
    "\n",
    "\n",
    "\n",
    "\n",
    "- 추가 문제 위 코드는 무엇을 하는 코드인가요?\n",
    "- 답변 : \n",
    "\n",
    "\n",
    "'''"
   ]
  },
  {
   "cell_type": "markdown",
   "id": "f907e786",
   "metadata": {},
   "source": [
    "## ✅ 조건문(if) 문제 4"
   ]
  },
  {
   "cell_type": "code",
   "execution_count": null,
   "id": "0a64358c",
   "metadata": {},
   "outputs": [],
   "source": [
    "num = 7\n",
    "\n",
    "if num % 2 == 0:\n",
    "    print(\"짝수입니다.\")\n",
    "else:\n",
    "    print(\"홀수입니다.\")"
   ]
  },
  {
   "cell_type": "code",
   "execution_count": null,
   "id": "5cc9cde9",
   "metadata": {},
   "outputs": [],
   "source": [
    "'''\n",
    "- 주석달기 답변\n",
    "\n",
    "\n",
    "\n",
    "\n",
    "'''"
   ]
  },
  {
   "cell_type": "markdown",
   "id": "da52fb1f",
   "metadata": {},
   "source": [
    "## ✅ 조건문(if) 문제 5"
   ]
  },
  {
   "cell_type": "code",
   "execution_count": null,
   "id": "1c400c23",
   "metadata": {},
   "outputs": [],
   "source": [
    "temp = 30\n",
    "\n",
    "if temp > 25:\n",
    "    print(\"더워요.\")\n",
    "elif temp >= 15:\n",
    "    print(\"딱 좋아요.\")\n",
    "else:\n",
    "    print(\"쌀쌀해요.\")"
   ]
  },
  {
   "cell_type": "code",
   "execution_count": null,
   "id": "307234a0",
   "metadata": {},
   "outputs": [],
   "source": [
    "'''\n",
    "- 주석달기 답변\n",
    "\n",
    "\n",
    "\n",
    "\n",
    "'''"
   ]
  },
  {
   "cell_type": "markdown",
   "id": "89d88849",
   "metadata": {},
   "source": [
    "## ✅ 조건문(if) 문제 6 (난이도 UP)"
   ]
  },
  {
   "cell_type": "code",
   "execution_count": null,
   "id": "ebd0f049",
   "metadata": {},
   "outputs": [],
   "source": [
    "score = 83\n",
    "\n",
    "if score >= 90:\n",
    "    grade = \"A\"\n",
    "elif score >= 80:\n",
    "    grade = \"B\"\n",
    "elif score >= 70:\n",
    "    grade = \"C\"\n",
    "else:\n",
    "    grade = \"F\"\n",
    "\n",
    "print(\"당신의 등급은:\", grade)"
   ]
  },
  {
   "cell_type": "code",
   "execution_count": null,
   "id": "c360c6ef",
   "metadata": {},
   "outputs": [],
   "source": [
    "'''\n",
    "- 주석달기 답변\n",
    "\n",
    "\n",
    "\n",
    "\n",
    "'''"
   ]
  },
  {
   "cell_type": "markdown",
   "id": "fe891894",
   "metadata": {},
   "source": [
    "## ✅ 반복문(for) 문제 7"
   ]
  },
  {
   "cell_type": "code",
   "execution_count": null,
   "id": "424bfcc3",
   "metadata": {},
   "outputs": [],
   "source": [
    "fruits = [\"사과\", \"바나나\", \"포도\"]\n",
    "\n",
    "for fruit in fruits:\n",
    "    print(fruit)"
   ]
  },
  {
   "cell_type": "code",
   "execution_count": null,
   "id": "8cd65ef6",
   "metadata": {},
   "outputs": [],
   "source": [
    "'''\n",
    "- 주석달기 답변\n",
    "\n",
    "\n",
    "\n",
    "\n",
    "'''"
   ]
  },
  {
   "cell_type": "markdown",
   "id": "db89e004",
   "metadata": {},
   "source": [
    "## ✅ 반복문(for) 문제 8"
   ]
  },
  {
   "cell_type": "code",
   "execution_count": null,
   "id": "b8410c12",
   "metadata": {},
   "outputs": [],
   "source": [
    "total = 0\n",
    "\n",
    "for i in range(1, 6):\n",
    "    total += i\n",
    "\n",
    "print(\"총합:\", total)\n"
   ]
  },
  {
   "cell_type": "code",
   "execution_count": null,
   "id": "2c19f794",
   "metadata": {},
   "outputs": [],
   "source": [
    "'''\n",
    "- 주석달기 답변\n",
    "\n",
    "\n",
    "\n",
    "\n",
    "'''"
   ]
  },
  {
   "cell_type": "markdown",
   "id": "3d834586",
   "metadata": {},
   "source": [
    "## ✅ 반복문(for) 문제 9 ( 난이도 UP )"
   ]
  },
  {
   "cell_type": "code",
   "execution_count": null,
   "id": "798a142e",
   "metadata": {},
   "outputs": [],
   "source": [
    "dan = 2\n",
    "\n",
    "for i in range(1, 10):\n",
    "    print(f\"{dan} x {i} = {dan * i}\")"
   ]
  },
  {
   "cell_type": "code",
   "execution_count": null,
   "id": "c260b965",
   "metadata": {},
   "outputs": [],
   "source": [
    "'''\n",
    "- 주석달기 답변\n",
    "\n",
    "\n",
    "\n",
    "\n",
    "'''"
   ]
  },
  {
   "cell_type": "markdown",
   "id": "07226f72",
   "metadata": {},
   "source": [
    "## ✅ 반복문(while) 문제 10"
   ]
  },
  {
   "cell_type": "code",
   "execution_count": null,
   "id": "1b758b18",
   "metadata": {},
   "outputs": [],
   "source": [
    "i = 1\n",
    "\n",
    "while i <= 5:\n",
    "    print(i)\n",
    "    i += 1"
   ]
  },
  {
   "cell_type": "code",
   "execution_count": null,
   "id": "71ed4e1b",
   "metadata": {},
   "outputs": [],
   "source": [
    "'''\n",
    "- 주석달기 답변\n",
    "\n",
    "\n",
    "\n",
    "\n",
    "'''"
   ]
  },
  {
   "cell_type": "markdown",
   "id": "99733339",
   "metadata": {},
   "source": [
    "## ✅ 반복문(while) 문제 11"
   ]
  },
  {
   "cell_type": "code",
   "execution_count": null,
   "id": "36cb93d7",
   "metadata": {},
   "outputs": [],
   "source": [
    "answer = \"\"\n",
    "\n",
    "while answer != \"끝\":\n",
    "    answer = input(\"끝이라고 입력해야 종료됩니다: \")\n",
    "\n",
    "print(\"종료되었습니다.\")"
   ]
  },
  {
   "cell_type": "code",
   "execution_count": null,
   "id": "38ea89ea",
   "metadata": {},
   "outputs": [],
   "source": [
    "'''\n",
    "- 주석달기 답변\n",
    "\n",
    "\n",
    "\n",
    "\n",
    "'''"
   ]
  },
  {
   "cell_type": "markdown",
   "id": "f3c55c4a",
   "metadata": {},
   "source": [
    "## ✅ 반복문(while) 문제 12 ( 난이도 UP )"
   ]
  },
  {
   "cell_type": "code",
   "execution_count": null,
   "id": "a7756eb3",
   "metadata": {},
   "outputs": [],
   "source": [
    "total = 0\n",
    "\n",
    "while True:\n",
    "    num = int(input(\"숫자 입력 (0 입력 시 종료): \"))\n",
    "    if num == 0:\n",
    "        break \n",
    "    total += num\n",
    "\n",
    "print(\"총합:\", total)\n"
   ]
  },
  {
   "cell_type": "code",
   "execution_count": null,
   "id": "80e116da",
   "metadata": {},
   "outputs": [],
   "source": [
    "'''\n",
    "- 주석달기 답변\n",
    "\n",
    "\n",
    "\n",
    "\n",
    "'''"
   ]
  },
  {
   "cell_type": "markdown",
   "id": "bf7eec2a",
   "metadata": {},
   "source": [
    "## ✅ List 문제 13"
   ]
  },
  {
   "cell_type": "code",
   "execution_count": null,
   "id": "497ce40e",
   "metadata": {},
   "outputs": [],
   "source": [
    "colors = []\n",
    "\n",
    "colors.append(\"빨강\") \n",
    "colors.append(\"파랑\")\n",
    "colors.append(\"초록\")\n",
    "\n",
    "print(colors)"
   ]
  },
  {
   "cell_type": "code",
   "execution_count": null,
   "id": "8e505037",
   "metadata": {},
   "outputs": [],
   "source": [
    "'''\n",
    "- 주석달기 답변\n",
    "\n",
    "\n",
    "\n",
    "\n",
    "'''"
   ]
  },
  {
   "cell_type": "markdown",
   "id": "21c33a53",
   "metadata": {},
   "source": [
    "## ✅ List 문제 14"
   ]
  },
  {
   "cell_type": "code",
   "execution_count": null,
   "id": "b5e79300",
   "metadata": {},
   "outputs": [],
   "source": [
    "scores = [70, 85, 90, 65]\n",
    "\n",
    "print(\"최고 점수:\", max(scores))"
   ]
  },
  {
   "cell_type": "code",
   "execution_count": null,
   "id": "faec7e41",
   "metadata": {},
   "outputs": [],
   "source": [
    "'''\n",
    "- 주석달기 답변\n",
    "\n",
    "\n",
    "\n",
    "\n",
    "'''"
   ]
  },
  {
   "cell_type": "markdown",
   "id": "d186b63f",
   "metadata": {},
   "source": [
    "## ✅ List 문제 15 ( 난이도 UP )"
   ]
  },
  {
   "cell_type": "code",
   "execution_count": null,
   "id": "d1e70b22",
   "metadata": {},
   "outputs": [],
   "source": [
    "scores = [88, 92, 70, 100, 95]\n",
    "\n",
    "scores.sort(reverse=True)\n",
    "top3 = scores[:3]\n",
    "\n",
    "print(\"Top 3:\", top3)"
   ]
  },
  {
   "cell_type": "code",
   "execution_count": null,
   "id": "f0c67a3c",
   "metadata": {},
   "outputs": [],
   "source": [
    "'''\n",
    "- 주석달기 답변\n",
    "\n",
    "\n",
    "\n",
    "\n",
    "'''"
   ]
  },
  {
   "cell_type": "markdown",
   "id": "174bd8db",
   "metadata": {},
   "source": [
    "## ✅ dictionary 문제 16"
   ]
  },
  {
   "cell_type": "code",
   "execution_count": null,
   "id": "90dccede",
   "metadata": {},
   "outputs": [],
   "source": [
    "student = {\n",
    "    \"홍길동\": 90,\n",
    "    \"이순신\": 85\n",
    "}\n",
    "\n",
    "print(student[\"홍길동\"])"
   ]
  },
  {
   "cell_type": "code",
   "execution_count": null,
   "id": "cb4677c1",
   "metadata": {},
   "outputs": [],
   "source": [
    "'''\n",
    "- 주석달기 답변\n",
    "\n",
    "\n",
    "\n",
    "\n",
    "'''"
   ]
  },
  {
   "cell_type": "markdown",
   "id": "24f22c98",
   "metadata": {},
   "source": [
    "## ✅ dictionary 문제 17"
   ]
  },
  {
   "cell_type": "code",
   "execution_count": null,
   "id": "eced6bc9",
   "metadata": {},
   "outputs": [
    {
     "name": "stdout",
     "output_type": "stream",
     "text": [
      "{'이름': '영희', '나이': 20, '주소': '서울'}\n"
     ]
    }
   ],
   "source": [
    "info = {\n",
    "    \"이름\": \"영희\",\n",
    "    \"나이\": 20\n",
    "}\n",
    "\n",
    "info[\"주소\"] = \"서울\" \n",
    "\n",
    "print(info)"
   ]
  },
  {
   "cell_type": "code",
   "execution_count": null,
   "id": "aaf0b526",
   "metadata": {},
   "outputs": [],
   "source": [
    "'''\n",
    "- 주석달기 답변\n",
    "\n",
    "\n",
    "\n",
    "\n",
    "'''"
   ]
  },
  {
   "cell_type": "markdown",
   "id": "a41cb069",
   "metadata": {},
   "source": [
    "## ✅ dictionary 문제 18 ( 난이도 UP )"
   ]
  },
  {
   "cell_type": "code",
   "execution_count": null,
   "id": "7ebc13a5",
   "metadata": {},
   "outputs": [],
   "source": [
    "scores = {\n",
    "    \"철수\": 85,\n",
    "    \"영희\": 90,\n",
    "    \"민수\": 78\n",
    "}\n",
    "\n",
    "total = sum(scores.values())\n",
    "avg = total / len(scores) \n",
    "\n",
    "print(\"평균 점수:\", avg)"
   ]
  },
  {
   "cell_type": "code",
   "execution_count": null,
   "id": "38a5c0a6",
   "metadata": {},
   "outputs": [],
   "source": [
    "'''\n",
    "- 주석달기 답변\n",
    "\n",
    "\n",
    "\n",
    "\n",
    "'''"
   ]
  }
 ],
 "metadata": {
  "kernelspec": {
   "display_name": ".venv",
   "language": "python",
   "name": "python3"
  },
  "language_info": {
   "codemirror_mode": {
    "name": "ipython",
    "version": 3
   },
   "file_extension": ".py",
   "mimetype": "text/x-python",
   "name": "python",
   "nbconvert_exporter": "python",
   "pygments_lexer": "ipython3",
   "version": "3.12.10"
  }
 },
 "nbformat": 4,
 "nbformat_minor": 5
}
