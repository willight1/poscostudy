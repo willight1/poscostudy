{
  "cells": [
    {
      "cell_type": "markdown",
      "id": "793eb0a0",
      "metadata": {
        "id": "793eb0a0"
      },
      "source": [
        "# 🧪 주석달기\n",
        "각 코드에 주석을 달아주세요.\n",
        "주석다는 연습을 해보시면 코드의 흐름을 파악하는 실력을 키울 수 있습니다.\n"
      ]
    },
    {
      "cell_type": "code",
      "execution_count": null,
      "id": "4e5f80a7",
      "metadata": {
        "id": "4e5f80a7"
      },
      "outputs": [],
      "source": [
        "# 예시\n",
        "if 조건문:\n",
        "    # 조건문이 참(True)일 때 실행할 코드\n",
        "    pass  # 예시로 pass 작성\n",
        "elif 다른_조건문:\n",
        "    # 위 if가 거짓(False)이고, 이 조건문이 참(True)일 때 실행\n",
        "    pass\n",
        "else:\n",
        "    # if, elif가 모두 거짓일 때 실행\n",
        "    pass"
      ]
    },
    {
      "cell_type": "markdown",
      "id": "0469a633",
      "metadata": {
        "id": "0469a633"
      },
      "source": [
        "## ✅ Class 문제 1"
      ]
    },
    {
      "cell_type": "code",
      "execution_count": null,
      "id": "742c736b",
      "metadata": {
        "id": "742c736b"
      },
      "outputs": [],
      "source": [
        "class Book:\n",
        "    def __init__(self, title, author):\n",
        "        self.title = title\n",
        "        self.author = author\n",
        "\n",
        "    def print_info(self):\n",
        "        print(f\"{self.title} - {self.author}\")\n",
        "\n",
        "my_book = Book(\"파이썬 입문\", \"홍길동\")\n",
        "my_book.print_info()"
      ]
    },
    {
      "cell_type": "code",
      "execution_count": null,
      "id": "eca769d5",
      "metadata": {
        "id": "eca769d5"
      },
      "outputs": [],
      "source": [
        "'''\n",
        "- 주석달기 답변\n",
        "\n",
        "\n",
        "\n",
        "\n",
        "- 추가 문제 위 코드는 무엇을 하는 코드인가요?\n",
        "- 답변 :\n",
        "\n",
        "\n",
        "'''"
      ]
    },
    {
      "cell_type": "markdown",
      "id": "9b53fd56",
      "metadata": {
        "id": "9b53fd56"
      },
      "source": [
        "## ✅ Class 문제 2"
      ]
    },
    {
      "cell_type": "code",
      "execution_count": null,
      "id": "2dfb6129",
      "metadata": {
        "id": "2dfb6129"
      },
      "outputs": [],
      "source": [
        "class Rectangle:\n",
        "    def __init__(self, width, height):\n",
        "        self.width = width\n",
        "        self.height = height\n",
        "\n",
        "    def area(self):\n",
        "        return self.width * self.height\n",
        "\n",
        "# 테스트\n",
        "r = Rectangle(4, 5)\n",
        "print(\"넓이:\", r.area())"
      ]
    },
    {
      "cell_type": "code",
      "execution_count": null,
      "id": "7ba59885",
      "metadata": {
        "id": "7ba59885"
      },
      "outputs": [],
      "source": [
        "'''\n",
        "- 주석달기 답변\n",
        "\n",
        "\n",
        "\n",
        "\n",
        "- 추가 문제 위 코드는 무엇을 하는 코드인가요?\n",
        "- 답변 :\n",
        "\n",
        "\n",
        "'''"
      ]
    },
    {
      "cell_type": "markdown",
      "id": "2d3d38a8",
      "metadata": {
        "id": "2d3d38a8"
      },
      "source": [
        "## ✅ Class 문제 3 (난이도 UP)"
      ]
    },
    {
      "cell_type": "code",
      "execution_count": null,
      "id": "20b3eb82",
      "metadata": {
        "id": "20b3eb82",
        "outputId": "db916f42-9a27-43b2-8b3e-69635782f003"
      },
      "outputs": [
        {
          "name": "stdout",
          "output_type": "stream",
          "text": [
            "잔액: 1200\n"
          ]
        }
      ],
      "source": [
        "class BankAccount:\n",
        "    def __init__(self, owner, balance=0):\n",
        "        self.owner = owner\n",
        "        self.balance = balance\n",
        "\n",
        "    def deposit(self, amount):\n",
        "        self.balance += amount\n",
        "\n",
        "    def withdraw(self, amount):\n",
        "        if amount > self.balance:\n",
        "            print(\"잔액 부족\")\n",
        "        else:\n",
        "            self.balance -= amount\n",
        "\n",
        "    def get_balance(self):\n",
        "        return self.balance\n",
        "\n",
        "acc = BankAccount(\"홍길동\", 1000)\n",
        "acc.deposit(500)\n",
        "acc.withdraw(2000)\n",
        "acc.withdraw(300)\n",
        "print(\"잔액:\", acc.get_balance())"
      ]
    },
    {
      "cell_type": "code",
      "execution_count": null,
      "id": "8847afa8",
      "metadata": {
        "id": "8847afa8"
      },
      "outputs": [],
      "source": [
        "'''\n",
        "- 주석달기 답변\n",
        "\n",
        "\n",
        "\n",
        "\n",
        "- 추가 문제 위 코드는 무엇을 하는 코드인가요?\n",
        "- 답변 :\n",
        "\n",
        "\n",
        "'''"
      ]
    },
    {
      "cell_type": "markdown",
      "id": "f907e786",
      "metadata": {
        "id": "f907e786"
      },
      "source": [
        "## ✅ 조건문(if) 문제 4"
      ]
    },
    {
      "cell_type": "code",
      "execution_count": null,
      "id": "0a64358c",
      "metadata": {
        "id": "0a64358c"
      },
      "outputs": [],
      "source": [
        "num = 7\n",
        "\n",
        "if num % 2 == 0:\n",
        "    print(\"짝수입니다.\")\n",
        "else:\n",
        "    print(\"홀수입니다.\")"
      ]
    },
    {
      "cell_type": "code",
      "execution_count": null,
      "id": "5cc9cde9",
      "metadata": {
        "id": "5cc9cde9"
      },
      "outputs": [],
      "source": [
        "'''\n",
        "- 주석달기 답변\n",
        "\n",
        "\n",
        "\n",
        "\n",
        "'''"
      ]
    },
    {
      "cell_type": "markdown",
      "id": "da52fb1f",
      "metadata": {
        "id": "da52fb1f"
      },
      "source": [
        "## ✅ 조건문(if) 문제 5"
      ]
    },
    {
      "cell_type": "code",
      "execution_count": null,
      "id": "1c400c23",
      "metadata": {
        "id": "1c400c23"
      },
      "outputs": [],
      "source": [
        "temp = 30\n",
        "\n",
        "if temp > 25:\n",
        "    print(\"더워요.\")\n",
        "elif temp >= 15:\n",
        "    print(\"딱 좋아요.\")\n",
        "else:\n",
        "    print(\"쌀쌀해요.\")"
      ]
    },
    {
      "cell_type": "code",
      "execution_count": null,
      "id": "307234a0",
      "metadata": {
        "id": "307234a0"
      },
      "outputs": [],
      "source": [
        "'''\n",
        "- 주석달기 답변\n",
        "\n",
        "\n",
        "\n",
        "\n",
        "'''"
      ]
    },
    {
      "cell_type": "markdown",
      "id": "89d88849",
      "metadata": {
        "id": "89d88849"
      },
      "source": [
        "## ✅ 조건문(if) 문제 6 (난이도 UP)"
      ]
    },
    {
      "cell_type": "code",
      "execution_count": null,
      "id": "ebd0f049",
      "metadata": {
        "id": "ebd0f049"
      },
      "outputs": [],
      "source": [
        "score = 83\n",
        "\n",
        "if score >= 90:\n",
        "    grade = \"A\"\n",
        "elif score >= 80:\n",
        "    grade = \"B\"\n",
        "elif score >= 70:\n",
        "    grade = \"C\"\n",
        "else:\n",
        "    grade = \"F\"\n",
        "\n",
        "print(\"당신의 등급은:\", grade)"
      ]
    },
    {
      "cell_type": "code",
      "execution_count": null,
      "id": "c360c6ef",
      "metadata": {
        "id": "c360c6ef"
      },
      "outputs": [],
      "source": [
        "'''\n",
        "- 주석달기 답변\n",
        "\n",
        "\n",
        "\n",
        "\n",
        "'''"
      ]
    },
    {
      "cell_type": "markdown",
      "id": "fe891894",
      "metadata": {
        "id": "fe891894"
      },
      "source": [
        "## ✅ 반복문(for) 문제 7"
      ]
    },
    {
      "cell_type": "code",
      "execution_count": null,
      "id": "424bfcc3",
      "metadata": {
        "id": "424bfcc3"
      },
      "outputs": [],
      "source": [
        "fruits = [\"사과\", \"바나나\", \"포도\"]\n",
        "\n",
        "for fruit in fruits:\n",
        "    print(fruit)"
      ]
    },
    {
      "cell_type": "code",
      "execution_count": null,
      "id": "8cd65ef6",
      "metadata": {
        "id": "8cd65ef6"
      },
      "outputs": [],
      "source": [
        "'''\n",
        "- 주석달기 답변\n",
        "\n",
        "\n",
        "\n",
        "\n",
        "'''"
      ]
    },
    {
      "cell_type": "markdown",
      "id": "db89e004",
      "metadata": {
        "id": "db89e004"
      },
      "source": [
        "## ✅ 반복문(for) 문제 8"
      ]
    },
    {
      "cell_type": "code",
      "execution_count": null,
      "id": "b8410c12",
      "metadata": {
        "id": "b8410c12"
      },
      "outputs": [],
      "source": [
        "total = 0\n",
        "\n",
        "for i in range(1, 6):\n",
        "    total += i\n",
        "\n",
        "print(\"총합:\", total)\n"
      ]
    },
    {
      "cell_type": "code",
      "execution_count": null,
      "id": "2c19f794",
      "metadata": {
        "id": "2c19f794"
      },
      "outputs": [],
      "source": [
        "'''\n",
        "- 주석달기 답변\n",
        "\n",
        "\n",
        "\n",
        "\n",
        "'''"
      ]
    },
    {
      "cell_type": "markdown",
      "id": "3d834586",
      "metadata": {
        "id": "3d834586"
      },
      "source": [
        "## ✅ 반복문(for) 문제 9 ( 난이도 UP )"
      ]
    },
    {
      "cell_type": "code",
      "execution_count": null,
      "id": "798a142e",
      "metadata": {
        "id": "798a142e"
      },
      "outputs": [],
      "source": [
        "dan = 2\n",
        "\n",
        "for i in range(1, 10):\n",
        "    print(f\"{dan} x {i} = {dan * i}\")"
      ]
    },
    {
      "cell_type": "code",
      "execution_count": null,
      "id": "c260b965",
      "metadata": {
        "id": "c260b965"
      },
      "outputs": [],
      "source": [
        "'''\n",
        "- 주석달기 답변\n",
        "\n",
        "\n",
        "\n",
        "\n",
        "'''"
      ]
    },
    {
      "cell_type": "markdown",
      "id": "07226f72",
      "metadata": {
        "id": "07226f72"
      },
      "source": [
        "## ✅ 반복문(while) 문제 10"
      ]
    },
    {
      "cell_type": "code",
      "execution_count": null,
      "id": "1b758b18",
      "metadata": {
        "id": "1b758b18"
      },
      "outputs": [],
      "source": [
        "i = 1\n",
        "\n",
        "while i <= 5:\n",
        "    print(i)\n",
        "    i += 1"
      ]
    },
    {
      "cell_type": "code",
      "execution_count": null,
      "id": "71ed4e1b",
      "metadata": {
        "id": "71ed4e1b"
      },
      "outputs": [],
      "source": [
        "'''\n",
        "- 주석달기 답변\n",
        "\n",
        "\n",
        "\n",
        "\n",
        "'''"
      ]
    },
    {
      "cell_type": "markdown",
      "id": "99733339",
      "metadata": {
        "id": "99733339"
      },
      "source": [
        "## ✅ 반복문(while) 문제 11"
      ]
    },
    {
      "cell_type": "code",
      "execution_count": null,
      "id": "36cb93d7",
      "metadata": {
        "id": "36cb93d7"
      },
      "outputs": [],
      "source": [
        "answer = \"\"\n",
        "\n",
        "while answer != \"끝\":\n",
        "    answer = input(\"끝이라고 입력해야 종료됩니다: \")\n",
        "\n",
        "print(\"종료되었습니다.\")"
      ]
    },
    {
      "cell_type": "code",
      "execution_count": null,
      "id": "38ea89ea",
      "metadata": {
        "id": "38ea89ea"
      },
      "outputs": [],
      "source": [
        "'''\n",
        "- 주석달기 답변\n",
        "\n",
        "\n",
        "\n",
        "\n",
        "'''"
      ]
    },
    {
      "cell_type": "markdown",
      "id": "f3c55c4a",
      "metadata": {
        "id": "f3c55c4a"
      },
      "source": [
        "## ✅ 반복문(while) 문제 12 ( 난이도 UP )"
      ]
    },
    {
      "cell_type": "code",
      "execution_count": null,
      "id": "a7756eb3",
      "metadata": {
        "id": "a7756eb3"
      },
      "outputs": [],
      "source": [
        "total = 0\n",
        "\n",
        "while True:\n",
        "    num = int(input(\"숫자 입력 (0 입력 시 종료): \"))\n",
        "    if num == 0:\n",
        "        break\n",
        "    total += num\n",
        "\n",
        "print(\"총합:\", total)\n"
      ]
    },
    {
      "cell_type": "code",
      "execution_count": null,
      "id": "80e116da",
      "metadata": {
        "id": "80e116da"
      },
      "outputs": [],
      "source": [
        "'''\n",
        "- 주석달기 답변\n",
        "\n",
        "\n",
        "\n",
        "\n",
        "'''"
      ]
    },
    {
      "cell_type": "markdown",
      "id": "bf7eec2a",
      "metadata": {
        "id": "bf7eec2a"
      },
      "source": [
        "## ✅ List 문제 13"
      ]
    },
    {
      "cell_type": "code",
      "execution_count": null,
      "id": "497ce40e",
      "metadata": {
        "id": "497ce40e"
      },
      "outputs": [],
      "source": [
        "colors = []\n",
        "\n",
        "colors.append(\"빨강\")\n",
        "colors.append(\"파랑\")\n",
        "colors.append(\"초록\")\n",
        "\n",
        "print(colors)"
      ]
    },
    {
      "cell_type": "code",
      "execution_count": null,
      "id": "8e505037",
      "metadata": {
        "id": "8e505037"
      },
      "outputs": [],
      "source": [
        "'''\n",
        "- 주석달기 답변\n",
        "\n",
        "\n",
        "\n",
        "\n",
        "'''"
      ]
    },
    {
      "cell_type": "markdown",
      "id": "21c33a53",
      "metadata": {
        "id": "21c33a53"
      },
      "source": [
        "## ✅ List 문제 14"
      ]
    },
    {
      "cell_type": "code",
      "execution_count": null,
      "id": "b5e79300",
      "metadata": {
        "id": "b5e79300"
      },
      "outputs": [],
      "source": [
        "scores = [70, 85, 90, 65]\n",
        "\n",
        "print(\"최고 점수:\", max(scores))"
      ]
    },
    {
      "cell_type": "code",
      "execution_count": null,
      "id": "faec7e41",
      "metadata": {
        "id": "faec7e41"
      },
      "outputs": [],
      "source": [
        "'''\n",
        "- 주석달기 답변\n",
        "\n",
        "\n",
        "\n",
        "\n",
        "'''"
      ]
    },
    {
      "cell_type": "markdown",
      "id": "d186b63f",
      "metadata": {
        "id": "d186b63f"
      },
      "source": [
        "## ✅ List 문제 15 ( 난이도 UP )"
      ]
    },
    {
      "cell_type": "code",
      "execution_count": null,
      "id": "d1e70b22",
      "metadata": {
        "id": "d1e70b22"
      },
      "outputs": [],
      "source": [
        "scores = [88, 92, 70, 100, 95]\n",
        "\n",
        "scores.sort(reverse=True)\n",
        "top3 = scores[:3]\n",
        "\n",
        "print(\"Top 3:\", top3)"
      ]
    },
    {
      "cell_type": "code",
      "execution_count": null,
      "id": "f0c67a3c",
      "metadata": {
        "id": "f0c67a3c"
      },
      "outputs": [],
      "source": [
        "'''\n",
        "- 주석달기 답변\n",
        "\n",
        "\n",
        "\n",
        "\n",
        "'''"
      ]
    },
    {
      "cell_type": "markdown",
      "id": "174bd8db",
      "metadata": {
        "id": "174bd8db"
      },
      "source": [
        "## ✅ dictionary 문제 16"
      ]
    },
    {
      "cell_type": "code",
      "execution_count": null,
      "id": "90dccede",
      "metadata": {
        "id": "90dccede"
      },
      "outputs": [],
      "source": [
        "student = {\n",
        "    \"홍길동\": 90,\n",
        "    \"이순신\": 85\n",
        "}\n",
        "\n",
        "print(student[\"홍길동\"])"
      ]
    },
    {
      "cell_type": "code",
      "execution_count": null,
      "id": "cb4677c1",
      "metadata": {
        "id": "cb4677c1"
      },
      "outputs": [],
      "source": [
        "'''\n",
        "- 주석달기 답변\n",
        "\n",
        "\n",
        "\n",
        "\n",
        "'''"
      ]
    },
    {
      "cell_type": "markdown",
      "id": "24f22c98",
      "metadata": {
        "id": "24f22c98"
      },
      "source": [
        "## ✅ dictionary 문제 17"
      ]
    },
    {
      "cell_type": "code",
      "execution_count": null,
      "id": "eced6bc9",
      "metadata": {
        "id": "eced6bc9",
        "outputId": "18ccb0f4-f464-41a8-860b-61ffd57f2c0e"
      },
      "outputs": [
        {
          "name": "stdout",
          "output_type": "stream",
          "text": [
            "{'이름': '영희', '나이': 20, '주소': '서울'}\n"
          ]
        }
      ],
      "source": [
        "info = {\n",
        "    \"이름\": \"영희\",\n",
        "    \"나이\": 20\n",
        "}\n",
        "\n",
        "info[\"주소\"] = \"서울\"\n",
        "\n",
        "print(info)"
      ]
    },
    {
      "cell_type": "code",
      "execution_count": null,
      "id": "aaf0b526",
      "metadata": {
        "id": "aaf0b526"
      },
      "outputs": [],
      "source": [
        "'''\n",
        "- 주석달기 답변\n",
        "\n",
        "\n",
        "\n",
        "\n",
        "'''"
      ]
    },
    {
      "cell_type": "markdown",
      "id": "a41cb069",
      "metadata": {
        "id": "a41cb069"
      },
      "source": [
        "## ✅ dictionary 문제 18 ( 난이도 UP )"
      ]
    },
    {
      "cell_type": "code",
      "execution_count": null,
      "id": "7ebc13a5",
      "metadata": {
        "id": "7ebc13a5"
      },
      "outputs": [],
      "source": [
        "scores = {\n",
        "    \"철수\": 85,\n",
        "    \"영희\": 90,\n",
        "    \"민수\": 78\n",
        "}\n",
        "\n",
        "total = sum(scores.values())\n",
        "avg = total / len(scores)\n",
        "\n",
        "print(\"평균 점수:\", avg)"
      ]
    },
    {
      "cell_type": "code",
      "execution_count": null,
      "id": "38a5c0a6",
      "metadata": {
        "id": "38a5c0a6"
      },
      "outputs": [],
      "source": [
        "'''\n",
        "- 주석달기 답변\n",
        "\n",
        "\n",
        "\n",
        "\n",
        "'''"
      ]
    },
    {
      "cell_type": "markdown",
      "id": "c145db12",
      "metadata": {
        "id": "c145db12"
      },
      "source": [
        "## ✅ 실전 크롤링 코드 문제 19 ( 난이도 UP )\n",
        "해당 코드는 유튜브 api key를 이용하여 내가 원하는 유튜브영상을 크롤링 해오는 코드입니다.\n",
        "\n",
        "config는 api key 보관하기 위한 파일입니다.\n"
      ]
    },
    {
      "cell_type": "code",
      "execution_count": null,
      "id": "09f343d7",
      "metadata": {
        "id": "09f343d7"
      },
      "outputs": [],
      "source": [
        "from googleapiclient.discovery import build\n",
        "from .models import Video\n",
        "from django.utils.dateparse import parse_datetime\n",
        "from homebase import config  # API 키를 config.py에 저장\n",
        "\n",
        "\n",
        "def crawl_youtube_videos(query):\n",
        "    api_key = config.YOUTUBE_API_KEY\n",
        "    youtube = build(\"youtube\", \"v3\", developerKey=api_key)\n",
        "\n",
        "    total_records = 0\n",
        "    next_page_token = None\n",
        "\n",
        "    while True:\n",
        "\n",
        "        request = youtube.search().list(\n",
        "            part=\"id,snippet\",\n",
        "            q=query,\n",
        "            type=\"video\",\n",
        "            maxResults=50,\n",
        "            order=\"viewCount\",\n",
        "            pageToken=next_page_token,\n",
        "        )\n",
        "\n",
        "        response = request.execute()\n",
        "\n",
        "\n",
        "        for item in response.get(\"items\", []):\n",
        "            video_id = item[\"id\"][\"videoId\"]\n",
        "            title = item[\"snippet\"][\"title\"]\n",
        "            description = item[\"snippet\"][\"description\"]\n",
        "            publish_time = parse_datetime(item[\"snippet\"][\"publishedAt\"])\n",
        "            video_url = f\"https://www.youtube.com/watch?v={video_id}\"\n",
        "\n",
        "\n",
        "            if \"응원가\" in title or \"응원가\" in description:\n",
        "                Video.objects.get_or_create(\n",
        "                    video_id=video_id,\n",
        "                    defaults={\n",
        "                        \"title\": title,\n",
        "                        \"description\": description,\n",
        "                        \"publish_time\": publish_time,\n",
        "                        \"video_url\": video_url,\n",
        "                    },\n",
        "                )\n",
        "                total_records += 1\n",
        "\n",
        "\n",
        "        next_page_token = response.get(\"nextPageToken\")\n",
        "        if not next_page_token:\n",
        "            break\n",
        "\n",
        "    return total_records"
      ]
    },
    {
      "cell_type": "code",
      "execution_count": null,
      "id": "7f89f5c4",
      "metadata": {
        "id": "7f89f5c4"
      },
      "outputs": [],
      "source": [
        "'''\n",
        "- 주석달기 답변\n",
        "\n",
        "\n",
        "\n",
        "\n",
        "'''"
      ]
    },
    {
      "cell_type": "code",
      "source": [
        "# 필수 패키지 설치\n",
        "!pip install selenium beautifulsoup4\n",
        "\n",
        "# ChromeDriver 설치 (Colab에서만 필요)\n",
        "!apt-get update\n",
        "!apt install -y chromium-chromedriver\n",
        "!cp /usr/lib/chromium-browser/chromedriver /usr/bin"
      ],
      "metadata": {
        "colab": {
          "base_uri": "https://localhost:8080/"
        },
        "id": "z6Gox1_0ZtFw",
        "outputId": "f59a9210-fe64-46e6-c64e-ee833e3a7bb5"
      },
      "id": "z6Gox1_0ZtFw",
      "execution_count": null,
      "outputs": [
        {
          "output_type": "stream",
          "name": "stdout",
          "text": [
            "Collecting selenium\n",
            "  Downloading selenium-4.34.2-py3-none-any.whl.metadata (7.5 kB)\n",
            "Requirement already satisfied: beautifulsoup4 in /usr/local/lib/python3.11/dist-packages (4.13.4)\n",
            "Requirement already satisfied: urllib3~=2.5.0 in /usr/local/lib/python3.11/dist-packages (from urllib3[socks]~=2.5.0->selenium) (2.5.0)\n",
            "Collecting trio~=0.30.0 (from selenium)\n",
            "  Downloading trio-0.30.0-py3-none-any.whl.metadata (8.5 kB)\n",
            "Collecting trio-websocket~=0.12.2 (from selenium)\n",
            "  Downloading trio_websocket-0.12.2-py3-none-any.whl.metadata (5.1 kB)\n",
            "Requirement already satisfied: certifi>=2025.6.15 in /usr/local/lib/python3.11/dist-packages (from selenium) (2025.7.14)\n",
            "Requirement already satisfied: typing_extensions~=4.14.0 in /usr/local/lib/python3.11/dist-packages (from selenium) (4.14.1)\n",
            "Requirement already satisfied: websocket-client~=1.8.0 in /usr/local/lib/python3.11/dist-packages (from selenium) (1.8.0)\n",
            "Requirement already satisfied: soupsieve>1.2 in /usr/local/lib/python3.11/dist-packages (from beautifulsoup4) (2.7)\n",
            "Requirement already satisfied: attrs>=23.2.0 in /usr/local/lib/python3.11/dist-packages (from trio~=0.30.0->selenium) (25.3.0)\n",
            "Requirement already satisfied: sortedcontainers in /usr/local/lib/python3.11/dist-packages (from trio~=0.30.0->selenium) (2.4.0)\n",
            "Requirement already satisfied: idna in /usr/local/lib/python3.11/dist-packages (from trio~=0.30.0->selenium) (3.10)\n",
            "Collecting outcome (from trio~=0.30.0->selenium)\n",
            "  Downloading outcome-1.3.0.post0-py2.py3-none-any.whl.metadata (2.6 kB)\n",
            "Requirement already satisfied: sniffio>=1.3.0 in /usr/local/lib/python3.11/dist-packages (from trio~=0.30.0->selenium) (1.3.1)\n",
            "Collecting wsproto>=0.14 (from trio-websocket~=0.12.2->selenium)\n",
            "  Downloading wsproto-1.2.0-py3-none-any.whl.metadata (5.6 kB)\n",
            "Requirement already satisfied: pysocks!=1.5.7,<2.0,>=1.5.6 in /usr/local/lib/python3.11/dist-packages (from urllib3[socks]~=2.5.0->selenium) (1.7.1)\n",
            "Requirement already satisfied: h11<1,>=0.9.0 in /usr/local/lib/python3.11/dist-packages (from wsproto>=0.14->trio-websocket~=0.12.2->selenium) (0.16.0)\n",
            "Downloading selenium-4.34.2-py3-none-any.whl (9.4 MB)\n",
            "\u001b[2K   \u001b[90m━━━━━━━━━━━━━━━━━━━━━━━━━━━━━━━━━━━━━━━━\u001b[0m \u001b[32m9.4/9.4 MB\u001b[0m \u001b[31m63.4 MB/s\u001b[0m eta \u001b[36m0:00:00\u001b[0m\n",
            "\u001b[?25hDownloading trio-0.30.0-py3-none-any.whl (499 kB)\n",
            "\u001b[2K   \u001b[90m━━━━━━━━━━━━━━━━━━━━━━━━━━━━━━━━━━━━━━━━\u001b[0m \u001b[32m499.2/499.2 kB\u001b[0m \u001b[31m23.2 MB/s\u001b[0m eta \u001b[36m0:00:00\u001b[0m\n",
            "\u001b[?25hDownloading trio_websocket-0.12.2-py3-none-any.whl (21 kB)\n",
            "Downloading outcome-1.3.0.post0-py2.py3-none-any.whl (10 kB)\n",
            "Downloading wsproto-1.2.0-py3-none-any.whl (24 kB)\n",
            "Installing collected packages: wsproto, outcome, trio, trio-websocket, selenium\n",
            "Successfully installed outcome-1.3.0.post0 selenium-4.34.2 trio-0.30.0 trio-websocket-0.12.2 wsproto-1.2.0\n",
            "Get:1 https://cloud.r-project.org/bin/linux/ubuntu jammy-cran40/ InRelease [3,632 B]\n",
            "Get:2 https://developer.download.nvidia.com/compute/cuda/repos/ubuntu2204/x86_64  InRelease [1,581 B]\n",
            "Get:3 https://r2u.stat.illinois.edu/ubuntu jammy InRelease [6,555 B]\n",
            "Get:4 https://developer.download.nvidia.com/compute/cuda/repos/ubuntu2204/x86_64  Packages [1,853 kB]\n",
            "Get:5 https://r2u.stat.illinois.edu/ubuntu jammy/main amd64 Packages [2,771 kB]\n",
            "Get:6 https://r2u.stat.illinois.edu/ubuntu jammy/main all Packages [9,152 kB]\n",
            "Ign:7 https://ppa.launchpadcontent.net/deadsnakes/ppa/ubuntu jammy InRelease\n",
            "Ign:8 https://ppa.launchpadcontent.net/graphics-drivers/ppa/ubuntu jammy InRelease\n",
            "Get:9 http://security.ubuntu.com/ubuntu jammy-security InRelease [129 kB]\n",
            "Get:10 http://security.ubuntu.com/ubuntu jammy-security/universe amd64 Packages [1,269 kB]\n",
            "Get:11 http://security.ubuntu.com/ubuntu jammy-security/main amd64 Packages [3,160 kB]\n",
            "Hit:12 http://archive.ubuntu.com/ubuntu jammy InRelease\n",
            "Ign:13 https://ppa.launchpadcontent.net/ubuntugis/ppa/ubuntu jammy InRelease\n",
            "Get:14 http://archive.ubuntu.com/ubuntu jammy-updates InRelease [128 kB]\n",
            "Ign:7 https://ppa.launchpadcontent.net/deadsnakes/ppa/ubuntu jammy InRelease\n",
            "Get:15 http://archive.ubuntu.com/ubuntu jammy-backports InRelease [127 kB]\n",
            "Get:16 http://archive.ubuntu.com/ubuntu jammy-updates/main amd64 Packages [3,471 kB]\n",
            "Ign:8 https://ppa.launchpadcontent.net/graphics-drivers/ppa/ubuntu jammy InRelease\n",
            "Get:17 http://archive.ubuntu.com/ubuntu jammy-updates/universe amd64 Packages [1,574 kB]\n",
            "Ign:13 https://ppa.launchpadcontent.net/ubuntugis/ppa/ubuntu jammy InRelease\n",
            "Ign:7 https://ppa.launchpadcontent.net/deadsnakes/ppa/ubuntu jammy InRelease\n",
            "Hit:8 https://ppa.launchpadcontent.net/graphics-drivers/ppa/ubuntu jammy InRelease\n",
            "Hit:13 https://ppa.launchpadcontent.net/ubuntugis/ppa/ubuntu jammy InRelease\n",
            "Hit:7 https://ppa.launchpadcontent.net/deadsnakes/ppa/ubuntu jammy InRelease\n",
            "Fetched 23.6 MB in 11s (2,094 kB/s)\n",
            "Reading package lists... Done\n",
            "W: Skipping acquire of configured file 'main/source/Sources' as repository 'https://r2u.stat.illinois.edu/ubuntu jammy InRelease' does not seem to provide it (sources.list entry misspelt?)\n",
            "Reading package lists... Done\n",
            "Building dependency tree... Done\n",
            "Reading state information... Done\n",
            "The following additional packages will be installed:\n",
            "  apparmor chromium-browser libfuse3-3 libudev1 snapd squashfs-tools\n",
            "  systemd-hwe-hwdb udev\n",
            "Suggested packages:\n",
            "  apparmor-profiles-extra apparmor-utils fuse3 zenity | kdialog\n",
            "The following NEW packages will be installed:\n",
            "  apparmor chromium-browser chromium-chromedriver libfuse3-3 snapd\n",
            "  squashfs-tools systemd-hwe-hwdb udev\n",
            "The following packages will be upgraded:\n",
            "  libudev1\n",
            "1 upgraded, 8 newly installed, 0 to remove and 34 not upgraded.\n",
            "Need to get 30.3 MB of archives.\n",
            "After this operation, 123 MB of additional disk space will be used.\n",
            "Get:1 http://archive.ubuntu.com/ubuntu jammy-updates/main amd64 apparmor amd64 3.0.4-2ubuntu2.4 [598 kB]\n",
            "Get:2 http://archive.ubuntu.com/ubuntu jammy/main amd64 squashfs-tools amd64 1:4.5-3build1 [159 kB]\n",
            "Get:3 http://archive.ubuntu.com/ubuntu jammy-updates/main amd64 libudev1 amd64 249.11-0ubuntu3.16 [76.7 kB]\n",
            "Get:4 http://archive.ubuntu.com/ubuntu jammy-updates/main amd64 udev amd64 249.11-0ubuntu3.16 [1,557 kB]\n",
            "Get:5 http://archive.ubuntu.com/ubuntu jammy/main amd64 libfuse3-3 amd64 3.10.5-1build1 [81.2 kB]\n",
            "Get:6 http://archive.ubuntu.com/ubuntu jammy-updates/main amd64 snapd amd64 2.67.1+22.04 [27.8 MB]\n",
            "Get:7 http://archive.ubuntu.com/ubuntu jammy-updates/universe amd64 chromium-browser amd64 1:85.0.4183.83-0ubuntu2.22.04.1 [49.2 kB]\n",
            "Get:8 http://archive.ubuntu.com/ubuntu jammy-updates/universe amd64 chromium-chromedriver amd64 1:85.0.4183.83-0ubuntu2.22.04.1 [2,308 B]\n",
            "Get:9 http://archive.ubuntu.com/ubuntu jammy-updates/main amd64 systemd-hwe-hwdb all 249.11.5 [3,228 B]\n",
            "Fetched 30.3 MB in 1s (46.7 MB/s)\n",
            "Preconfiguring packages ...\n",
            "Selecting previously unselected package apparmor.\n",
            "(Reading database ... 126284 files and directories currently installed.)\n",
            "Preparing to unpack .../apparmor_3.0.4-2ubuntu2.4_amd64.deb ...\n",
            "Unpacking apparmor (3.0.4-2ubuntu2.4) ...\n",
            "Selecting previously unselected package squashfs-tools.\n",
            "Preparing to unpack .../squashfs-tools_1%3a4.5-3build1_amd64.deb ...\n",
            "Unpacking squashfs-tools (1:4.5-3build1) ...\n",
            "Preparing to unpack .../libudev1_249.11-0ubuntu3.16_amd64.deb ...\n",
            "Unpacking libudev1:amd64 (249.11-0ubuntu3.16) over (249.11-0ubuntu3.12) ...\n",
            "Setting up libudev1:amd64 (249.11-0ubuntu3.16) ...\n",
            "Selecting previously unselected package udev.\n",
            "(Reading database ... 126484 files and directories currently installed.)\n",
            "Preparing to unpack .../udev_249.11-0ubuntu3.16_amd64.deb ...\n",
            "Unpacking udev (249.11-0ubuntu3.16) ...\n",
            "Selecting previously unselected package libfuse3-3:amd64.\n",
            "Preparing to unpack .../libfuse3-3_3.10.5-1build1_amd64.deb ...\n",
            "Unpacking libfuse3-3:amd64 (3.10.5-1build1) ...\n",
            "Selecting previously unselected package snapd.\n",
            "Preparing to unpack .../snapd_2.67.1+22.04_amd64.deb ...\n",
            "Unpacking snapd (2.67.1+22.04) ...\n",
            "Setting up apparmor (3.0.4-2ubuntu2.4) ...\n",
            "Created symlink /etc/systemd/system/sysinit.target.wants/apparmor.service → /lib/systemd/system/apparmor.service.\n",
            "Setting up squashfs-tools (1:4.5-3build1) ...\n",
            "Setting up udev (249.11-0ubuntu3.16) ...\n",
            "invoke-rc.d: could not determine current runlevel\n",
            "invoke-rc.d: policy-rc.d denied execution of start.\n",
            "Setting up libfuse3-3:amd64 (3.10.5-1build1) ...\n",
            "Setting up snapd (2.67.1+22.04) ...\n",
            "Created symlink /etc/systemd/system/multi-user.target.wants/snapd.apparmor.service → /lib/systemd/system/snapd.apparmor.service.\n",
            "Created symlink /etc/systemd/system/multi-user.target.wants/snapd.autoimport.service → /lib/systemd/system/snapd.autoimport.service.\n",
            "Created symlink /etc/systemd/system/multi-user.target.wants/snapd.core-fixup.service → /lib/systemd/system/snapd.core-fixup.service.\n",
            "Created symlink /etc/systemd/system/multi-user.target.wants/snapd.recovery-chooser-trigger.service → /lib/systemd/system/snapd.recovery-chooser-trigger.service.\n",
            "Created symlink /etc/systemd/system/multi-user.target.wants/snapd.seeded.service → /lib/systemd/system/snapd.seeded.service.\n",
            "Created symlink /etc/systemd/system/cloud-final.service.wants/snapd.seeded.service → /lib/systemd/system/snapd.seeded.service.\n",
            "Unit /lib/systemd/system/snapd.seeded.service is added as a dependency to a non-existent unit cloud-final.service.\n",
            "Created symlink /etc/systemd/system/multi-user.target.wants/snapd.service → /lib/systemd/system/snapd.service.\n",
            "Created symlink /etc/systemd/system/timers.target.wants/snapd.snap-repair.timer → /lib/systemd/system/snapd.snap-repair.timer.\n",
            "Created symlink /etc/systemd/system/sockets.target.wants/snapd.socket → /lib/systemd/system/snapd.socket.\n",
            "Created symlink /etc/systemd/system/final.target.wants/snapd.system-shutdown.service → /lib/systemd/system/snapd.system-shutdown.service.\n",
            "Selecting previously unselected package chromium-browser.\n",
            "(Reading database ... 126713 files and directories currently installed.)\n",
            "Preparing to unpack .../chromium-browser_1%3a85.0.4183.83-0ubuntu2.22.04.1_amd64.deb ...\n",
            "=> Installing the chromium snap\n",
            "==> Checking connectivity with the snap store\n",
            "===> System doesn't have a working snapd, skipping\n",
            "Unpacking chromium-browser (1:85.0.4183.83-0ubuntu2.22.04.1) ...\n",
            "Selecting previously unselected package chromium-chromedriver.\n",
            "Preparing to unpack .../chromium-chromedriver_1%3a85.0.4183.83-0ubuntu2.22.04.1_amd64.deb ...\n",
            "Unpacking chromium-chromedriver (1:85.0.4183.83-0ubuntu2.22.04.1) ...\n",
            "Selecting previously unselected package systemd-hwe-hwdb.\n",
            "Preparing to unpack .../systemd-hwe-hwdb_249.11.5_all.deb ...\n",
            "Unpacking systemd-hwe-hwdb (249.11.5) ...\n",
            "Setting up systemd-hwe-hwdb (249.11.5) ...\n",
            "Setting up chromium-browser (1:85.0.4183.83-0ubuntu2.22.04.1) ...\n",
            "update-alternatives: using /usr/bin/chromium-browser to provide /usr/bin/x-www-browser (x-www-browser) in auto mode\n",
            "update-alternatives: using /usr/bin/chromium-browser to provide /usr/bin/gnome-www-browser (gnome-www-browser) in auto mode\n",
            "Setting up chromium-chromedriver (1:85.0.4183.83-0ubuntu2.22.04.1) ...\n",
            "Processing triggers for udev (249.11-0ubuntu3.16) ...\n",
            "Processing triggers for mailcap (3.70+nmu1ubuntu1) ...\n",
            "Processing triggers for hicolor-icon-theme (0.17-2) ...\n",
            "Processing triggers for libc-bin (2.35-0ubuntu3.8) ...\n",
            "/sbin/ldconfig.real: /usr/local/lib/libtbbbind.so.3 is not a symbolic link\n",
            "\n",
            "/sbin/ldconfig.real: /usr/local/lib/libur_adapter_level_zero.so.0 is not a symbolic link\n",
            "\n",
            "/sbin/ldconfig.real: /usr/local/lib/libur_adapter_level_zero_v2.so.0 is not a symbolic link\n",
            "\n",
            "/sbin/ldconfig.real: /usr/local/lib/libur_loader.so.0 is not a symbolic link\n",
            "\n",
            "/sbin/ldconfig.real: /usr/local/lib/libtbbbind_2_0.so.3 is not a symbolic link\n",
            "\n",
            "/sbin/ldconfig.real: /usr/local/lib/libtcm_debug.so.1 is not a symbolic link\n",
            "\n",
            "/sbin/ldconfig.real: /usr/local/lib/libumf.so.0 is not a symbolic link\n",
            "\n",
            "/sbin/ldconfig.real: /usr/local/lib/libtbbmalloc_proxy.so.2 is not a symbolic link\n",
            "\n",
            "/sbin/ldconfig.real: /usr/local/lib/libtbbbind_2_5.so.3 is not a symbolic link\n",
            "\n",
            "/sbin/ldconfig.real: /usr/local/lib/libtbb.so.12 is not a symbolic link\n",
            "\n",
            "/sbin/ldconfig.real: /usr/local/lib/libur_adapter_opencl.so.0 is not a symbolic link\n",
            "\n",
            "/sbin/ldconfig.real: /usr/local/lib/libtcm.so.1 is not a symbolic link\n",
            "\n",
            "/sbin/ldconfig.real: /usr/local/lib/libtbbmalloc.so.2 is not a symbolic link\n",
            "\n",
            "/sbin/ldconfig.real: /usr/local/lib/libhwloc.so.15 is not a symbolic link\n",
            "\n",
            "Processing triggers for man-db (2.10.2-1) ...\n",
            "Processing triggers for dbus (1.12.20-2ubuntu4.1) ...\n",
            "cp: '/usr/lib/chromium-browser/chromedriver' and '/usr/bin/chromedriver' are the same file\n"
          ]
        }
      ]
    },
    {
      "cell_type": "markdown",
      "id": "a3f59a28",
      "metadata": {
        "id": "a3f59a28"
      },
      "source": [
        "## ✅ 실전 크롤링 코드 문제 20 ( 난이도 UP )\n",
        "아래 코드는 크롤링을 위한 베이스 크롤러입니다.\n",
        "Class 흐름 파악용 예제로 import한게 없어 실행되지 않습니다."
      ]
    },
    {
      "cell_type": "code",
      "execution_count": null,
      "id": "b2ff1b84",
      "metadata": {
        "id": "b2ff1b84"
      },
      "outputs": [],
      "source": [
        "# 필요한 라이브러리 임포트 - 아래 주석을 하시면서 패키지를 왜 사용하게 됐는지를 이해하세요.\n",
        "import time\n",
        "from bs4 import BeautifulSoup\n",
        "from urllib.parse import urljoin\n",
        "\n",
        "\n",
        "\n",
        "from selenium import webdriver\n",
        "from selenium.webdriver.chrome.options import Options\n",
        "from selenium.webdriver.remote.webdriver import WebDriver\n",
        "\n",
        "# Colab용 크롬 드라이버 설정\n",
        "chrome_options = Options()\n",
        "chrome_options.add_argument(\"--headless\")  # 브라우저 창 숨김\n",
        "chrome_options.add_argument(\"--no-sandbox\")\n",
        "chrome_options.add_argument(\"--disable-dev-shm-usage\")\n",
        "driver = webdriver.Chrome(options=chrome_options)\n",
        "\n",
        "## 위 부분까지는 주석 작성하지 않으셔도 됩니다.\n",
        "\n",
        "class BaseJobCrawler:\n",
        "    def get_job_list(self, driver: WebDriver) -> list[dict[str, str]]:\n",
        "        raise NotImplementedError()\n",
        "\n",
        "    def get_title_and_content_from_html(self, html, url=None):\n",
        "        soup = BeautifulSoup(html, features='html.parser')\n",
        "\n",
        "        title_el, content_el = self._get_title_and_content_el(soup, url)\n",
        "\n",
        "        title = title_el.text.strip() if title_el else ''\n",
        "        content = ''\n",
        "\n",
        "        if content_el:\n",
        "            if type(content_el) is str:\n",
        "                return title, content_el\n",
        "            if type(content_el) is not list:\n",
        "                content_el = [content_el]\n",
        "            for el in content_el:\n",
        "                if el:\n",
        "                    if type(el) is str:\n",
        "                        content += f'{el.strip()}\\n'\n",
        "                    else:\n",
        "                        for string in el.strings:\n",
        "                            if string.strip():\n",
        "                                content += f'{string.strip()}\\n'\n",
        "\n",
        "        return title, content\n",
        "\n",
        "    def _get_title_and_content_el(self, soup, url=''):\n",
        "        return (\n",
        "            soup.select_one('title'),\n",
        "            soup,\n",
        "        )\n"
      ]
    },
    {
      "cell_type": "code",
      "execution_count": null,
      "id": "33c21b4b",
      "metadata": {
        "id": "33c21b4b"
      },
      "outputs": [],
      "source": [
        "'''\n",
        "- 주석달기 답변\n",
        "\n",
        "\n",
        "\n",
        "\n",
        "'''"
      ]
    },
    {
      "cell_type": "markdown",
      "source": [
        "## ✅ 실전 크롤링 코드 문제 20-1 ( 난이도 UP )\n",
        "아래 코드는 크롤링을 하기 위해 베이스 크롤러를 상속받아 작동하는 크롤러 입니다.\n",
        "\n",
        "class코드만 가져온것이므로 실행은 되지 않습니다.\n"
      ],
      "metadata": {
        "id": "banMZ7aHRHKn"
      },
      "id": "banMZ7aHRHKn"
    },
    {
      "cell_type": "code",
      "source": [
        "import pandas as pd\n",
        "\n",
        "TIME_TO_WAIT = 2\n",
        "class BlizzardCrawler(BaseJobCrawler):\n",
        "    job_page_url = 'https://careers.blizzard.com/kr/ko/search-results'\n",
        "    job_list_url = job_page_url\n",
        "    job_list = []\n",
        "\n",
        "    def parserBody(self, soup, driver):\n",
        "        job_sections = soup.select(\n",
        "            '#acc-skip-content > div > div > div > div > div > section:nth-child(2) div.content-block ul li div span a'\n",
        "        )\n",
        "\n",
        "        for job in job_sections:\n",
        "            try:\n",
        "                url = job['href']\n",
        "                title = job.text.strip()\n",
        "                full_url = f\"https://careers.blizzard.com{url}\" if url.startswith('/') else url\n",
        "\n",
        "                self.job_list.append({\n",
        "                    'title': title,\n",
        "                    'url': full_url,\n",
        "                })\n",
        "            except Exception as e:\n",
        "                print(f\"❌ Error parsing job: {e}\")\n",
        "                continue\n",
        "\n",
        "    def get_job_list(self, driver):\n",
        "        self.job_list = []\n",
        "        offset = 0\n",
        "\n",
        "        while True:\n",
        "            url_with_offset = f\"{self.job_list_url}?from={offset}&s=1\"\n",
        "            driver.get(url_with_offset)\n",
        "            time.sleep(TIME_TO_WAIT)\n",
        "\n",
        "            soup = BeautifulSoup(driver.page_source, features='html.parser')\n",
        "            previous_count = len(self.job_list)\n",
        "            self.parserBody(soup=soup, driver=driver)\n",
        "\n",
        "            if len(self.job_list) == previous_count:\n",
        "                break\n",
        "\n",
        "            offset += 10\n",
        "\n",
        "        return self.job_list\n",
        "\n",
        "# [6] 크롤러 실행\n",
        "crawler = BlizzardCrawler()\n",
        "job_list = crawler.get_job_list(driver)\n",
        "\n",
        "# [7] 출력 (텍스트 출력 + 표 출력)\n",
        "print(f\"\\n✅ 총 {len(job_list)}개의 블리자드 채용 공고를 수집했습니다.\\n\")\n",
        "for job in job_list:\n",
        "    print(f\"📌 제목: {job['title']}\")\n",
        "    print(f\"🔗 URL : {job['url']}\")\n",
        "    print(\"-\" * 50)\n",
        "\n",
        "# [8] pandas로 보기 좋게 출력\n",
        "df = pd.DataFrame(job_list)\n",
        "df.head()  # 표 형태 출력"
      ],
      "metadata": {
        "colab": {
          "base_uri": "https://localhost:8080/",
          "height": 1000
        },
        "id": "fJQA8EtTRVL5",
        "outputId": "63fadc63-b1f1-419a-cd96-49aeccd4a50d"
      },
      "id": "fJQA8EtTRVL5",
      "execution_count": null,
      "outputs": [
        {
          "output_type": "stream",
          "name": "stdout",
          "text": [
            "\n",
            "✅ 총 76개의 블리자드 채용 공고를 수집했습니다.\n",
            "\n",
            "📌 제목: Senior Software Engineer, Game Services\n",
            "🔗 URL : https://careers.blizzard.com/kr/ko/job/R024175/Senior-Software-Engineer-Game-Services\n",
            "--------------------------------------------------\n",
            "📌 제목: Principal Software Engineer, Engine Systems - Unannounced Game | Albany, NY or Irvine, CA\n",
            "🔗 URL : https://careers.blizzard.com/kr/ko/job/R024692/Principal-Software-Engineer-Engine-Systems-Unannounced-Game-Albany-NY-or-Irvine-CA\n",
            "--------------------------------------------------\n",
            "📌 제목: Senior Software Engineer, Gameplay Tools - Unannounced Game | Albany, NY or Irvine, CA\n",
            "🔗 URL : https://careers.blizzard.com/kr/ko/job/R024853/Senior-Software-Engineer-Gameplay-Tools-Unannounced-Game-Albany-NY-or-Irvine-CA\n",
            "--------------------------------------------------\n",
            "📌 제목: Senior FX Artist II (SFD / Cinematics)\n",
            "🔗 URL : https://careers.blizzard.com/kr/ko/job/R025040/Senior-FX-Artist-II-SFD-Cinematics\n",
            "--------------------------------------------------\n",
            "📌 제목: Filipino Language Lead(1-year Contractor)\n",
            "🔗 URL : https://careers.blizzard.com/kr/ko/job/R024659/Filipino-Language-Lead-1-year-Contractor\n",
            "--------------------------------------------------\n",
            "📌 제목: Senior HR Business Partner\n",
            "🔗 URL : https://careers.blizzard.com/kr/ko/job/R025177/Senior-HR-Business-Partner\n",
            "--------------------------------------------------\n",
            "📌 제목: Senior Software Engineer, Game Services\n",
            "🔗 URL : https://careers.blizzard.com/kr/ko/job/R025190/Senior-Software-Engineer-Game-Services\n",
            "--------------------------------------------------\n",
            "📌 제목: Project Director, Blizzard Video - Temp (SFD)\n",
            "🔗 URL : https://careers.blizzard.com/kr/ko/job/R025280/Project-Director-Blizzard-Video-Temp-SFD\n",
            "--------------------------------------------------\n",
            "📌 제목: Paralegal\n",
            "🔗 URL : https://careers.blizzard.com/kr/ko/job/R025341/Paralegal\n",
            "--------------------------------------------------\n",
            "📌 제목: Test Manager, Overwatch | Irvine, CA\n",
            "🔗 URL : https://careers.blizzard.com/kr/ko/job/R025023/Test-Manager-Overwatch-Irvine-CA\n",
            "--------------------------------------------------\n",
            "📌 제목: Technical Artist - Unannounced Game | Irvine, CA or Albany, NY\n",
            "🔗 URL : https://careers.blizzard.com/kr/ko/job/R025437/Technical-Artist-Unannounced-Game-Irvine-CA-or-Albany-NY\n",
            "--------------------------------------------------\n",
            "📌 제목: Test Director, Unannounced Game | Irvine, CA\n",
            "🔗 URL : https://careers.blizzard.com/kr/ko/job/R025431/Test-Director-Unannounced-Game-Irvine-CA\n",
            "--------------------------------------------------\n",
            "📌 제목: Lead Character Modeler - Overwatch 2 | Irvine, CA\n",
            "🔗 URL : https://careers.blizzard.com/kr/ko/job/R025358/Lead-Character-Modeler-Overwatch-2-Irvine-CA\n",
            "--------------------------------------------------\n",
            "📌 제목: Software Engineer, Graphics - Overwatch 2\n",
            "🔗 URL : https://careers.blizzard.com/kr/ko/job/R025476/Software-Engineer-Graphics-Overwatch-2\n",
            "--------------------------------------------------\n",
            "📌 제목: Design Director, Systems - Diablo\n",
            "🔗 URL : https://careers.blizzard.com/kr/ko/job/R025353/Design-Director-Systems-Diablo\n",
            "--------------------------------------------------\n",
            "📌 제목: Senior UX Designer - Diablo\n",
            "🔗 URL : https://careers.blizzard.com/kr/ko/job/R025505/Senior-UX-Designer-Diablo\n",
            "--------------------------------------------------\n",
            "📌 제목: Software Engineer, Gameplay\n",
            "🔗 URL : https://careers.blizzard.com/kr/ko/job/R025519/Software-Engineer-Gameplay\n",
            "--------------------------------------------------\n",
            "📌 제목: Senior Go Software Engineer\n",
            "🔗 URL : https://careers.blizzard.com/kr/ko/job/R024862/Senior-Go-Software-Engineer\n",
            "--------------------------------------------------\n",
            "📌 제목: Senior Manager, Overwatch Analytics\n",
            "🔗 URL : https://careers.blizzard.com/kr/ko/job/R024929/Senior-Manager-Overwatch-Analytics\n",
            "--------------------------------------------------\n",
            "📌 제목: Senior Product Manager, World of Warcraft\n",
            "🔗 URL : https://careers.blizzard.com/kr/ko/job/R024932/Senior-Product-Manager-World-of-Warcraft\n",
            "--------------------------------------------------\n",
            "📌 제목: Lead Software Engineer, Performance Engineering\n",
            "🔗 URL : https://careers.blizzard.com/kr/ko/job/R025445/Lead-Software-Engineer-Performance-Engineering\n",
            "--------------------------------------------------\n",
            "📌 제목: Senior Software Engineer, Animation - Overwatch 2 | Irvine, CA\n",
            "🔗 URL : https://careers.blizzard.com/kr/ko/job/R025530/Senior-Software-Engineer-Animation-Overwatch-2-Irvine-CA\n",
            "--------------------------------------------------\n",
            "📌 제목: Senior Technical Animator, Outsource – Overwatch 2 | Irvine, CA\n",
            "🔗 URL : https://careers.blizzard.com/kr/ko/job/R025521/Senior-Technical-Animator-Outsource-Overwatch-2-Irvine-CA\n",
            "--------------------------------------------------\n",
            "📌 제목: Director, Commercial Partnerships | Irvine, CA\n",
            "🔗 URL : https://careers.blizzard.com/kr/ko/job/R025525/Director-Commercial-Partnerships-Irvine-CA\n",
            "--------------------------------------------------\n",
            "📌 제목: Software Engineer, Combat Gameplay - Unannounced Game\n",
            "🔗 URL : https://careers.blizzard.com/kr/ko/job/R025217/Software-Engineer-Combat-Gameplay-Unannounced-Game\n",
            "--------------------------------------------------\n",
            "📌 제목: Senior Test Analyst, B&OP | Irvine, CA or Austin, TX\n",
            "🔗 URL : https://careers.blizzard.com/kr/ko/job/R025356/Senior-Test-Analyst-B-OP-Irvine-CA-or-Austin-TX\n",
            "--------------------------------------------------\n",
            "📌 제목: Principal Designer, Missions - Unannounced Game\n",
            "🔗 URL : https://careers.blizzard.com/kr/ko/job/R025480/Principal-Designer-Missions-Unannounced-Game\n",
            "--------------------------------------------------\n",
            "📌 제목: Senior Software Engineer II, Gameplay - AI/Combat - Unannounced Game | Irvine, CA\n",
            "🔗 URL : https://careers.blizzard.com/kr/ko/job/R025329/Senior-Software-Engineer-II-Gameplay-AI-Combat-Unannounced-Game-Irvine-CA\n",
            "--------------------------------------------------\n",
            "📌 제목: Senior Producer, Mission - Unannounced Game\n",
            "🔗 URL : https://careers.blizzard.com/kr/ko/job/R025560/Senior-Producer-Mission-Unannounced-Game\n",
            "--------------------------------------------------\n",
            "📌 제목: Content Operations Specialist - Contract\n",
            "🔗 URL : https://careers.blizzard.com/kr/ko/job/R025474/Content-Operations-Specialist-Contract\n",
            "--------------------------------------------------\n",
            "📌 제목: VFX Artist - World of Warcraft | Irvine, CA\n",
            "🔗 URL : https://careers.blizzard.com/kr/ko/job/R025250/VFX-Artist-World-of-Warcraft-Irvine-CA\n",
            "--------------------------------------------------\n",
            "📌 제목: Senior Localization Producer | Irvine, CA\n",
            "🔗 URL : https://careers.blizzard.com/kr/ko/job/R025459/Senior-Localization-Producer-Irvine-CA\n",
            "--------------------------------------------------\n",
            "📌 제목: Brand Manager, Diablo Immortal\n",
            "🔗 URL : https://careers.blizzard.com/kr/ko/job/R025512/Brand-Manager-Diablo-Immortal\n",
            "--------------------------------------------------\n",
            "📌 제목: Senior Software Engineer - Diablo Immortal\n",
            "🔗 URL : https://careers.blizzard.com/kr/ko/job/R025550/Senior-Software-Engineer-Diablo-Immortal\n",
            "--------------------------------------------------\n",
            "📌 제목: Senior Producer II, Creative - Unannounced Game\n",
            "🔗 URL : https://careers.blizzard.com/kr/ko/job/R025539/Senior-Producer-II-Creative-Unannounced-Game\n",
            "--------------------------------------------------\n",
            "📌 제목: Senior Test Analyst, World of Warcraft | Boston, MA\n",
            "🔗 URL : https://careers.blizzard.com/kr/ko/job/R025024/Senior-Test-Analyst-World-of-Warcraft-Boston-MA\n",
            "--------------------------------------------------\n",
            "📌 제목: Senior Software Engineer I, Platform Security\n",
            "🔗 URL : https://careers.blizzard.com/kr/ko/job/R025460/Senior-Software-Engineer-I-Platform-Security\n",
            "--------------------------------------------------\n",
            "📌 제목: Senior Game Designer, Systems - World of Warcraft | Irvine, CA\n",
            "🔗 URL : https://careers.blizzard.com/kr/ko/job/R025586/Senior-Game-Designer-Systems-World-of-Warcraft-Irvine-CA\n",
            "--------------------------------------------------\n",
            "📌 제목: Legal Counsel - Employment\n",
            "🔗 URL : https://careers.blizzard.com/kr/ko/job/R025145/Legal-Counsel-Employment\n",
            "--------------------------------------------------\n",
            "📌 제목: Analyst - Threats, Investigations and Platform Security\n",
            "🔗 URL : https://careers.blizzard.com/kr/ko/job/R025454/Analyst-Threats-Investigations-and-Platform-Security\n",
            "--------------------------------------------------\n",
            "📌 제목: Senior Financial Analyst\n",
            "🔗 URL : https://careers.blizzard.com/kr/ko/job/R025584/Senior-Financial-Analyst\n",
            "--------------------------------------------------\n",
            "📌 제목: Senior Technical Artist, World - Unannounced Game | Irvine, CA or Albany, NY\n",
            "🔗 URL : https://careers.blizzard.com/kr/ko/job/R025593/Senior-Technical-Artist-World-Unannounced-Game-Irvine-CA-or-Albany-NY\n",
            "--------------------------------------------------\n",
            "📌 제목: Senior Technical Artist (Generalist) - Unannounced Game | Irvine, CA or Albany, NY\n",
            "🔗 URL : https://careers.blizzard.com/kr/ko/job/R025683/Senior-Technical-Artist-Generalist-Unannounced-Game-Irvine-CA-or-Albany-NY\n",
            "--------------------------------------------------\n",
            "📌 제목: Technical Manager, Oracle Database Engineering\n",
            "🔗 URL : https://careers.blizzard.com/kr/ko/job/R025580/Technical-Manager-Oracle-Database-Engineering\n",
            "--------------------------------------------------\n",
            "📌 제목: Senior Producer II, World - Unannounced Game | Irvine, CA\n",
            "🔗 URL : https://careers.blizzard.com/kr/ko/job/R025558/Senior-Producer-II-World-Unannounced-Game-Irvine-CA\n",
            "--------------------------------------------------\n",
            "📌 제목: Director, International Marketing, China\n",
            "🔗 URL : https://careers.blizzard.com/kr/ko/job/R025579/Director-International-Marketing-China\n",
            "--------------------------------------------------\n",
            "📌 제목: Vice President & Executive Producer, Overwatch 2\n",
            "🔗 URL : https://careers.blizzard.com/kr/ko/job/R025073/Vice-President-Executive-Producer-Overwatch-2\n",
            "--------------------------------------------------\n",
            "📌 제목: Senior Animator, Gameplay - Unannounced Game | Irvine, CA or Albany, NY\n",
            "🔗 URL : https://careers.blizzard.com/kr/ko/job/R025427/Senior-Animator-Gameplay-Unannounced-Game-Irvine-CA-or-Albany-NY\n",
            "--------------------------------------------------\n",
            "📌 제목: Design Director, Missions - Unannounced Game\n",
            "🔗 URL : https://careers.blizzard.com/kr/ko/job/R025698/Design-Director-Missions-Unannounced-Game\n",
            "--------------------------------------------------\n",
            "📌 제목: Senior Rigging & Simulation Artist – Temp (SFD / Cinematics)\n",
            "🔗 URL : https://careers.blizzard.com/kr/ko/job/R025612/Senior-Rigging-Simulation-Artist-Temp-SFD-Cinematics\n",
            "--------------------------------------------------\n",
            "📌 제목: Senior Animator – Temp (SFD / Cinematics)\n",
            "🔗 URL : https://careers.blizzard.com/kr/ko/job/R025614/Senior-Animator-Temp-SFD-Cinematics\n",
            "--------------------------------------------------\n",
            "📌 제목: Senior Data Engineer\n",
            "🔗 URL : https://careers.blizzard.com/kr/ko/job/R025704/Senior-Data-Engineer\n",
            "--------------------------------------------------\n",
            "📌 제목: Senior Software Engineer, UI Features - Unannounced Game (Temp)\n",
            "🔗 URL : https://careers.blizzard.com/kr/ko/job/R025747/Senior-Software-Engineer-UI-Features-Unannounced-Game-Temp\n",
            "--------------------------------------------------\n",
            "📌 제목: Senior Manager, Accounting\n",
            "🔗 URL : https://careers.blizzard.com/kr/ko/job/R023985/Senior-Manager-Accounting\n",
            "--------------------------------------------------\n",
            "📌 제목: Machine Learning Engineer, Platform Security\n",
            "🔗 URL : https://careers.blizzard.com/kr/ko/job/R025721/Machine-Learning-Engineer-Platform-Security\n",
            "--------------------------------------------------\n",
            "📌 제목: Senior Cinematic Designer (SFD / Cinematics)\n",
            "🔗 URL : https://careers.blizzard.com/kr/ko/job/R025713/Senior-Cinematic-Designer-SFD-Cinematics\n",
            "--------------------------------------------------\n",
            "📌 제목: Senior Test Analyst II, Unannounced Game | Irvine, CA\n",
            "🔗 URL : https://careers.blizzard.com/kr/ko/job/R025311/Senior-Test-Analyst-II-Unannounced-Game-Irvine-CA\n",
            "--------------------------------------------------\n",
            "📌 제목: Senior Outsource Supervisor, Environment - Unannounced Project | Irvine, CA or Albany, NY\n",
            "🔗 URL : https://careers.blizzard.com/kr/ko/job/R025624/Senior-Outsource-Supervisor-Environment-Unannounced-Project-Irvine-CA-or-Albany-NY\n",
            "--------------------------------------------------\n",
            "📌 제목: Senior VFX Artist - Unannounced Game | Irvine, CA or Albany, NY\n",
            "🔗 URL : https://careers.blizzard.com/kr/ko/job/R025249/Senior-VFX-Artist-Unannounced-Game-Irvine-CA-or-Albany-NY\n",
            "--------------------------------------------------\n",
            "📌 제목: Senior Data Scientist, Computer Graphics\n",
            "🔗 URL : https://careers.blizzard.com/kr/ko/job/R023190/Senior-Data-Scientist-Computer-Graphics\n",
            "--------------------------------------------------\n",
            "📌 제목: Senior Social Media Specialist - APAC South\n",
            "🔗 URL : https://careers.blizzard.com/kr/ko/job/R025736/Senior-Social-Media-Specialist-APAC-South\n",
            "--------------------------------------------------\n",
            "📌 제목: Senior Financial Analyst\n",
            "🔗 URL : https://careers.blizzard.com/kr/ko/job/R024810/Senior-Financial-Analyst\n",
            "--------------------------------------------------\n",
            "📌 제목: Senior Animator – Temp (SFD / Cinematics)\n",
            "🔗 URL : https://careers.blizzard.com/kr/ko/job/R025619/Senior-Animator-Temp-SFD-Cinematics\n",
            "--------------------------------------------------\n",
            "📌 제목: Senior Animator – Temp (SFD / Cinematics)\n",
            "🔗 URL : https://careers.blizzard.com/kr/ko/job/R025618/Senior-Animator-Temp-SFD-Cinematics\n",
            "--------------------------------------------------\n",
            "📌 제목: Asia Communications Director, Activision & Blizzard\n",
            "🔗 URL : https://careers.blizzard.com/kr/ko/job/R025017/Asia-Communications-Director-Activision-Blizzard\n",
            "--------------------------------------------------\n",
            "📌 제목: Senior Animator – Temp (SFD / Cinematics)\n",
            "🔗 URL : https://careers.blizzard.com/kr/ko/job/R025620/Senior-Animator-Temp-SFD-Cinematics\n",
            "--------------------------------------------------\n",
            "📌 제목: Associate Technical Designer, Combat AI (Temp) - Unannounced Game\n",
            "🔗 URL : https://careers.blizzard.com/kr/ko/job/R025739/Associate-Technical-Designer-Combat-AI-Temp-Unannounced-Game\n",
            "--------------------------------------------------\n",
            "📌 제목: Senior Technical Artist, Animation - Unannounced Game | Irvine, CA\n",
            "🔗 URL : https://careers.blizzard.com/kr/ko/job/R025565/Senior-Technical-Artist-Animation-Unannounced-Game-Irvine-CA\n",
            "--------------------------------------------------\n",
            "📌 제목: Lead Software Engineer, Gameplay- Unannounced game - Albany & Irvine\n",
            "🔗 URL : https://careers.blizzard.com/kr/ko/job/R024855/Lead-Software-Engineer-Gameplay-Unannounced-game-Albany-Irvine\n",
            "--------------------------------------------------\n",
            "📌 제목: Lead Software Engineer, Server Features\n",
            "🔗 URL : https://careers.blizzard.com/kr/ko/job/R025714/Lead-Software-Engineer-Server-Features\n",
            "--------------------------------------------------\n",
            "📌 제목: Senior Manager, Overwatch Business Operations\n",
            "🔗 URL : https://careers.blizzard.com/kr/ko/job/R025700/Senior-Manager-Overwatch-Business-Operations\n",
            "--------------------------------------------------\n",
            "📌 제목: VFX Artist - Unannounced Game |\n",
            "🔗 URL : https://careers.blizzard.com/kr/ko/job/R025357/VFX-Artist-Unannounced-Game\n",
            "--------------------------------------------------\n",
            "📌 제목: Senior Designer, UX/UI - Unannounced Game\n",
            "🔗 URL : https://careers.blizzard.com/kr/ko/job/R025537/Senior-Designer-UX-UI-Unannounced-Game\n",
            "--------------------------------------------------\n",
            "📌 제목: Senior Animator – Temp (SFD / Cinematics)\n",
            "🔗 URL : https://careers.blizzard.com/kr/ko/job/R025615/Senior-Animator-Temp-SFD-Cinematics\n",
            "--------------------------------------------------\n",
            "📌 제목: Senior Software Engineer II, Build Systems - Unannounced Game | Irvine, CA or Albany, NY\n",
            "🔗 URL : https://careers.blizzard.com/kr/ko/job/R025091/Senior-Software-Engineer-II-Build-Systems-Unannounced-Game-Irvine-CA-or-Albany-NY\n",
            "--------------------------------------------------\n",
            "📌 제목: Software Engineer, Engine Systems Engineer | Diablo | Albany, NY or Irvine, CA\n",
            "🔗 URL : https://careers.blizzard.com/kr/ko/job/R025779/Software-Engineer-Engine-Systems-Engineer-Diablo-Albany-NY-or-Irvine-CA\n",
            "--------------------------------------------------\n"
          ]
        },
        {
          "output_type": "execute_result",
          "data": {
            "text/plain": [
              "                                               title  \\\n",
              "0            Senior Software Engineer, Game Services   \n",
              "1  Principal Software Engineer, Engine Systems - ...   \n",
              "2  Senior Software Engineer, Gameplay Tools - Una...   \n",
              "3             Senior FX Artist II (SFD / Cinematics)   \n",
              "4          Filipino Language Lead(1-year Contractor)   \n",
              "\n",
              "                                                 url  \n",
              "0  https://careers.blizzard.com/kr/ko/job/R024175...  \n",
              "1  https://careers.blizzard.com/kr/ko/job/R024692...  \n",
              "2  https://careers.blizzard.com/kr/ko/job/R024853...  \n",
              "3  https://careers.blizzard.com/kr/ko/job/R025040...  \n",
              "4  https://careers.blizzard.com/kr/ko/job/R024659...  "
            ],
            "text/html": [
              "\n",
              "  <div id=\"df-9548a9cc-08e6-49ca-9a62-c8883bdf0d09\" class=\"colab-df-container\">\n",
              "    <div>\n",
              "<style scoped>\n",
              "    .dataframe tbody tr th:only-of-type {\n",
              "        vertical-align: middle;\n",
              "    }\n",
              "\n",
              "    .dataframe tbody tr th {\n",
              "        vertical-align: top;\n",
              "    }\n",
              "\n",
              "    .dataframe thead th {\n",
              "        text-align: right;\n",
              "    }\n",
              "</style>\n",
              "<table border=\"1\" class=\"dataframe\">\n",
              "  <thead>\n",
              "    <tr style=\"text-align: right;\">\n",
              "      <th></th>\n",
              "      <th>title</th>\n",
              "      <th>url</th>\n",
              "    </tr>\n",
              "  </thead>\n",
              "  <tbody>\n",
              "    <tr>\n",
              "      <th>0</th>\n",
              "      <td>Senior Software Engineer, Game Services</td>\n",
              "      <td>https://careers.blizzard.com/kr/ko/job/R024175...</td>\n",
              "    </tr>\n",
              "    <tr>\n",
              "      <th>1</th>\n",
              "      <td>Principal Software Engineer, Engine Systems - ...</td>\n",
              "      <td>https://careers.blizzard.com/kr/ko/job/R024692...</td>\n",
              "    </tr>\n",
              "    <tr>\n",
              "      <th>2</th>\n",
              "      <td>Senior Software Engineer, Gameplay Tools - Una...</td>\n",
              "      <td>https://careers.blizzard.com/kr/ko/job/R024853...</td>\n",
              "    </tr>\n",
              "    <tr>\n",
              "      <th>3</th>\n",
              "      <td>Senior FX Artist II (SFD / Cinematics)</td>\n",
              "      <td>https://careers.blizzard.com/kr/ko/job/R025040...</td>\n",
              "    </tr>\n",
              "    <tr>\n",
              "      <th>4</th>\n",
              "      <td>Filipino Language Lead(1-year Contractor)</td>\n",
              "      <td>https://careers.blizzard.com/kr/ko/job/R024659...</td>\n",
              "    </tr>\n",
              "  </tbody>\n",
              "</table>\n",
              "</div>\n",
              "    <div class=\"colab-df-buttons\">\n",
              "\n",
              "  <div class=\"colab-df-container\">\n",
              "    <button class=\"colab-df-convert\" onclick=\"convertToInteractive('df-9548a9cc-08e6-49ca-9a62-c8883bdf0d09')\"\n",
              "            title=\"Convert this dataframe to an interactive table.\"\n",
              "            style=\"display:none;\">\n",
              "\n",
              "  <svg xmlns=\"http://www.w3.org/2000/svg\" height=\"24px\" viewBox=\"0 -960 960 960\">\n",
              "    <path d=\"M120-120v-720h720v720H120Zm60-500h600v-160H180v160Zm220 220h160v-160H400v160Zm0 220h160v-160H400v160ZM180-400h160v-160H180v160Zm440 0h160v-160H620v160ZM180-180h160v-160H180v160Zm440 0h160v-160H620v160Z\"/>\n",
              "  </svg>\n",
              "    </button>\n",
              "\n",
              "  <style>\n",
              "    .colab-df-container {\n",
              "      display:flex;\n",
              "      gap: 12px;\n",
              "    }\n",
              "\n",
              "    .colab-df-convert {\n",
              "      background-color: #E8F0FE;\n",
              "      border: none;\n",
              "      border-radius: 50%;\n",
              "      cursor: pointer;\n",
              "      display: none;\n",
              "      fill: #1967D2;\n",
              "      height: 32px;\n",
              "      padding: 0 0 0 0;\n",
              "      width: 32px;\n",
              "    }\n",
              "\n",
              "    .colab-df-convert:hover {\n",
              "      background-color: #E2EBFA;\n",
              "      box-shadow: 0px 1px 2px rgba(60, 64, 67, 0.3), 0px 1px 3px 1px rgba(60, 64, 67, 0.15);\n",
              "      fill: #174EA6;\n",
              "    }\n",
              "\n",
              "    .colab-df-buttons div {\n",
              "      margin-bottom: 4px;\n",
              "    }\n",
              "\n",
              "    [theme=dark] .colab-df-convert {\n",
              "      background-color: #3B4455;\n",
              "      fill: #D2E3FC;\n",
              "    }\n",
              "\n",
              "    [theme=dark] .colab-df-convert:hover {\n",
              "      background-color: #434B5C;\n",
              "      box-shadow: 0px 1px 3px 1px rgba(0, 0, 0, 0.15);\n",
              "      filter: drop-shadow(0px 1px 2px rgba(0, 0, 0, 0.3));\n",
              "      fill: #FFFFFF;\n",
              "    }\n",
              "  </style>\n",
              "\n",
              "    <script>\n",
              "      const buttonEl =\n",
              "        document.querySelector('#df-9548a9cc-08e6-49ca-9a62-c8883bdf0d09 button.colab-df-convert');\n",
              "      buttonEl.style.display =\n",
              "        google.colab.kernel.accessAllowed ? 'block' : 'none';\n",
              "\n",
              "      async function convertToInteractive(key) {\n",
              "        const element = document.querySelector('#df-9548a9cc-08e6-49ca-9a62-c8883bdf0d09');\n",
              "        const dataTable =\n",
              "          await google.colab.kernel.invokeFunction('convertToInteractive',\n",
              "                                                    [key], {});\n",
              "        if (!dataTable) return;\n",
              "\n",
              "        const docLinkHtml = 'Like what you see? Visit the ' +\n",
              "          '<a target=\"_blank\" href=https://colab.research.google.com/notebooks/data_table.ipynb>data table notebook</a>'\n",
              "          + ' to learn more about interactive tables.';\n",
              "        element.innerHTML = '';\n",
              "        dataTable['output_type'] = 'display_data';\n",
              "        await google.colab.output.renderOutput(dataTable, element);\n",
              "        const docLink = document.createElement('div');\n",
              "        docLink.innerHTML = docLinkHtml;\n",
              "        element.appendChild(docLink);\n",
              "      }\n",
              "    </script>\n",
              "  </div>\n",
              "\n",
              "\n",
              "    <div id=\"df-11856535-0d94-4c66-adb5-ae66a3f21813\">\n",
              "      <button class=\"colab-df-quickchart\" onclick=\"quickchart('df-11856535-0d94-4c66-adb5-ae66a3f21813')\"\n",
              "                title=\"Suggest charts\"\n",
              "                style=\"display:none;\">\n",
              "\n",
              "<svg xmlns=\"http://www.w3.org/2000/svg\" height=\"24px\"viewBox=\"0 0 24 24\"\n",
              "     width=\"24px\">\n",
              "    <g>\n",
              "        <path d=\"M19 3H5c-1.1 0-2 .9-2 2v14c0 1.1.9 2 2 2h14c1.1 0 2-.9 2-2V5c0-1.1-.9-2-2-2zM9 17H7v-7h2v7zm4 0h-2V7h2v10zm4 0h-2v-4h2v4z\"/>\n",
              "    </g>\n",
              "</svg>\n",
              "      </button>\n",
              "\n",
              "<style>\n",
              "  .colab-df-quickchart {\n",
              "      --bg-color: #E8F0FE;\n",
              "      --fill-color: #1967D2;\n",
              "      --hover-bg-color: #E2EBFA;\n",
              "      --hover-fill-color: #174EA6;\n",
              "      --disabled-fill-color: #AAA;\n",
              "      --disabled-bg-color: #DDD;\n",
              "  }\n",
              "\n",
              "  [theme=dark] .colab-df-quickchart {\n",
              "      --bg-color: #3B4455;\n",
              "      --fill-color: #D2E3FC;\n",
              "      --hover-bg-color: #434B5C;\n",
              "      --hover-fill-color: #FFFFFF;\n",
              "      --disabled-bg-color: #3B4455;\n",
              "      --disabled-fill-color: #666;\n",
              "  }\n",
              "\n",
              "  .colab-df-quickchart {\n",
              "    background-color: var(--bg-color);\n",
              "    border: none;\n",
              "    border-radius: 50%;\n",
              "    cursor: pointer;\n",
              "    display: none;\n",
              "    fill: var(--fill-color);\n",
              "    height: 32px;\n",
              "    padding: 0;\n",
              "    width: 32px;\n",
              "  }\n",
              "\n",
              "  .colab-df-quickchart:hover {\n",
              "    background-color: var(--hover-bg-color);\n",
              "    box-shadow: 0 1px 2px rgba(60, 64, 67, 0.3), 0 1px 3px 1px rgba(60, 64, 67, 0.15);\n",
              "    fill: var(--button-hover-fill-color);\n",
              "  }\n",
              "\n",
              "  .colab-df-quickchart-complete:disabled,\n",
              "  .colab-df-quickchart-complete:disabled:hover {\n",
              "    background-color: var(--disabled-bg-color);\n",
              "    fill: var(--disabled-fill-color);\n",
              "    box-shadow: none;\n",
              "  }\n",
              "\n",
              "  .colab-df-spinner {\n",
              "    border: 2px solid var(--fill-color);\n",
              "    border-color: transparent;\n",
              "    border-bottom-color: var(--fill-color);\n",
              "    animation:\n",
              "      spin 1s steps(1) infinite;\n",
              "  }\n",
              "\n",
              "  @keyframes spin {\n",
              "    0% {\n",
              "      border-color: transparent;\n",
              "      border-bottom-color: var(--fill-color);\n",
              "      border-left-color: var(--fill-color);\n",
              "    }\n",
              "    20% {\n",
              "      border-color: transparent;\n",
              "      border-left-color: var(--fill-color);\n",
              "      border-top-color: var(--fill-color);\n",
              "    }\n",
              "    30% {\n",
              "      border-color: transparent;\n",
              "      border-left-color: var(--fill-color);\n",
              "      border-top-color: var(--fill-color);\n",
              "      border-right-color: var(--fill-color);\n",
              "    }\n",
              "    40% {\n",
              "      border-color: transparent;\n",
              "      border-right-color: var(--fill-color);\n",
              "      border-top-color: var(--fill-color);\n",
              "    }\n",
              "    60% {\n",
              "      border-color: transparent;\n",
              "      border-right-color: var(--fill-color);\n",
              "    }\n",
              "    80% {\n",
              "      border-color: transparent;\n",
              "      border-right-color: var(--fill-color);\n",
              "      border-bottom-color: var(--fill-color);\n",
              "    }\n",
              "    90% {\n",
              "      border-color: transparent;\n",
              "      border-bottom-color: var(--fill-color);\n",
              "    }\n",
              "  }\n",
              "</style>\n",
              "\n",
              "      <script>\n",
              "        async function quickchart(key) {\n",
              "          const quickchartButtonEl =\n",
              "            document.querySelector('#' + key + ' button');\n",
              "          quickchartButtonEl.disabled = true;  // To prevent multiple clicks.\n",
              "          quickchartButtonEl.classList.add('colab-df-spinner');\n",
              "          try {\n",
              "            const charts = await google.colab.kernel.invokeFunction(\n",
              "                'suggestCharts', [key], {});\n",
              "          } catch (error) {\n",
              "            console.error('Error during call to suggestCharts:', error);\n",
              "          }\n",
              "          quickchartButtonEl.classList.remove('colab-df-spinner');\n",
              "          quickchartButtonEl.classList.add('colab-df-quickchart-complete');\n",
              "        }\n",
              "        (() => {\n",
              "          let quickchartButtonEl =\n",
              "            document.querySelector('#df-11856535-0d94-4c66-adb5-ae66a3f21813 button');\n",
              "          quickchartButtonEl.style.display =\n",
              "            google.colab.kernel.accessAllowed ? 'block' : 'none';\n",
              "        })();\n",
              "      </script>\n",
              "    </div>\n",
              "\n",
              "    </div>\n",
              "  </div>\n"
            ],
            "application/vnd.google.colaboratory.intrinsic+json": {
              "type": "dataframe",
              "variable_name": "df",
              "summary": "{\n  \"name\": \"df\",\n  \"rows\": 76,\n  \"fields\": [\n    {\n      \"column\": \"title\",\n      \"properties\": {\n        \"dtype\": \"string\",\n        \"num_unique_values\": 70,\n        \"samples\": [\n          \"Director, Commercial Partnerships | Irvine, CA\",\n          \"Senior Software Engineer, Game Services\",\n          \"Senior Animator \\u2013 Temp (SFD / Cinematics)\"\n        ],\n        \"semantic_type\": \"\",\n        \"description\": \"\"\n      }\n    },\n    {\n      \"column\": \"url\",\n      \"properties\": {\n        \"dtype\": \"string\",\n        \"num_unique_values\": 76,\n        \"samples\": [\n          \"https://careers.blizzard.com/kr/ko/job/R024659/Filipino-Language-Lead-1-year-Contractor\",\n          \"https://careers.blizzard.com/kr/ko/job/R025024/Senior-Test-Analyst-World-of-Warcraft-Boston-MA\",\n          \"https://careers.blizzard.com/kr/ko/job/R025437/Technical-Artist-Unannounced-Game-Irvine-CA-or-Albany-NY\"\n        ],\n        \"semantic_type\": \"\",\n        \"description\": \"\"\n      }\n    }\n  ]\n}"
            }
          },
          "metadata": {},
          "execution_count": 6
        }
      ]
    },
    {
      "cell_type": "code",
      "source": [
        "'''\n",
        "- 주석달기 답변\n",
        "\n",
        "\n",
        "\n",
        "\n",
        "'''"
      ],
      "metadata": {
        "id": "KL3it7dwUmQz"
      },
      "id": "KL3it7dwUmQz",
      "execution_count": null,
      "outputs": []
    }
  ],
  "metadata": {
    "kernelspec": {
      "display_name": ".venv",
      "language": "python",
      "name": "python3"
    },
    "language_info": {
      "codemirror_mode": {
        "name": "ipython",
        "version": 3
      },
      "file_extension": ".py",
      "mimetype": "text/x-python",
      "name": "python",
      "nbconvert_exporter": "python",
      "pygments_lexer": "ipython3",
      "version": "3.12.10"
    },
    "colab": {
      "provenance": []
    }
  },
  "nbformat": 4,
  "nbformat_minor": 5
}