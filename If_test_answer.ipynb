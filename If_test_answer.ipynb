{
 "cells": [
  {
   "cell_type": "markdown",
   "id": "58ee0cee",
   "metadata": {},
   "source": [
    "## 6번 예제 정답"
   ]
  },
  {
   "cell_type": "code",
   "execution_count": 6,
   "id": "1e9888e9",
   "metadata": {},
   "outputs": [
    {
     "name": "stdout",
     "output_type": "stream",
     "text": [
      "리스트에 있다\n"
     ]
    }
   ],
   "source": [
    "my_list =  [2, 4, 6, 8, 10]\n",
    "x = 6\n",
    "\n",
    "result = \"리스트에 있다\" if x in my_list else \"리스트에 없다\"\n",
    "\n",
    "print(result)"
   ]
  },
  {
   "cell_type": "markdown",
   "id": "bd0f9efd",
   "metadata": {},
   "source": [
    "## 7번 예제 정답"
   ]
  },
  {
   "cell_type": "code",
   "execution_count": 1,
   "id": "9a6b59e0",
   "metadata": {},
   "outputs": [
    {
     "name": "stdout",
     "output_type": "stream",
     "text": [
      "x는 음수\n"
     ]
    }
   ],
   "source": [
    "## 7-1 정답\n",
    "x = -10\n",
    "\n",
    "if x > 0:\n",
    "    print(\"x는 양수\")\n",
    "elif x == 0:\n",
    "    print(\"x는 0\")\n",
    "else:\n",
    "    print(\"x는 음수\")\n",
    "    x = -x # 절대값 활용"
   ]
  },
  {
   "cell_type": "code",
   "execution_count": 3,
   "id": "5398e1a8",
   "metadata": {},
   "outputs": [
    {
     "name": "stdout",
     "output_type": "stream",
     "text": [
      "홀수\n",
      "2의 배수이면서 3의 배수\n"
     ]
    }
   ],
   "source": [
    "## 7-2 정답\n",
    "num = 15\n",
    "\n",
    "if num % 2 == 0:\n",
    "    print(\"짝수\")\n",
    "else:\n",
    "    print(\"홀수\")\n",
    "\n",
    "\n",
    "## 문항 변경\n",
    "if num % 2 == 0:\n",
    "    print(\"짝수\")\n",
    "elif num % 3 == 0:\n",
    "    print(\"2의 배수이면서 3의 배수\")\n",
    "else:\n",
    "    print(\"아님\")"
   ]
  },
  {
   "cell_type": "code",
   "execution_count": null,
   "id": "09608601",
   "metadata": {},
   "outputs": [
    {
     "name": "stdout",
     "output_type": "stream",
     "text": [
      "30\n",
      "30\n"
     ]
    }
   ],
   "source": [
    "## 7-3 정답\n",
    "a = 30\n",
    "b = 20\n",
    "\n",
    "\n",
    "if a > b:\n",
    "    print(a)\n",
    "    \n",
    "else:\n",
    "    print(b)\n",
    "\n",
    "print(a if a > b else b)"
   ]
  },
  {
   "cell_type": "code",
   "execution_count": 5,
   "id": "5ad48f91",
   "metadata": {},
   "outputs": [
    {
     "name": "stdout",
     "output_type": "stream",
     "text": [
      "가장 작은 값: 2\n",
      "가장 큰 값: 10\n"
     ]
    }
   ],
   "source": [
    "## 7-4 정답\n",
    "nums = [6, 10, 2, 9]\n",
    "\n",
    "min_val = nums[0]\n",
    "max_val = nums[0]\n",
    "\n",
    "for n in nums[1:]:\n",
    "    if n < min_val:\n",
    "        min_val = n\n",
    "    if n > max_val:\n",
    "        max_val = n\n",
    "\n",
    "print(\"가장 작은 값:\", min_val)\n",
    "print(\"가장 큰 값:\", max_val)"
   ]
  },
  {
   "cell_type": "markdown",
   "id": "87284e76",
   "metadata": {},
   "source": [
    "## 8번 예제 정답"
   ]
  },
  {
   "cell_type": "code",
   "execution_count": 7,
   "id": "957b8c3c",
   "metadata": {},
   "outputs": [
    {
     "name": "stdout",
     "output_type": "stream",
     "text": [
      "더 작은 숫자를 입력하세요.\n",
      "더 작은 숫자를 입력하세요.\n",
      "더 작은 숫자를 입력하세요.\n",
      "더 큰 숫자를 입력하세요.\n",
      "정답입니다!\n"
     ]
    }
   ],
   "source": [
    "import random\n",
    "\n",
    "target_number = random.randint(1, 100)  # 1~100 사이 랜덤\n",
    "\n",
    "while True:\n",
    "    guess = int(input(\"숫자를 입력하세요(1~100): \"))\n",
    "    if guess > target_number:\n",
    "        print(\"더 작은 숫자를 입력하세요.\")\n",
    "    elif guess < target_number:\n",
    "        print(\"더 큰 숫자를 입력하세요.\")\n",
    "    else:\n",
    "        print(\"정답입니다!\")\n",
    "        break"
   ]
  }
 ],
 "metadata": {
  "kernelspec": {
   "display_name": "base",
   "language": "python",
   "name": "python3"
  },
  "language_info": {
   "codemirror_mode": {
    "name": "ipython",
    "version": 3
   },
   "file_extension": ".py",
   "mimetype": "text/x-python",
   "name": "python",
   "nbconvert_exporter": "python",
   "pygments_lexer": "ipython3",
   "version": "3.12.4"
  }
 },
 "nbformat": 4,
 "nbformat_minor": 5
}
