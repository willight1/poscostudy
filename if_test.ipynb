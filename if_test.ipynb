{
 "cells": [
  {
   "cell_type": "markdown",
   "id": "14bb2d4d",
   "metadata": {},
   "source": [
    "# 예제 1. \n",
    "x 가 my_list에 있으면, \"리스트에 있다\", 없으면 \"리스트에 없다\" 를 출력하도록 코드를 만들어보세요\n",
    "### 삼항연산자, in 연산자 "
   ]
  },
  {
   "cell_type": "code",
   "execution_count": null,
   "id": "f3ff36f6",
   "metadata": {},
   "outputs": [],
   "source": [
    "my_list =  [2, 4, 6, 8, 10]\n",
    "x = 6\n",
    "\n",
    "# 아래 이어서 구현해 주세요.\n",
    "\n",
    "\n"
   ]
  },
  {
   "cell_type": "markdown",
   "id": "30ab958f",
   "metadata": {},
   "source": [
    "---\n",
    "## 예제 2.\n",
    "\n",
    "### 2-1. 숫자가 양수/음수/0인지 판별하기\n",
    "```python\n",
    "x = -10  # 다른 값으로 바꿔가며 테스트\n",
    "\n",
    "# if ~ elif ~ else를 활용하여,\n",
    "# 1) x가 0보다 큰 경우: \"x는 양수\"\n",
    "# 2) x가 0인 경우: \"x는 0\"\n",
    "# 3) 나머지 경우: \"x는 음수\"\n",
    "```"
   ]
  },
  {
   "cell_type": "code",
   "execution_count": null,
   "id": "a60cf296",
   "metadata": {},
   "outputs": [],
   "source": [
    "x = -10  # 다른 값으로 바꿔가며 테스트\n",
    "\n",
    "## 이어서 구현"
   ]
  },
  {
   "cell_type": "markdown",
   "id": "890cd9a0",
   "metadata": {},
   "source": [
    "\n",
    "### 2-2. 주어진 수가 짝수인지 홀수인지 판별하기\n",
    "```python\n",
    "num = 15\n",
    "# if 문을 이용해, num % 2 == 0 이면 \"짝수\", 아니면 \"홀수\"\n",
    "```"
   ]
  },
  {
   "cell_type": "code",
   "execution_count": null,
   "id": "0c952462",
   "metadata": {},
   "outputs": [],
   "source": [
    "num = 15\n",
    "\n",
    "## 이어서 구현"
   ]
  },
  {
   "cell_type": "markdown",
   "id": "9c75fd35",
   "metadata": {},
   "source": [
    "\n",
    "### 2-3. 주어진 2가지 숫자 중 큰 수를 출력하기\n",
    "```python\n",
    "a = 30\n",
    "b = 20\n",
    "# 어떤 방식으로든 a와 b 중 큰 값을 출력해보세요.\n",
    "```"
   ]
  },
  {
   "cell_type": "code",
   "execution_count": null,
   "id": "fa9d18bc",
   "metadata": {},
   "outputs": [],
   "source": [
    "a = 30\n",
    "b = 20\n",
    "\n",
    "## 이어서 구현"
   ]
  },
  {
   "cell_type": "markdown",
   "id": "efdb0da8",
   "metadata": {},
   "source": [
    "\n",
    "### 2-4. 4가지 숫자를 입력받아 가장 작은 수와 큰 수를 구하기\n",
    "```python\n",
    "nums = [6, 10, 2, 9]  # 예시\n",
    "# if 문 여러 번 사용, 혹은 다른 방법으로\n",
    "# min, max를 구해보세요.\n",
    "```\n",
    "아래처럼 `sorted`를 활용해도 되고, 직접 `if`만으로 구현해 볼 수도 있습니다."
   ]
  },
  {
   "cell_type": "code",
   "execution_count": null,
   "id": "5cd6491b",
   "metadata": {},
   "outputs": [],
   "source": [
    "nums = [6, 10, 2, 9]\n",
    "\n",
    "## if를 활용하여 구현"
   ]
  },
  {
   "cell_type": "code",
   "execution_count": null,
   "id": "363b1b7d",
   "metadata": {},
   "outputs": [],
   "source": [
    "print( \" 작은값\", min(nums))\n",
    "print( \" 큰값\", max(nums))\n",
    "\n",
    "sorted_answer = sorted(nums)\n",
    "print( \" 큰값\", sorted_answer[0])\n",
    "print( \" 작은값\", sorted_answer[-1])"
   ]
  },
  {
   "cell_type": "markdown",
   "id": "55a4be2c",
   "metadata": {},
   "source": [
    "---\n",
    "\n",
    "## 3. 종합 예제: 숫자 맞추기 게임\n",
    "\n",
    "**요구 사항:**\n",
    "1. 프로그램은 1부터 100 사이의 임의의 숫자를 생성합니다.\n",
    "2. 사용자는 숫자를 맞출 때까지 계속해서 숫자를 입력합니다.\n",
    "3. 입력한 숫자가 생성된 숫자보다 크면 \"더 작은 숫자를 입력하세요.\"를 출력합니다.\n",
    "4. 입력한 숫자가 생성된 숫자보다 작으면 \"더 큰 숫자를 입력하세요.\"를 출력합니다.\n",
    "5. 사용자가 숫자를 맞추면 \"정답입니다!\"를 출력하고 게임을 종료합니다.\n",
    "\n",
    "예시:\n",
    "- 생성된 숫자: 42\n",
    "- 사용자가 50 입력 → \"더 작은 숫자를 입력하세요.\"\n",
    "- 사용자가 30 입력 → \"더 큰 숫자를 입력하세요.\"\n",
    "- 사용자가 42 입력 → \"정답입니다!\" → 종료"
   ]
  },
  {
   "cell_type": "code",
   "execution_count": null,
   "id": "a52787f8",
   "metadata": {},
   "outputs": [],
   "source": [
    "import random\n",
    "\n",
    "target_number = random.randint(1, 100)  # 1~100 사이 랜덤\n",
    "\n",
    "## 이어서 구현"
   ]
  },
  {
   "cell_type": "markdown",
   "id": "426e631e",
   "metadata": {},
   "source": [
    "**힌트:**\n",
    "- `random.randint(1, 100)` 함수로 1부터 100 사이의 임의의 정수를 생성.\n",
    "- `while True:` 무한 루프를 돌면서, 사용자가 `guess`를 입력할 때마다 `if`를 통해 비교.\n",
    "- 맞추면 `break`로 탈출."
   ]
  },
  {
   "cell_type": "markdown",
   "id": "6b84b672",
   "metadata": {},
   "source": [
    "# 4. 정리 & 마무리\n",
    "\n",
    "이상으로 **조건문**, **비교/논리 연산자**, **2진수 비트와 비트 연산자**, **삼항 연산자**, **in 연산자** 등을 살펴봤습니다.\n",
    "\n",
    "### 핵심 요약\n",
    "1. `if ~ elif ~ else` 구문으로 다양한 조건을 처리.\n",
    "2. 비교 연산(`>`, `>=`, `==`, `!=` 등)과 논리 연산(`and`, `or`, `not`)을 적절히 조합.\n",
    "3. 2진수 비트(0과 1) 단위로 정수를 다루는 **비트 연산자** (`&`, `|`, `^`, `<<`, `>>`)\n",
    "4. 한 줄로 조건 분기를 할 수 있는 **삼항 연산자**(`a if 조건 else b`)\n",
    "5. 리스트, 문자열 등에 어떤 요소가 들어있는지 확인할 수 있는 **`in`** 연산자"
   ]
  }
 ],
 "metadata": {
  "kernelspec": {
   "display_name": ".venv",
   "language": "python",
   "name": "python3"
  },
  "language_info": {
   "codemirror_mode": {
    "name": "ipython",
    "version": 3
   },
   "file_extension": ".py",
   "mimetype": "text/x-python",
   "name": "python",
   "nbconvert_exporter": "python",
   "pygments_lexer": "ipython3",
   "version": "3.12.10"
  }
 },
 "nbformat": 4,
 "nbformat_minor": 5
}
