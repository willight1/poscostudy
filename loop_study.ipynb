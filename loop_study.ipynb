{
 "cells": [
  {
   "cell_type": "markdown",
   "id": "77218c43",
   "metadata": {},
   "source": [
    "# ✅ 반복문\n",
    "\n",
    "반복문은 프로그래밍에서 어떤 작업을 여러 번 반복해서 수행할 수 있게 해주는 중요한 도구다. 마치 우리가 동일한 작업을 여러 번 해야 할 때, 일일이 반복하는 대신 \"이 작업을 몇 번 반복하라\"고 지시하는 것과 같다. 이렇게 하면 시간도 절약되고, 코드도 훨씬 간결해진다.\n",
    "\n",
    "예를 들어, 1부터 5까지의 숫자를 출력하고 싶다고 가정해보자. 일반적으로는 이렇게 코드를 작성할 수 있다:"
   ]
  },
  {
   "cell_type": "code",
   "execution_count": null,
   "id": "7c994edc",
   "metadata": {},
   "outputs": [],
   "source": [
    "print(1)\n",
    "print(2)\n",
    "print(3)\n",
    "print(4)\n",
    "print(5)"
   ]
  },
  {
   "cell_type": "markdown",
   "id": "1965764e",
   "metadata": {},
   "source": [
    "하지만 만약 1부터 100까지의 숫자를 출력해야 한다면, 일일이 숫자를 하나씩 적어넣는 것은 매우 번거로울 것이다. 이럴 때 반복문을 사용하면 훨씬 효율적으로 작업을 수행할 수 있다."
   ]
  },
  {
   "cell_type": "code",
   "execution_count": null,
   "id": "8162a1de",
   "metadata": {},
   "outputs": [],
   "source": [
    "for i in range(1, 6):\n",
    "    print(i)"
   ]
  },
  {
   "cell_type": "markdown",
   "id": "d0480e27",
   "metadata": {},
   "source": [
    "## ✅ 'for' 반복문\n",
    "\n",
    "**기본구조**\n"
   ]
  },
  {
   "cell_type": "code",
   "execution_count": null,
   "id": "b8fe8e2f",
   "metadata": {},
   "outputs": [],
   "source": [
    "for 변수 in 시퀀스:\n",
    "    실행할 코드"
   ]
  },
  {
   "cell_type": "markdown",
   "id": "dffa2677",
   "metadata": {},
   "source": [
    "\n",
    "**변수**: 시퀀스의 각 요소를 순차적으로 받아오는 변수.\n",
    "\n",
    "**시퀀스**: 리스트, 튜플, 문자열, range() 등 순서가 있는 데이터."
   ]
  },
  {
   "cell_type": "code",
   "execution_count": 1,
   "id": "93f9e108",
   "metadata": {},
   "outputs": [
    {
     "name": "stdout",
     "output_type": "stream",
     "text": [
      "1\n",
      "2\n",
      "3\n",
      "4\n",
      "5\n"
     ]
    }
   ],
   "source": [
    "# 예제\n",
    "for i in range(1, 6):\n",
    "    print(i)\n",
    "\n",
    "# c.f. range(1, 6)은 1부터 5까지의 범위를 나타냅니다. 6은 포함되지 않습니다.\n",
    "# range(시작, 끝) 형식으로 사용하면 시작부터 끝-1까지의 범위를 나타냅니다.\n",
    "# range(끝) 형식으로 사용하면 0부터 끝-1까지의 범위를 나타냅니다."
   ]
  },
  {
   "cell_type": "code",
   "execution_count": 2,
   "id": "7e4a8d6b",
   "metadata": {},
   "outputs": [
    {
     "name": "stdout",
     "output_type": "stream",
     "text": [
      "range(5):\t [0, 1, 2, 3, 4]\n",
      "range(1, 6):\t [1, 2, 3, 4, 5]\n",
      "range(1, 10, 2):\t [1, 3, 5, 7, 9]\n",
      "range(10, 1, -2):\t [10, 8, 6, 4, 2]\n"
     ]
    }
   ],
   "source": [
    "print(\"range(5):\\t\", list(range(5)))\n",
    "print(\"range(1, 6):\\t\", list(range(1, 6)))\n",
    "print(\"range(1, 10, 2):\\t\", list(range(1, 10, 2)))\n",
    "print(\"range(10, 1, -2):\\t\", list(range(10, 1, -2)))"
   ]
  },
  {
   "cell_type": "markdown",
   "id": "1c259b40",
   "metadata": {},
   "source": [
    "## ✅ 예제 풀이"
   ]
  },
  {
   "cell_type": "code",
   "execution_count": null,
   "id": "767ed66d",
   "metadata": {},
   "outputs": [],
   "source": [
    "# range(5)는 0부터 4까지의 숫자 5개를 생성합니다.\n",
    "# 기본적으로 시작은 0, 끝은 '5보다 하나 작은 숫자'까지입니다.\n",
    "# 결과: [0, 1, 2, 3, 4]\n",
    "print(\"range(5):\\t\", list(range(5)))\n",
    "\n",
    "# range(1, 6)은 1부터 시작해서 6보다 하나 작은 숫자인 5까지 생성합니다.\n",
    "# 즉, 1부터 5까지의 숫자가 만들어집니다.\n",
    "# 결과: [1, 2, 3, 4, 5]\n",
    "print(\"range(1, 6):\\t\", list(range(1, 6)))\n",
    "\n",
    "# range(1, 10, 2)는 1부터 시작해서 10보다 작은 수까지,\n",
    "# 숫자를 2씩 증가시키며 생성합니다.\n",
    "# 즉, 1, 3, 5, 7, 9가 만들어집니다.\n",
    "# 결과: [1, 3, 5, 7, 9]\n",
    "print(\"range(1, 10, 2):\\t\", list(range(1, 10, 2)))\n",
    "\n",
    "# range(10, 1, -2)는 10부터 시작해서 1보다 큰 수까지,\n",
    "# 숫자를 2씩 감소시키며 생성합니다.\n",
    "# 즉, 10, 8, 6, 4, 2가 만들어집니다.\n",
    "# 결과: [10, 8, 6, 4, 2]\n",
    "print(\"range(10, 1, -2):\\t\", list(range(10, 1, -2)))"
   ]
  },
  {
   "cell_type": "markdown",
   "id": "7b0d7d7e",
   "metadata": {},
   "source": [
    "### ✅ range() 정리\n",
    "\n",
    "range(시작값, 끝값, 증가폭)\n",
    "\n",
    "시작값: 생략하면 0부터 시작함\n",
    "\n",
    "끝값: 이 숫자는 포함되지 않음 (마지막 숫자보다 하나 작게 끝남)\n",
    "\n",
    "증가폭: 생략하면 1씩 증가함 / 음수도 가능함 (감소 가능)"
   ]
  },
  {
   "cell_type": "code",
   "execution_count": 6,
   "id": "7c35f29c",
   "metadata": {},
   "outputs": [
    {
     "name": "stdout",
     "output_type": "stream",
     "text": [
      "1\n",
      "2\n",
      "3\n",
      "4\n",
      "5\n"
     ]
    }
   ],
   "source": [
    "my_list = [1, 2, 3, 4, 5]\n",
    "for d in my_list:\n",
    "    print(d)"
   ]
  },
  {
   "cell_type": "code",
   "execution_count": 4,
   "id": "6f911f5c",
   "metadata": {},
   "outputs": [
    {
     "name": "stdout",
     "output_type": "stream",
     "text": [
      "[1, 2, 3, 4, 5]\n"
     ]
    }
   ],
   "source": [
    "my_list = [1, 2, 3, 4, 5]\n",
    "for d in my_list:\n",
    "    d += 1\n",
    "  \n",
    "print(my_list)"
   ]
  },
  {
   "cell_type": "markdown",
   "id": "e14534eb",
   "metadata": {},
   "source": [
    "## ✅ 문제 : 위 두 예제는 왜 출력하는게 다를까?"
   ]
  },
  {
   "cell_type": "code",
   "execution_count": null,
   "id": "b152f4a0",
   "metadata": {},
   "outputs": [],
   "source": [
    "# 답을 달아주세요\n",
    "\n",
    "###\n",
    "\n",
    "\n",
    "\n",
    "\n",
    "\n",
    "###"
   ]
  },
  {
   "cell_type": "markdown",
   "id": "c3021abb",
   "metadata": {},
   "source": [
    "### ✅ Dictionary 순회\n"
   ]
  },
  {
   "cell_type": "code",
   "execution_count": null,
   "id": "c16005f9",
   "metadata": {},
   "outputs": [],
   "source": [
    "grades = {\"철수\": 85, \"영희\": 92, \"민수\": 78}\n",
    "\n",
    "for name, score in grades.items():\n",
    "    print(f\"{name}: {score}\")\n",
    "\n",
    "#.item 하지 않으면 key 순회됩니다\n",
    "# (key, value) 쌍을 튜플 형태로 받아올 수 잇다"
   ]
  },
  {
   "cell_type": "markdown",
   "id": "d97b3a34",
   "metadata": {},
   "source": [
    "### ✅ for문을 이용한 list comprehension\n"
   ]
  },
  {
   "cell_type": "code",
   "execution_count": null,
   "id": "2fef0d5f",
   "metadata": {},
   "outputs": [],
   "source": [
    "# my_list = [i for i in range(10)]\n",
    "my_list = [i for i in range(10) if i % 2 == 0]\n",
    "print(my_list)"
   ]
  },
  {
   "cell_type": "markdown",
   "id": "a5a32e36",
   "metadata": {},
   "source": [
    "# ✅ list comprehesion, zip 활용예제"
   ]
  },
  {
   "cell_type": "markdown",
   "id": "42faa346",
   "metadata": {},
   "source": [
    "###  예제 1"
   ]
  },
  {
   "cell_type": "code",
   "execution_count": null,
   "id": "53fdf14d",
   "metadata": {},
   "outputs": [],
   "source": [
    "list1 = [1,2,3]\n",
    "list2 = [2,4,6,8]\n",
    "\n",
    "sum_list = [ a+b for a, b in zip(list1,list2)]\n",
    "print(sum_list)"
   ]
  },
  {
   "cell_type": "markdown",
   "id": "5850cce4",
   "metadata": {},
   "source": [
    "### 예제 풀이"
   ]
  },
  {
   "cell_type": "code",
   "execution_count": null,
   "id": "b5899973",
   "metadata": {},
   "outputs": [],
   "source": [
    "# 첫 번째 리스트 list1을 만듭니다. 값은 [1, 2, 3]\n",
    "list1 = [1, 2, 3]\n",
    "\n",
    "# 두 번째 리스트 list2를 만듭니다. 값은 [2, 4, 6, 8]\n",
    "list2 = [2, 4, 6, 8]\n",
    "\n",
    "# zip(list1, list2)는 두 리스트의 요소를 짝지어줍니다.\n",
    "# 즉, (1, 2), (2, 4), (3, 6) 이렇게 앞에서부터 짝을 만들어줍니다.\n",
    "# 길이가 짧은 list1에 맞춰서 3쌍만 만들어져요.\n",
    "\n",
    "# 리스트 컴프리헨션을 사용합니다.\n",
    "# a+b for a, b in zip(...) 은 각 쌍에서 a와 b를 더해서 새 리스트로 만듭니다.\n",
    "# (1+2), (2+4), (3+6) → [3, 6, 9]\n",
    "sum_list = [a + b for a, b in zip(list1, list2)]\n",
    "\n",
    "# 결과 출력\n",
    "print(sum_list)  # 출력: [3, 6, 9]"
   ]
  },
  {
   "cell_type": "markdown",
   "id": "f1cf930d",
   "metadata": {},
   "source": [
    "### 예제 2"
   ]
  },
  {
   "cell_type": "code",
   "execution_count": null,
   "id": "2ed5386f",
   "metadata": {},
   "outputs": [],
   "source": [
    "## 짝수 추출\n",
    "\n",
    "nums= [1,2,3,4,5]\n",
    "\n",
    "even_nums = [x for x in nums if x%2 ==0]\n",
    "print(even_nums)"
   ]
  },
  {
   "cell_type": "markdown",
   "id": "c1d836db",
   "metadata": {},
   "source": [
    "### 예제 풀이"
   ]
  },
  {
   "cell_type": "code",
   "execution_count": null,
   "id": "395ae430",
   "metadata": {},
   "outputs": [],
   "source": [
    "# 숫자들이 들어 있는 리스트 nums를 만듭니다.\n",
    "# 현재 값은 [1, 2, 3, 4, 5]\n",
    "nums = [1, 2, 3, 4, 5]\n",
    "\n",
    "# 리스트 컴프리헨션을 사용해서 짝수만 골라냅니다.\n",
    "# x for x in nums → nums에서 하나씩 x를 꺼내서\n",
    "# if x % 2 == 0 → x를 2로 나눈 나머지가 0이면 (즉 짝수이면)\n",
    "# 그 x를 새로운 리스트에 넣습니다.\n",
    "even_nums = [x for x in nums if x % 2 == 0]\n",
    "\n",
    "# 결과 출력\n",
    "print(even_nums)  # 출력: [2, 4]\n"
   ]
  },
  {
   "cell_type": "markdown",
   "id": "f39b3bb2",
   "metadata": {},
   "source": [
    "## ✅ While문\n",
    "\n",
    "**기본구조**"
   ]
  },
  {
   "cell_type": "code",
   "execution_count": null,
   "id": "9cf26ec3",
   "metadata": {},
   "outputs": [],
   "source": [
    "\n",
    "while 조건문:\n",
    "    수행할_문장1\n",
    "    수행할_문장2\n",
    "    수행할_문장3\n",
    "    ...\n"
   ]
  },
  {
   "cell_type": "markdown",
   "id": "5c0ac696",
   "metadata": {},
   "source": [
    "while 문은 조건문이 참인 동안 while 문에 속한 문장들이 반복해서 수행된다.\n",
    "\n",
    "'열 번 찍어 안 넘어가는 나무 없다'라는 속담을 파이썬 프로그램으로 만들면 다음과 같다."
   ]
  },
  {
   "cell_type": "markdown",
   "id": "0a691778",
   "metadata": {},
   "source": [
    "### 예제"
   ]
  },
  {
   "cell_type": "code",
   "execution_count": null,
   "id": "b67033d2",
   "metadata": {},
   "outputs": [],
   "source": [
    "treeHit = 0\n",
    "while treeHit < 10:\n",
    "    treeHit = treeHit + 1\n",
    "    print(\"나무를 %d번 찍었습니다.\" % treeHit)\n",
    "    if treeHit == 10:\n",
    "        print(\"나무 넘어갑니다.\")"
   ]
  },
  {
   "cell_type": "markdown",
   "id": "49fa8282",
   "metadata": {},
   "source": [
    "## ✅ While문의 사용 사례\n",
    "\n",
    "`for`문 말고 `while`문을 사용하는것이 유리한 경우가 몇가지 있다. 아래에 `while`문을 사용해야 할 몇 가지 대표적인 경우를 설명하겠다."
   ]
  },
  {
   "cell_type": "markdown",
   "id": "e1ea49f8",
   "metadata": {},
   "source": [
    "### 1. **반복 횟수가 정해져 있지 않은 경우**\n",
    "\n",
    "   `while` 문은 특정 조건이 참인 동안 계속해서 반복된다. 따라서, 반복을 언제 멈춰야 할지 사전에 알 수 없는 경우에 적합하다. 예를 들어, 사용자가 특정 키를 누를 때까지 프로그램이 계속 동작해야 하는 경우가 이에 해당한다.\n",
    "\n",
    "   아래 코드에서는 사용자가 \"exit\"라는 명령어를 입력할 때까지 계속해서 사용자 입력을 받는다. 여기서는 반복 횟수를 사전에 알 수 없기 때문에 while 문이 적합하다.\n"
   ]
  },
  {
   "cell_type": "code",
   "execution_count": null,
   "id": "c7d3f602",
   "metadata": {},
   "outputs": [],
   "source": [
    "import sys\n",
    "\n",
    "user_input = \"\"\n",
    "while user_input != \"exit\":\n",
    "    sys.stdout.flush()  # 출력 버퍼를 비웁니다. (이 부분은 딱히 신경쓰지 않아도 됩니다).\n",
    "\n",
    "    user_input = input(\"명령어를 입력하세요 ('exit' 입력 시 종료): \")\n",
    "    print(f\"입력한 명령어: {user_input}\")"
   ]
  },
  {
   "cell_type": "markdown",
   "id": "3b2fdcf3",
   "metadata": {},
   "source": [
    "### 2. **조건이 실행 중에 변하는 경우**\n",
    "\n",
    "   `while` 문은 반복 조건이 동적으로 변화할 때 유용하다. 예를 들어, 반복 중에 특정 조건이 변화하면서 반복을 종료해야 하는 경우가 있다.\n",
    "\n",
    "   아래 코드에서는 사용자가 잔액이 남아 있는 동안 계속해서 출금을 요청할 수 있다. balance가 0이 되면 반복이 자동으로 종료됩니다. 이 경우에도 반복 횟수를 미리 알 수 없으므로 while 문이 적합하다.\n"
   ]
  },
  {
   "cell_type": "code",
   "execution_count": null,
   "id": "53ab50b2",
   "metadata": {},
   "outputs": [],
   "source": [
    "balance = 1000  # 초기 잔액\n",
    "withdrawal = 0\n",
    "while balance > 0:\n",
    "    sys.stdout.flush()  # 출력 버퍼를 비웁니다. (이 부분은 딱히 신경쓰지 않아도 됩니다).\n",
    "\n",
    "    withdrawal = int(input(\"출금할 금액을 입력하세요: \"))\n",
    "    if withdrawal > balance:\n",
    "        print(\"잔액이 부족합니다.\")\n",
    "    else:\n",
    "        balance -= withdrawal\n",
    "        print(f\"남은 잔액: {balance}\")"
   ]
  },
  {
   "cell_type": "markdown",
   "id": "2a6d7bbc",
   "metadata": {},
   "source": [
    "### 3. **상태 기반 반복이 필요한 경우**\n",
    "\n",
    "   어떤 작업을 수행하는 중에 상태를 지속적으로 확인하면서 특정 상태에서만 반복을 멈춰야 하는 경우, while 문이 유용하다. 예를 들어, 센서 데이터를 읽어오거나, 특정 조건이 만족될 때까지 작업을 계속해야 하는 경우가 이에 해당한다.\n",
    "\n",
    "   아래 코드에서는 `random_number`가 10이상일 때까지 계속 반복문을 도는 코드이다."
   ]
  },
  {
   "cell_type": "code",
   "execution_count": null,
   "id": "d088b73c",
   "metadata": {},
   "outputs": [],
   "source": [
    "import random\n",
    "\n",
    "random_number = random.randint(1, 12)  # 1부터 12까지의 랜덤한 숫자\n",
    "while random_number < 10:\n",
    "    print(f\"현재 값: {random_number}, 계속 진행합니다.\")\n",
    "    random_number = random.randint(1, 12)\n",
    "\n",
    "print(\"random_number가 10 이상입니다.\")"
   ]
  },
  {
   "cell_type": "markdown",
   "id": "d186572b",
   "metadata": {},
   "source": [
    "### 예제"
   ]
  },
  {
   "cell_type": "code",
   "execution_count": null,
   "id": "5875e633",
   "metadata": {},
   "outputs": [],
   "source": [
    "my_list = [1, 2, 3, 4, 5]\n",
    "\n",
    "idx = 0\n",
    "while idx < len(my_list):\n",
    "    print(my_list[idx])\n",
    "    idx += 1\n",
    "    if idx % 2 == 0:\n",
    "        idx += 1\n",
    "\n",
    "print(\"=\" * 100)\n",
    "\n",
    "for i in range(len(my_list)):\n",
    "    print(my_list[i])\n",
    "    if i % 2 == 0:\n",
    "        i += 1"
   ]
  },
  {
   "cell_type": "markdown",
   "id": "8b6affa1",
   "metadata": {},
   "source": [
    "예제 풀이"
   ]
  },
  {
   "cell_type": "code",
   "execution_count": null,
   "id": "8714f268",
   "metadata": {},
   "outputs": [],
   "source": [
    "# 리스트 my_list를 만듭니다. 값은 [1, 2, 3, 4, 5]\n",
    "my_list = [1, 2, 3, 4, 5]\n",
    "\n",
    "# while 반복문을 사용해서 리스트를 출력해 봅니다.\n",
    "# idx는 현재 위치(인덱스)를 나타냅니다. 처음에는 0부터 시작합니다.\n",
    "idx = 0\n",
    "while idx < len(my_list):           # 인덱스가 리스트 길이보다 작을 동안 반복\n",
    "    print(my_list[idx])             # 현재 위치의 값을 출력\n",
    "    idx += 1                        # 인덱스를 1 증가시킴\n",
    "    if idx % 2 == 0:                # 인덱스가 짝수일 경우\n",
    "        idx += 1                    # 인덱스를 한 번 더 증가시킴 (건너뛰기 효과)\n",
    "\n",
    "# 구분선 출력 (100개의 '=' 문자)\n",
    "print(\"=\" * 100)\n",
    "\n",
    "# 이번에는 for 반복문을 사용해서 같은 리스트를 출력합니다.\n",
    "# i는 0부터 리스트 길이-1까지 반복하는 인덱스입니다.\n",
    "for i in range(len(my_list)):\n",
    "    print(my_list[i])              # 현재 인덱스 i의 값을 출력\n",
    "    if i % 2 == 0:                 # i가 짝수일 경우\n",
    "        i += 1                     # i를 1 증가시킵니다 (하지만 이건 효과 없음!)\n"
   ]
  },
  {
   "cell_type": "markdown",
   "id": "ad22755c",
   "metadata": {},
   "source": [
    "## ✅ break문\n",
    "\n",
    "`break`문은 프로그래밍에서 반복문을 즉시 종료하는 데 사용되는 제어 흐름 문이다. 주로 `while`, `for`와 같은 반복문 내부에서 사용되며, 특정 조건이 충족될 때 반복문을 중단하고 반복문 바로 다음에 있는 코드로 실행을 넘어가도록 한다.\n"
   ]
  },
  {
   "cell_type": "code",
   "execution_count": 12,
   "id": "c1931880",
   "metadata": {},
   "outputs": [
    {
     "name": "stdout",
     "output_type": "stream",
     "text": [
      "0\n",
      "1\n",
      "2\n",
      "3\n",
      "4\n",
      "5\n",
      "6\n",
      "7\n",
      "8\n",
      "9\n"
     ]
    }
   ],
   "source": [
    "for i in range(10):\n",
    "    if i == 10:\n",
    "        break\n",
    "    print(i)"
   ]
  },
  {
   "cell_type": "code",
   "execution_count": null,
   "id": "d1b847cb",
   "metadata": {},
   "outputs": [],
   "source": [
    "i = 0\n",
    "while i < 10:\n",
    "    print(i)\n",
    "    if i == 5:\n",
    "        break\n",
    "    i += 1"
   ]
  },
  {
   "cell_type": "markdown",
   "id": "b9fb2000",
   "metadata": {},
   "source": [
    "## ✅ break문과 조건문\n",
    "\n",
    "가독성 문제가 있으므로 많이 사용하지는 않는 기능"
   ]
  },
  {
   "cell_type": "code",
   "execution_count": 13,
   "id": "a7805f33",
   "metadata": {},
   "outputs": [],
   "source": [
    "for i in range(10):\n",
    "    if i == 5:\n",
    "        break\n",
    "else:\n",
    "    print(\"Hello\")"
   ]
  },
  {
   "cell_type": "code",
   "execution_count": 14,
   "id": "ddd90350",
   "metadata": {},
   "outputs": [
    {
     "name": "stdout",
     "output_type": "stream",
     "text": [
      "Hello\n"
     ]
    }
   ],
   "source": [
    "for i in range(10):\n",
    "    if i == 15:\n",
    "        break\n",
    "else:\n",
    "    print(\"Hello\")"
   ]
  },
  {
   "cell_type": "markdown",
   "id": "e6d69d72",
   "metadata": {},
   "source": [
    "### 문제 : 왜 예제 두개의 출력 결과가 다를까?"
   ]
  },
  {
   "cell_type": "code",
   "execution_count": null,
   "id": "f1616ce1",
   "metadata": {},
   "outputs": [],
   "source": [
    "# 답변\n",
    "\n",
    "###\n",
    "\n",
    "\n",
    "\n",
    "###"
   ]
  }
 ],
 "metadata": {
  "kernelspec": {
   "display_name": ".venv",
   "language": "python",
   "name": "python3"
  },
  "language_info": {
   "codemirror_mode": {
    "name": "ipython",
    "version": 3
   },
   "file_extension": ".py",
   "mimetype": "text/x-python",
   "name": "python",
   "nbconvert_exporter": "python",
   "pygments_lexer": "ipython3",
   "version": "3.12.10"
  }
 },
 "nbformat": 4,
 "nbformat_minor": 5
}
