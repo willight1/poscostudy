{
 "cells": [
  {
   "cell_type": "markdown",
   "id": "fd435ce1",
   "metadata": {},
   "source": [
    "# 🧑‍💻 클래스와 객체 - 초보자 스터디 실습 노트"
   ]
  },
  {
   "cell_type": "markdown",
   "id": "d96958fe",
   "metadata": {},
   "source": [
    "## 1. 객체란 무엇???\n",
    "\n",
    "객체(Object)란 \"데이터 + 그 데이터를 다루는 기능\"을 하나로 묶은 것입니다.\n",
    "\n",
    "예를 들어, 자동차는:\n",
    "\n",
    "- **데이터**: 색상, 모델명, 속도\n",
    "- **기능(메서드)**: 출발하기, 멈추기, 속도 높이기\n",
    "\n",
    "자동차를 코드로 만든다면 \"자동차 객체\"가 됩니다.\n",
    "\n",
    "### 🟢 용어 정리\n",
    "\n",
    "| 용어 | 설명 |\n",
    "| --- | --- |\n",
    "| 클래스 (class) | 객체를 만들기 위한 설계도 |\n",
    "| 객체 (object) | 클래스로 만든 실제 물건 |\n",
    "| 인스턴스 | 클래스로 만들어진 객체를 특별히 이렇게 부르기도 함 |\n",
    "| 메서드 (method) | 객체 안에 정의된 함수 |\n",
    "| 속성 (attribute) | 객체 안에 저장된 데이터 (변수) |\n"
   ]
  },
  {
   "cell_type": "markdown",
   "id": "b32a731b",
   "metadata": {},
   "source": [
    "## 2. 가장 기본적인 예제"
   ]
  },
  {
   "cell_type": "code",
   "execution_count": null,
   "id": "07498755",
   "metadata": {},
   "outputs": [
    {
     "ename": "",
     "evalue": "",
     "output_type": "error",
     "traceback": [
      "\u001b[1;31m'Python 3.12.0'(으)로 셀을 실행하려면 ipykernel 패키지가 필요합니다.\n",
      "\u001b[1;31m필요한 패키지를 사용하여 <a href='command:jupyter.createPythonEnvAndSelectController'>Python 환경 만들기</a>\n",
      "\u001b[1;31m또는 다음 명령을 사용하여 'ipykernel'을(를) 설치합니다. '/usr/local/bin/python3 -m pip install ipykernel -U --user --force-reinstall'"
     ]
    }
   ],
   "source": [
    "# 자동차 클래스를 만든다\n",
    "class Car:\n",
    "    def __init__(self, color, speed):\n",
    "        self.color = color      # 속성\n",
    "        self.speed = speed      # 속성\n",
    "\n",
    "    def drive(self):            # 메서드\n",
    "        print(f\"{self.color} 차가 {self.speed}km/h로 달립니다.\")\n"
   ]
  },
  {
   "cell_type": "code",
   "execution_count": null,
   "id": "66f9e3d6",
   "metadata": {},
   "outputs": [],
   "source": [
    "my_car = Car(\"빨간색\", 60)  # 객체 생성 (입력)\n",
    "my_car.drive()             # 메서드 실행 (출력)"
   ]
  },
  {
   "cell_type": "markdown",
   "id": "6bb33caa",
   "metadata": {},
   "source": [
    "## 3. 메서드와 입출력 확인하기"
   ]
  },
  {
   "cell_type": "code",
   "execution_count": null,
   "id": "d2c32d5e",
   "metadata": {},
   "outputs": [],
   "source": [
    "class Calculator:\n",
    "    def __init__(self):\n",
    "        self.result = 0   # 초기값\n",
    "\n",
    "    def add(self, num):\n",
    "        self.result += num\n",
    "        return self.result\n",
    "\n",
    "    def reset(self):\n",
    "        self.result = 0\n"
   ]
  },
  {
   "cell_type": "code",
   "execution_count": null,
   "id": "1cab819e",
   "metadata": {},
   "outputs": [],
   "source": [
    "calc = Calculator()\n",
    "print(calc.add(10))\n",
    "print(calc.add(5))\n",
    "calc.reset()\n",
    "print(calc.add(3))"
   ]
  },
  {
   "cell_type": "markdown",
   "id": "1baf6fbe",
   "metadata": {},
   "source": [
    "## 4. 점(`.`)을 쓰고 뭘 쳐야할지 모를 때?"
   ]
  },
  {
   "cell_type": "code",
   "execution_count": null,
   "id": "c93a6dfd",
   "metadata": {},
   "outputs": [],
   "source": [
    "print(dir(calc))"
   ]
  },
  {
   "cell_type": "code",
   "execution_count": null,
   "id": "18117658",
   "metadata": {},
   "outputs": [],
   "source": [
    "help(calc.add)"
   ]
  },
  {
   "cell_type": "markdown",
   "id": "700907bd",
   "metadata": {},
   "source": [
    "## 5. 남이 만든 모듈 (예: LangChain) 사용할 때"
   ]
  },
  {
   "cell_type": "code",
   "execution_count": null,
   "id": "f3348f67",
   "metadata": {},
   "outputs": [],
   "source": [
    "# 아래 코드는 LangChain 설치 및 키 설정이 필요합니다.\n",
    "# from langchain.chat_models import ChatOpenAI\n",
    "# llm = ChatOpenAI(temperature=0.7)\n",
    "# llm.predict(\"오늘 날씨 어때?\")\n",
    "# print(dir(llm))\n",
    "# help(llm.predict)\n"
   ]
  },
  {
   "cell_type": "markdown",
   "id": "e8bae43d",
   "metadata": {},
   "source": [
    "## 6. 초보자 스터디 실습 팁\n",
    "\n",
    "### 실습 루틴 예시:\n",
    "\n",
    "1. 직접 클래스 만들어보기  \n",
    "2. `.add`, `.reset` 등 메서드 실습  \n",
    "3. `dir()` / `help()` 활용 연습  \n",
    "4. LangChain 같은 외부 모듈 가져와서 객체 생성 후 구조 확인\n"
   ]
  },
  {
   "cell_type": "markdown",
   "id": "041397b4",
   "metadata": {},
   "source": [
    "## 7. 코드 리뷰식 예제 설명"
   ]
  },
  {
   "cell_type": "code",
   "execution_count": null,
   "id": "e3a52f9a",
   "metadata": {},
   "outputs": [],
   "source": [
    "class Person:\n",
    "    def __init__(self, name):\n",
    "        self.name = name   # 사람 이름 저장\n",
    "\n",
    "    def say_hello(self):\n",
    "        print(f\"안녕하세요. 저는 {self.name}입니다.\")\n",
    "\n",
    "me = Person(\"준호\")\n",
    "me.say_hello()"
   ]
  },
  {
   "cell_type": "markdown",
   "id": "7e716bdb",
   "metadata": {},
   "source": [
    "## 🧭 8. 결론\n",
    "\n",
    "- 객체는 \"데이터 + 기능\"이 합쳐진 단위  \n",
    "- 클래스를 통해 객체를 만들 수 있음  \n",
    "- `.메서드()` 또는 `.속성` 형식으로 사용  \n",
    "- `dir()`, `help()`를 활용해서 모듈 내부 구조를 파악하면 어렵지 않음\n"
   ]
  }
 ],
 "metadata": {
  "kernelspec": {
   "display_name": "Python 3",
   "language": "python",
   "name": "python3"
  },
  "language_info": {
   "name": "python",
   "version": "3.12.0"
  }
 },
 "nbformat": 4,
 "nbformat_minor": 5
}
