{
 "cells": [
  {
   "cell_type": "markdown",
   "metadata": {},
   "source": [
    "## 예제 정답"
   ]
  },
  {
   "cell_type": "code",
   "execution_count": 1,
   "metadata": {},
   "outputs": [
    {
     "name": "stdout",
     "output_type": "stream",
     "text": [
      "1 2 3 4 5 6 7 8 9 10 "
     ]
    }
   ],
   "source": [
    "#예제1\n",
    "for i in range(1,11):\n",
    "    print(i,end=' ')"
   ]
  },
  {
   "cell_type": "code",
   "execution_count": 7,
   "metadata": {},
   "outputs": [
    {
     "name": "stdout",
     "output_type": "stream",
     "text": [
      "**********\n",
      "**********\n",
      "**********\n",
      "**********\n"
     ]
    }
   ],
   "source": [
    "#예제2\n",
    "for i in range(4):\n",
    "    for i in range(10):\n",
    "        print('*', end='')\n",
    "    print()"
   ]
  },
  {
   "cell_type": "code",
   "execution_count": null,
   "metadata": {},
   "outputs": [
    {
     "name": "stdout",
     "output_type": "stream",
     "text": [
      "*\n",
      "**\n",
      "***\n",
      "****\n",
      "*****\n",
      "******\n"
     ]
    }
   ],
   "source": [
    "#예제3\n",
    "n = int(input(\"입력하시오\"))\n",
    "\n",
    "for i in range(n):\n",
    "    for j in range(i+1):\n",
    "        print(\"*\", end=\"\")\n",
    "    print()"
   ]
  },
  {
   "cell_type": "code",
   "execution_count": null,
   "metadata": {},
   "outputs": [
    {
     "name": "stdout",
     "output_type": "stream",
     "text": [
      "******\n",
      "*****\n",
      "****\n",
      "***\n",
      "**\n",
      "*\n"
     ]
    }
   ],
   "source": [
    "#예제4\n",
    "n=6\n",
    "# 1\n",
    "for i in range(n,0,-1):\n",
    "    print('*' * i)\n",
    "\n",
    "# 2    \n",
    "for i in range(n):\n",
    "    print(\"*\" * (n-i))\n",
    "\n"
   ]
  },
  {
   "cell_type": "code",
   "execution_count": 2,
   "metadata": {},
   "outputs": [
    {
     "name": "stdout",
     "output_type": "stream",
     "text": [
      "*********** \n",
      " ********* \n",
      "  ******* \n",
      "   ***** \n",
      "    *** \n",
      "     * \n"
     ]
    }
   ],
   "source": [
    "#예제5\n",
    "# n=7\n",
    "# for i in range(n//2 + 1):\n",
    "#     print(' ' * i + '*' * (n-2*i))\n",
    "\n",
    "n = int(input(\"높이 입력\"))\n",
    "for i in range(n):\n",
    "    print(\" \"*i, end=\"\")\n",
    "    print(\"*\"*((n-i)*2-1), end=\"\")\n",
    "    print(\" \")"
   ]
  },
  {
   "cell_type": "code",
   "execution_count": null,
   "metadata": {},
   "outputs": [
    {
     "name": "stdout",
     "output_type": "stream",
     "text": [
      "   *\n",
      "  ***\n",
      " *****\n",
      "*******\n",
      " *****\n",
      "  ***\n",
      "   *\n"
     ]
    }
   ],
   "source": [
    "#예제6\n",
    "#위쪽 삼각형\n",
    "n = int(input(\"크기를 입력하세요: \"))\n",
    "\n",
    "# 위쪽 삼각형\n",
    "for i in range(n):\n",
    "    print(\" \" * (n - i - 1) + \"*\" * (2 * i + 1))\n",
    "\n",
    "# 아래 삼각형\n",
    "for i in range(n -2, -1, -1):\n",
    "    print(\" \" * (n - i - 1)  + \"*\" * (2 * i + 1))"
   ]
  },
  {
   "cell_type": "code",
   "execution_count": 4,
   "metadata": {},
   "outputs": [
    {
     "name": "stdout",
     "output_type": "stream",
     "text": [
      "12은 소수가 아닙니다\n"
     ]
    }
   ],
   "source": [
    "# 예제7\n",
    "def is_prime(n):\n",
    "    if n < 2:\n",
    "        return False\n",
    "    elif n == 2:\n",
    "        return True\n",
    "\n",
    "    for i in range(2, n):\n",
    "        if n % i == 0:  # n이 i로 나누어 떨어진다\n",
    "            return False\n",
    "\n",
    "    return True\n",
    "\n",
    "n = int(input(\"number 입력 : \"))\n",
    "if is_prime(n):\n",
    "    print(f\"{n}은 소수입니다.\")\n",
    "else:\n",
    "    print(f\"{n}은 소수가 아닙니다\")"
   ]
  },
  {
   "cell_type": "markdown",
   "metadata": {},
   "source": [
    "#### 단어 추측 게임\n",
    "문제 설명:\n",
    "> 컴퓨터가 하나의 단어를 선택하여 숨깁니다. 사용자는 이 단어를 하나의 문자씩 추측합니다. 사용자가 입력한 문자가 단어에 포함되어 있으면, 해당 문자가 표시되고 그렇지 않으면 횟수를 잃습니다. 사용자가 주어진 횟수 내에 모든 문자를 맞추면 승리하고, 그렇지 않으면 패배합니다.\n",
    "구체적인 조건:\n",
    "- 컴퓨터는 단어 리스트에서 무작위로 하나의 단어를 선택합니다.\n",
    "- 사용자는 단어의 길이만큼 \"\\_\"로 표시된 빈칸을 보게 되며, 매번 한 글자를 추측합니다.\n",
    "- 사용자가 맞추지 못한 문자가 있으면 기회가 줄어듭니다.\n",
    "- 사용자가 모든 문자를 맞추면 게임이 종료되고 \"정답입니다!\"라는 메시지가 출력됩니다.\n",
    "- 주어진 기회 내에 단어를 맞추지 못하면 \"기회를 모두 사용하셨습니다. 정답은 [단어]입니다.\"가 출력됩니다."
   ]
  },
  {
   "cell_type": "code",
   "execution_count": 6,
   "metadata": {},
   "outputs": [],
   "source": [
    "#예제8\n",
    "#import nltk\n",
    "#import random\n",
    "#from nltk.corpus import words\n",
    "# # 첫 실행 시 nltk 데이터를 다운로드해야 합니다.\n",
    "#nltk.download(\"words\")\n",
    "word_list = [\n",
    "\"Apple\",\n",
    "\"Elephant\",\n",
    "\"Apple\",\n",
    "\"Buffalo\",\n",
    "\"Capture\",\n",
    "\"Lantern\",\n",
    "\"Mystery\",\n",
    "\"Pirate\",\n",
    "\"Volcano\",\n",
    "\"Diamond\",\n",
    "\"Theater\",\n",
    "\"Journey\",\n",
    "\"Galaxy\",\n",
    "\"Octopus\",\n",
    "\"Tremble\",\n",
    "\"Blanket\",\n",
    "\"Serpent\",\n",
    "\"Network\",\n",
    "\"Phoenix\",\n",
    "\"Foreman\",\n",
    "\"Pyramid\",\n",
    "\"Sunrise\",\n",
    "\"Fortress\",\n",
    "]"
   ]
  },
  {
   "cell_type": "code",
   "execution_count": 7,
   "metadata": {},
   "outputs": [
    {
     "name": "stdout",
     "output_type": "stream",
     "text": [
      "단어를 맞춰보세요! 각 글자를 하나씩 추측하세요.\n",
      "_ _ _ _ _ _ _\n",
      "틀렸습니다. 남은 기회: 9\n",
      "_ _ _ _ _ _ _\n",
      "틀렸습니다. 남은 기회: 8\n",
      "_ _ _ _ _ _ _\n",
      "맞았습니다!\n",
      "s _ _ _ _ s _\n",
      "맞았습니다!\n",
      "s _ _ _ _ s _\n",
      "맞았습니다!\n",
      "s u _ _ _ s _\n",
      "맞았습니다!\n",
      "s u n _ _ s _\n",
      "맞았습니다!\n",
      "s u n r _ s _\n",
      "맞았습니다!\n",
      "s u n r i s _\n",
      "맞았습니다!\n",
      "s u n r i s e\n",
      "정답입니다! 단어: sunrise\n"
     ]
    }
   ],
   "source": [
    "# 정답\n",
    "import sys\n",
    "import random\n",
    "\n",
    "selected_word = random.choice(word_list).lower()  # 단어 목록에서 무작위로 단어 선택\n",
    "\n",
    "\n",
    "guessed_word = [\"_\"] * len(selected_word)\n",
    "attempts = 10\n",
    "used_letters = []  # 사용한 글자 목록을 저장할 리스트\n",
    "\n",
    "print(\"단어를 맞춰보세요! 각 글자를 하나씩 추측하세요.\")\n",
    "print(\" \".join(guessed_word))\n",
    "\n",
    "while attempts > 0:\n",
    "    sys.stdout.flush()  # 출력 버퍼를 비웁니다.\n",
    "\n",
    "    guess = input(\"글자를 입력하세요: \").lower()\n",
    "\n",
    "    if guess in used_letters:  # 사용한 글자 목록에 이미 있는 글자인지 확인\n",
    "        print(\"이미 사용한 글자입니다. 다른 글자를 선택하세요.\")\n",
    "        continue\n",
    "\n",
    "    used_letters.append(guess)  # 사용한 글자 목록에 추가\n",
    "\n",
    "    if guess in selected_word:\n",
    "        for idx, char in enumerate(selected_word):\n",
    "            if char == guess:\n",
    "                guessed_word[idx] = guess\n",
    "        print(\"맞았습니다!\")\n",
    "\n",
    "    else:\n",
    "        attempts -= 1\n",
    "        print(f\"틀렸습니다. 남은 기회: {attempts}\")\n",
    "\n",
    "    print(\" \".join(guessed_word))\n",
    "\n",
    "    if \"_\" not in guessed_word:\n",
    "        print(\"정답입니다! 단어:\", selected_word)\n",
    "        break\n",
    "\n",
    "else:\n",
    "    print(f\"기회를 모두 사용하셨습니다. 정답은 {selected_word}입니다.\")"
   ]
  }
 ],
 "metadata": {
  "kernelspec": {
   "display_name": "base",
   "language": "python",
   "name": "python3"
  },
  "language_info": {
   "codemirror_mode": {
    "name": "ipython",
    "version": 3
   },
   "file_extension": ".py",
   "mimetype": "text/x-python",
   "name": "python",
   "nbconvert_exporter": "python",
   "pygments_lexer": "ipython3",
   "version": "3.12.4"
  }
 },
 "nbformat": 4,
 "nbformat_minor": 2
}
