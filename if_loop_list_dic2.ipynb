{
 "cells": [
  {
   "cell_type": "markdown",
   "id": "87645e8e",
   "metadata": {},
   "source": [
    "# 🧠 파이썬 조건문, 반복문, 리스트, 딕셔너리 - 구조적 주석 정리"
   ]
  },
  {
   "cell_type": "markdown",
   "id": "7f843ea2",
   "metadata": {},
   "source": [
    "## ✅ 조건문 예제 설명"
   ]
  },
  {
   "cell_type": "markdown",
   "id": "f35bf778",
   "metadata": {},
   "source": [
    "- `age = 27`: 나이를 27로 설정합니다  \n",
    "- `if age < 20`: 조건 1: 나이가 20보다 작으면  \n",
    "- `elif age < 65`: 조건 2: 위 조건이 거짓이고, 나이가 65보다 작으면  \n",
    "  - `elif`는 \"그렇지 않다면, 대신 이 조건을 확인해봐\" 라는 의미입니다  \n",
    "- `else`: 위의 모든 조건이 거짓일 경우 실행되는 블록입니다  \n",
    "  - `else`는 \"그 외의 모든 경우\"를 의미합니다  \n"
   ]
  },
  {
   "cell_type": "code",
   "execution_count": null,
   "id": "b2e2044c",
   "metadata": {},
   "outputs": [],
   "source": [
    "age = 27\n",
    "\n",
    "if age < 20: \n",
    "    print(\"청소년입니다.\")\n",
    "elif age < 65:\n",
    "    print(\"성인입니다.\")\n",
    "else:\n",
    "    print(\"무료로 이용하세요!\")\n"
   ]
  },
  {
   "cell_type": "markdown",
   "id": "ba4d755a",
   "metadata": {},
   "source": [
    "## ✅ 반복문 예제 설명"
   ]
  },
  {
   "cell_type": "markdown",
   "id": "9dd0ac46",
   "metadata": {},
   "source": [
    "- `fruits = [...]`: 과일 이름들이 담긴 리스트입니다  \n",
    "- `for fruit in fruits:`: 리스트의 요소를 하나씩 꺼내며 반복  \n",
    "- `print(fruit)`: 각 요소를 출력합니다  \n"
   ]
  },
  {
   "cell_type": "code",
   "execution_count": null,
   "id": "8d4cbd19",
   "metadata": {},
   "outputs": [],
   "source": [
    "fruits = ['사과', '배', '감', '귤']\n",
    "\n",
    "for fruit in fruits:\n",
    "    print(fruit)\n"
   ]
  },
  {
   "cell_type": "markdown",
   "id": "1bef88de",
   "metadata": {},
   "source": [
    "## ✅ 리스트 예제 설명"
   ]
  },
  {
   "cell_type": "markdown",
   "id": "66b32a90",
   "metadata": {},
   "source": [
    "- `a = [1, 5, 2]`: 리스트 생성  \n",
    "- `len(a)`: 리스트의 길이 확인  \n",
    "- `a[0]`: 첫 번째 요소  \n",
    "- `a[1:3]`: 인덱스 1~2 슬라이싱  \n",
    "- `append()`: 요소 추가  \n",
    "- `+= [...]`: 리스트에 여러 개 요소 추가  \n"
   ]
  },
  {
   "cell_type": "code",
   "execution_count": null,
   "id": "c501b062",
   "metadata": {},
   "outputs": [],
   "source": [
    "a = [1, 5, 2]\n",
    "print(len(a))\n",
    "print(a[0])\n",
    "print(a[1:3])\n",
    "\n",
    "a.append(10)\n",
    "print(a)\n",
    "\n",
    "a += [20, 30]\n",
    "print(a)\n"
   ]
  },
  {
   "cell_type": "markdown",
   "id": "426f5d7a",
   "metadata": {},
   "source": [
    "## ✅ 딕셔너리 예제 설명"
   ]
  },
  {
   "cell_type": "markdown",
   "id": "dbd002e5",
   "metadata": {},
   "source": [
    "- `person = {...}`: 이름과 나이를 가진 딕셔너리 생성  \n",
    "- `person[\"name\"]`: name 키의 값 출력  \n",
    "- `person[\"age\"] = ...`: 값 수정  \n",
    "- `person[\"height\"] = ...`: 새 키 추가  \n",
    "- `person[\"score\"] = {...}`: 중첩된 딕셔너리 추가  \n",
    "- `person[\"score\"][\"science\"]`: 중첩된 딕셔너리의 값 접근  \n"
   ]
  },
  {
   "cell_type": "code",
   "execution_count": null,
   "id": "47f91fe5",
   "metadata": {},
   "outputs": [],
   "source": [
    "person = {\"name\": \"Alice\", \"age\": 16}\n",
    "print(person[\"name\"])\n",
    "\n",
    "person[\"age\"] = 17\n",
    "person[\"height\"] = 163\n",
    "print(person)\n",
    "\n",
    "person[\"score\"] = {\"math\": 81, \"science\": 92}\n",
    "print(person[\"score\"][\"science\"])\n"
   ]
  },
  {
   "cell_type": "markdown",
   "id": "eba89581",
   "metadata": {},
   "source": [
    "## ✅ 리스트 + 딕셔너리 예제 설명"
   ]
  },
  {
   "cell_type": "markdown",
   "id": "2106e795",
   "metadata": {},
   "source": [
    "- `people = [...]`: 딕셔너리를 요소로 갖는 리스트  \n",
    "- `people[2]['score']['science']`: 세 번째 사람의 과학 점수 출력  \n"
   ]
  },
  {
   "cell_type": "code",
   "execution_count": null,
   "id": "88cadd89",
   "metadata": {},
   "outputs": [],
   "source": [
    "people = [\n",
    "    {'name': 'bob', 'age': 20, 'score':{'math':90,'science':70}},\n",
    "    {'name': 'carry', 'age': 38, 'score':{'math':40,'science':72}},\n",
    "    {'name': 'smith', 'age': 28, 'score':{'math':80,'science':90}},\n",
    "    {'name': 'john', 'age': 34, 'score':{'math':75,'science':100}}\n",
    "]\n",
    "\n",
    "print(people[2]['score']['science'])\n"
   ]
  }
 ],
 "metadata": {
  "kernelspec": {
   "display_name": ".venv",
   "language": "python",
   "name": "python3"
  },
  "language_info": {
   "name": "python",
   "version": "3.12.10"
  }
 },
 "nbformat": 4,
 "nbformat_minor": 5
}
