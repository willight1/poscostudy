{
 "cells": [
  {
   "cell_type": "markdown",
   "id": "74a83f97",
   "metadata": {},
   "source": [
    "### ✅ 조건문 (if, elif, else)"
   ]
  },
  {
   "cell_type": "code",
   "execution_count": 2,
   "id": "dfd0ab5e",
   "metadata": {},
   "outputs": [
    {
     "name": "stdout",
     "output_type": "stream",
     "text": [
      "그냥 걸어볼까?...\n"
     ]
    }
   ],
   "source": [
    "money = 20000\n",
    "if money > 38000:\n",
    "    print(\"기차 타자!\")  # 조건이 참일 때 실행\n",
    "else:\n",
    "    print(\"그냥 걸어볼까?...\")  # 조건이 거짓일 때 실행\n"
   ]
  },
  {
   "cell_type": "code",
   "execution_count": 5,
   "id": "5d0fc7db",
   "metadata": {},
   "outputs": [
    {
     "name": "stdout",
     "output_type": "stream",
     "text": [
      "성인입니다.\n"
     ]
    }
   ],
   "source": [
    "age = 27 \n",
    "\n",
    "if age < 20:\n",
    "    print(\"청소년입니다.\")\n",
    "elif age < 65:\n",
    "    print(\"성인입니다.\")\n",
    "else:\n",
    "    print(\"무료로 이용하세요!\")\n"
   ]
  },
  {
   "cell_type": "markdown",
   "id": "c5aa5f78",
   "metadata": {},
   "source": [
    "### ✅ 반복문 (for)"
   ]
  },
  {
   "cell_type": "code",
   "execution_count": 1,
   "id": "bcd23b03",
   "metadata": {},
   "outputs": [
    {
     "name": "stdout",
     "output_type": "stream",
     "text": [
      "사과\n",
      "배\n",
      "감\n",
      "귤\n"
     ]
    }
   ],
   "source": [
    "fruits = ['사과', '배', '감', '귤']\n",
    "for fruit in fruits:\n",
    "    print(fruit)  # 리스트의 요소를 하나씩 출력\n"
   ]
  },
  {
   "cell_type": "code",
   "execution_count": null,
   "id": "8aa7788b",
   "metadata": {},
   "outputs": [],
   "source": [
    "# 나이가 20보다 큰 사람만 출력\n",
    "people = [\n",
    "    {'name': 'bob', 'age': 20},\n",
    "    {'name': 'carry', 'age': 38},\n",
    "    {'name': 'john', 'age': 7},\n",
    "    {'name': 'smith', 'age': 17},\n",
    "    {'name': 'ben', 'age': 27},\n",
    "    {'name': 'bobby', 'age': 57},\n",
    "    {'name': 'red', 'age': 32},\n",
    "    {'name': 'queen', 'age': 25}\n",
    "]\n",
    "\n",
    "for person in people:\n",
    "    if person['age'] > 20:\n",
    "        print(person['name'])\n"
   ]
  },
  {
   "cell_type": "markdown",
   "id": "1f6aa763",
   "metadata": {},
   "source": [
    "### ✅ 리스트 기본과 활용"
   ]
  },
  {
   "cell_type": "code",
   "execution_count": null,
   "id": "bd88a54a",
   "metadata": {},
   "outputs": [],
   "source": [
    "a = [1, 5, 2]\n",
    "print(len(a))     # 리스트 길이 출력\n",
    "print(a[0])       # 인덱싱\n",
    "print(a[1:3])     # 슬라이싱\n",
    "\n",
    "a.append(10)      # 추가\n",
    "print(a)\n",
    "\n",
    "a += [20, 30]\n",
    "print(a)\n"
   ]
  },
  {
   "cell_type": "markdown",
   "id": "8c477cba",
   "metadata": {},
   "source": [
    "### ✅ 딕셔너리 기본과 활용"
   ]
  },
  {
   "cell_type": "code",
   "execution_count": null,
   "id": "1d0afffb",
   "metadata": {},
   "outputs": [],
   "source": [
    "person = {\"name\": \"Alice\", \"age\": 16}\n",
    "print(person[\"name\"])  # 키로 값 접근\n",
    "person[\"age\"] = 17     # 값 수정\n",
    "person[\"height\"] = 163 # 키 추가\n",
    "print(person)\n",
    "\n",
    "# 중첩된 딕셔너리\n",
    "person[\"score\"] = {\"math\": 81, \"science\": 92}\n",
    "print(person[\"score\"][\"science\"])  # 92\n"
   ]
  },
  {
   "cell_type": "markdown",
   "id": "633ae93c",
   "metadata": {},
   "source": [
    "### ✅ 리스트 + 딕셔너리 활용"
   ]
  },
  {
   "cell_type": "code",
   "execution_count": null,
   "id": "7aa6fd12",
   "metadata": {},
   "outputs": [],
   "source": [
    "people = [\n",
    "    {'name': 'bob', 'age': 20, 'score':{'math':90,'science':70}},\n",
    "    {'name': 'carry', 'age': 38, 'score':{'math':40,'science':72}},\n",
    "    {'name': 'smith', 'age': 28, 'score':{'math':80,'science':90}},\n",
    "    {'name': 'john', 'age': 34, 'score':{'math':75,'science':100}}\n",
    "]\n",
    "\n",
    "# smith의 science 점수 출력\n",
    "print(people[2]['score']['science'])  # 90\n"
   ]
  }
 ],
 "metadata": {
  "kernelspec": {
   "display_name": ".venv",
   "language": "python",
   "name": "python3"
  },
  "language_info": {
   "codemirror_mode": {
    "name": "ipython",
    "version": 3
   },
   "file_extension": ".py",
   "mimetype": "text/x-python",
   "name": "python",
   "nbconvert_exporter": "python",
   "pygments_lexer": "ipython3",
   "version": "3.12.10"
  }
 },
 "nbformat": 4,
 "nbformat_minor": 5
}
