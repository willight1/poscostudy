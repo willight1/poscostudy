{
 "cells": [
  {
   "cell_type": "markdown",
   "id": "ebfdac48",
   "metadata": {},
   "source": [
    "#  클래스 코드 흐름 이해하기\n",
    "\n",
    "이 노트북은 단순히 코드를 실행하는 데 그치지 않고,  \n",
    "**\"어떤 흐름으로 클래스가 동작하는지\"**, 즉\n",
    "\n",
    "- 클래스가 어떤 역할을 하고\n",
    "- 객체가 어디서 생성되며\n",
    "- 메서드가 언제 호출되고\n",
    "- 어떤 데이터가 흐르는지를\n",
    "\n",
    "**사람처럼 따라가며 이해할 수 있도록** 설명합니다.\n",
    "\n",
    "---\n",
    "\n",
    "###  흐름 요약\n",
    "\n",
    "1. `class` 키워드로 클래스를 정의합니다. (설계도 만들기)\n",
    "2. `__init__` 생성자를 통해 객체가 만들어질 때 속성이 저장됩니다.\n",
    "3. 객체를 변수에 담습니다. (예: `person1 = Person(\"지민\", 25)`)\n",
    "4. 객체를 통해 메서드를 호출합니다. (`person1.introduce()`)\n",
    "5. `self`는 해당 객체 자신을 뜻하며, 메서드 내부에서 속성에 접근할 때 사용됩니다.\n",
    "6. 출력이나 계산 등은 메서드 안에서 처리되어 실행됩니다.\n",
    "\n",
    "---\n",
    "\n",
    " 이 흐름을 염두에 두고 아래 셀들을 하나씩 실행해보세요!\n"
   ]
  },
  {
   "cell_type": "markdown",
   "id": "f48a580c",
   "metadata": {},
   "source": [
    "# 파이썬 클래스 기초 학습 ( 상세 설명 )"
   ]
  },
  {
   "cell_type": "markdown",
   "id": "efe76e26",
   "metadata": {},
   "source": [
    "## ✅ 1. 클래스란 무엇인가?"
   ]
  },
  {
   "cell_type": "code",
   "execution_count": 1,
   "id": "0c13007c",
   "metadata": {},
   "outputs": [
    {
     "name": "stdout",
     "output_type": "stream",
     "text": [
      "멍멍!\n"
     ]
    }
   ],
   "source": [
    "class Dog:  # class: 클래스를 정의하는 키워드 / Dog: 클래스 이름\n",
    "    def bark(self):  # def: 함수 정의 키워드 / bark: 함수 이름 / self: 객체 자신\n",
    "        print(\"멍멍!\")  # print(): 문자열을 출력하는 내장 함수\n",
    "\n",
    "my_dog = Dog()  # my_dog: Dog 클래스의 인스턴스 생성 / Dog(): 클래스 호출 → 객체 생성\n",
    "my_dog.bark()  # .bark(): my_dog 객체의 bark 메서드 실행\n"
   ]
  },
  {
   "cell_type": "markdown",
   "id": "3d0661e5",
   "metadata": {},
   "source": [
    "## ✅ 2. 생성자 `__init__` 이해하기"
   ]
  },
  {
   "cell_type": "code",
   "execution_count": null,
   "id": "75549e55",
   "metadata": {},
   "outputs": [],
   "source": [
    "class Dog:  # Dog라는 이름의 클래스 정의\n",
    "    def __init__(self, name):  # __init__: 생성자 함수 / name: 입력값\n",
    "        self.name = name  # self.name: 객체의 속성 / = name: 전달받은 값을 저장\n",
    "\n",
    "    def bark(self):  # bark: 클래스의 메서드\n",
    "        print(f\"{self.name}가 멍멍 짖습니다!\")  # self.name: 위에서 저장한 속성 사용\n",
    "\n",
    "dog1 = Dog(\"초코\")  # Dog 객체 생성 / \"초코\"를 name에 전달\n",
    "dog1.bark()  # bark 메서드 호출 → \"초코가 멍멍 짖습니다!\"\n"
   ]
  },
  {
   "cell_type": "markdown",
   "id": "ebbbb4d6",
   "metadata": {},
   "source": [
    "## ✅ 3. self는 왜 필요할까?"
   ]
  },
  {
   "cell_type": "code",
   "execution_count": null,
   "id": "82939680",
   "metadata": {},
   "outputs": [],
   "source": [
    "class Student:  # Student 클래스 정의\n",
    "    def __init__(self, name):  # name을 전달받는 생성자\n",
    "        self.name = name  # self.name: 이 객체의 이름 속성 지정\n",
    "\n",
    "    def introduce(self):  # introduce: 자기소개 함수\n",
    "        print(f\"안녕하세요, 저는 {self.name}입니다.\")  # self.name 사용해 출력\n",
    "\n",
    "s1 = Student(\"지민\")  # Student 객체 생성, 이름은 \"지민\"\n",
    "s1.introduce()  # 메서드 호출 → \"안녕하세요, 저는 지민입니다.\"\n"
   ]
  },
  {
   "cell_type": "markdown",
   "id": "189fe716",
   "metadata": {},
   "source": [
    "## ✅ 4. 여러 속성 저장하고 출력하기"
   ]
  },
  {
   "cell_type": "code",
   "execution_count": null,
   "id": "df16e486",
   "metadata": {},
   "outputs": [],
   "source": [
    "class Book:  # Book 클래스 정의\n",
    "    def __init__(self, title, author):  # 두 개의 속성 전달\n",
    "        self.title = title  # 책 제목 저장\n",
    "        self.author = author  # 저자 저장\n",
    "\n",
    "    def info(self):  # info: 책 정보 출력 함수\n",
    "        print(f\"제목: {self.title}, 저자: {self.author}\")  # 저장된 속성 출력\n",
    "\n",
    "book1 = Book(\"파이썬 배우기\", \"홍길동\")  # Book 객체 생성\n",
    "book1.info()  # info 메서드 호출\n"
   ]
  },
  {
   "cell_type": "markdown",
   "id": "674e1330",
   "metadata": {},
   "source": [
    "## ✅ 5. 메서드에서 연산/계산하기"
   ]
  },
  {
   "cell_type": "code",
   "execution_count": null,
   "id": "b48b450a",
   "metadata": {},
   "outputs": [],
   "source": [
    "class Rectangle:  # Rectangle 클래스 정의\n",
    "    def __init__(self, width, height):  # 가로, 세로 입력\n",
    "        self.width = width  # 가로 길이 저장\n",
    "        self.height = height  # 세로 길이 저장\n",
    "\n",
    "    def area(self):  # 넓이 계산 메서드\n",
    "        return self.width * self.height  # 곱셈 연산\n",
    "\n",
    "    def perimeter(self):  # 둘레 계산 메서드\n",
    "        return 2 * (self.width + self.height)  # 둘레 공식\n",
    "\n",
    "r = Rectangle(4, 6)  # 객체 생성\n",
    "print(\"넓이:\", r.area())  # 넓이 출력\n",
    "print(\"둘레:\", r.perimeter())  # 둘레 출력\n"
   ]
  }
 ],
 "metadata": {
  "kernelspec": {
   "display_name": ".venv",
   "language": "python",
   "name": "python3"
  },
  "language_info": {
   "codemirror_mode": {
    "name": "ipython",
    "version": 3
   },
   "file_extension": ".py",
   "mimetype": "text/x-python",
   "name": "python",
   "nbconvert_exporter": "python",
   "pygments_lexer": "ipython3",
   "version": "3.12.10"
  }
 },
 "nbformat": 4,
 "nbformat_minor": 5
}
